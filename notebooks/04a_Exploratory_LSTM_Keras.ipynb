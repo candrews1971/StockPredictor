{
 "cells": [
  {
   "cell_type": "code",
   "execution_count": 1,
   "metadata": {},
   "outputs": [
    {
     "name": "stderr",
     "output_type": "stream",
     "text": [
      "2024-07-30 12:55:13.863169: E external/local_xla/xla/stream_executor/cuda/cuda_dnn.cc:9261] Unable to register cuDNN factory: Attempting to register factory for plugin cuDNN when one has already been registered\n",
      "2024-07-30 12:55:13.863218: E external/local_xla/xla/stream_executor/cuda/cuda_fft.cc:607] Unable to register cuFFT factory: Attempting to register factory for plugin cuFFT when one has already been registered\n",
      "2024-07-30 12:55:13.864011: E external/local_xla/xla/stream_executor/cuda/cuda_blas.cc:1515] Unable to register cuBLAS factory: Attempting to register factory for plugin cuBLAS when one has already been registered\n",
      "2024-07-30 12:55:13.871033: I tensorflow/core/platform/cpu_feature_guard.cc:182] This TensorFlow binary is optimized to use available CPU instructions in performance-critical operations.\n",
      "To enable the following instructions: AVX2 FMA, in other operations, rebuild TensorFlow with the appropriate compiler flags.\n",
      "2024-07-30 12:55:14.855316: W tensorflow/compiler/tf2tensorrt/utils/py_utils.cc:38] TF-TRT Warning: Could not find TensorRT\n"
     ]
    }
   ],
   "source": [
    "import pandas as pd\n",
    "import os\n",
    "import numpy as np\n",
    "import matplotlib.pyplot as plt\n",
    "import seaborn as sns\n",
    "import time\n",
    "\n",
    "import stockutils\n",
    "\n",
    "\n",
    "from sklearn.metrics import confusion_matrix\n",
    "from sklearn.model_selection import train_test_split\n",
    "from sklearn.metrics import accuracy_score, precision_score, recall_score, roc_auc_score\n",
    "from sklearn.tree import export_graphviz\n",
    "from graphviz import Source\n",
    "\n",
    "from keras.models import Sequential\n",
    "from keras.layers import LSTM, Dense, Flatten\n",
    "from keras.optimizers import Nadam, Adam\n",
    "\n",
    "from torch.utils.tensorboard import SummaryWriter\n",
    "\n",
    "#track experiments\n",
    "import wandb\n",
    "from wandb.integration.xgboost import WandbCallback\n",
    "\n",
    "# Where to save the figures\n",
    "PROJECT_ROOT_DIR = \"..\"\n",
    "CHAPTER_ID = \"exploratory_models\"\n",
    "IMAGES_PATH = os.path.join(PROJECT_ROOT_DIR, \"images\", CHAPTER_ID)\n",
    "os.makedirs(IMAGES_PATH, exist_ok=True)\n",
    "\n",
    "#targetName = \"TwoStDayAfterMajRev\"\n",
    "targetName = \"TwoStateMajorReversals\""
   ]
  },
  {
   "cell_type": "code",
   "execution_count": 147,
   "metadata": {},
   "outputs": [
    {
     "name": "stdout",
     "output_type": "stream",
     "text": [
      "(2371,)\n"
     ]
    }
   ],
   "source": [
    "stockdf, targetdf, otherdf = stockutils.import_stock_csv(\"AAPL_Advanced.csv\", target=targetName)\n",
    "y_orig = targetdf[\"Target\"]\n",
    "print(y_orig.shape)\n",
    "#targetdf.rename(columns={\"DayAfterMajorReversal\":'Target'}, inplace=True)\n",
    "#targetdf.head()"
   ]
  },
  {
   "cell_type": "markdown",
   "metadata": {},
   "source": [
    "# LSTM\n",
    "\n",
    "Note that we do not have any offset data in the current dataset, so we can split cleanly, and won't get future information contaminating our current state."
   ]
  },
  {
   "cell_type": "code",
   "execution_count": 148,
   "metadata": {},
   "outputs": [],
   "source": [
    "X_train, X_test, y_train, y_test = train_test_split(stockdf, y_orig, test_size=0.2,shuffle=False)\n",
    "\n",
    "other_test = otherdf.iloc[-y_test.shape[0]:]"
   ]
  },
  {
   "cell_type": "code",
   "execution_count": 149,
   "metadata": {},
   "outputs": [
    {
     "name": "stderr",
     "output_type": "stream",
     "text": [
      "\u001b[34m\u001b[1mwandb\u001b[0m: \u001b[33mWARNING\u001b[0m If you're specifying your api key in code, ensure this code is not shared publicly.\n",
      "\u001b[34m\u001b[1mwandb\u001b[0m: \u001b[33mWARNING\u001b[0m Consider setting the WANDB_API_KEY environment variable, or running `wandb login` from the command line.\n",
      "\u001b[34m\u001b[1mwandb\u001b[0m: Appending key for api.wandb.ai to your netrc file: /root/.netrc\n"
     ]
    },
    {
     "data": {
      "text/plain": [
       "True"
      ]
     },
     "execution_count": 149,
     "metadata": {},
     "output_type": "execute_result"
    }
   ],
   "source": [
    "wandb.login(key=\"d2e07e8a9d7ef675859816d6e8230c50ccd2846d\")"
   ]
  },
  {
   "cell_type": "code",
   "execution_count": 150,
   "metadata": {},
   "outputs": [
    {
     "data": {
      "text/plain": [
       "(1896, 23)"
      ]
     },
     "execution_count": 150,
     "metadata": {},
     "output_type": "execute_result"
    }
   ],
   "source": [
    "X_train.shape"
   ]
  },
  {
   "cell_type": "markdown",
   "metadata": {},
   "source": [
    "# Baseline metrics\n"
   ]
  },
  {
   "cell_type": "code",
   "execution_count": 151,
   "metadata": {},
   "outputs": [],
   "source": [
    "baseline_model = Sequential([\n",
    "    #Flatten(),#input_shape=[X_train.shape[0],X_train.shape[1]]),\n",
    "    Dense(100, activation='sigmoid'),\n",
    "    Dense(1, activation='sigmoid'),\n",
    "])"
   ]
  },
  {
   "cell_type": "code",
   "execution_count": 152,
   "metadata": {},
   "outputs": [],
   "source": [
    "baseline_model.compile(optimizer=\"adam\", loss='binary_crossentropy', metrics=['accuracy'])"
   ]
  },
  {
   "cell_type": "code",
   "execution_count": 153,
   "metadata": {},
   "outputs": [],
   "source": [
    "y_base = pd.Categorical(y_train).codes\n",
    "y_base_test = pd.Categorical(y_test).codes"
   ]
  },
  {
   "cell_type": "code",
   "execution_count": 154,
   "metadata": {},
   "outputs": [
    {
     "data": {
      "text/plain": [
       "array([1, 1, 1, ..., 0, 0, 0], dtype=int8)"
      ]
     },
     "execution_count": 154,
     "metadata": {},
     "output_type": "execute_result"
    }
   ],
   "source": [
    "y_base"
   ]
  },
  {
   "cell_type": "code",
   "execution_count": 155,
   "metadata": {},
   "outputs": [
    {
     "name": "stdout",
     "output_type": "stream",
     "text": [
      "Epoch 1/50\n",
      "60/60 [==============================] - 2s 13ms/step - loss: 0.6148 - accuracy: 0.6904 - val_loss: 0.6797 - val_accuracy: 0.5579\n",
      "Epoch 2/50\n",
      "60/60 [==============================] - 1s 12ms/step - loss: 0.5941 - accuracy: 0.6946 - val_loss: 0.6623 - val_accuracy: 0.5579\n",
      "Epoch 3/50\n",
      "60/60 [==============================] - 0s 8ms/step - loss: 0.5841 - accuracy: 0.7046 - val_loss: 0.6790 - val_accuracy: 0.5579\n",
      "Epoch 4/50\n",
      "60/60 [==============================] - 0s 8ms/step - loss: 0.5767 - accuracy: 0.7052 - val_loss: 0.6525 - val_accuracy: 0.5537\n",
      "Epoch 5/50\n",
      "60/60 [==============================] - 1s 8ms/step - loss: 0.5607 - accuracy: 0.7189 - val_loss: 0.6492 - val_accuracy: 0.5537\n",
      "Epoch 6/50\n",
      "60/60 [==============================] - 1s 9ms/step - loss: 0.5518 - accuracy: 0.7189 - val_loss: 0.6291 - val_accuracy: 0.7074\n",
      "Epoch 7/50\n",
      "60/60 [==============================] - 1s 9ms/step - loss: 0.5392 - accuracy: 0.7305 - val_loss: 0.6909 - val_accuracy: 0.5579\n",
      "Epoch 8/50\n",
      "60/60 [==============================] - 1s 9ms/step - loss: 0.5296 - accuracy: 0.7363 - val_loss: 0.6182 - val_accuracy: 0.7137\n",
      "Epoch 9/50\n",
      "60/60 [==============================] - 1s 9ms/step - loss: 0.5236 - accuracy: 0.7431 - val_loss: 0.6048 - val_accuracy: 0.6779\n",
      "Epoch 10/50\n",
      "60/60 [==============================] - 1s 9ms/step - loss: 0.5136 - accuracy: 0.7511 - val_loss: 0.6175 - val_accuracy: 0.6905\n",
      "Epoch 11/50\n",
      "60/60 [==============================] - 1s 9ms/step - loss: 0.5279 - accuracy: 0.7574 - val_loss: 0.6071 - val_accuracy: 0.6905\n",
      "Epoch 12/50\n",
      "60/60 [==============================] - 0s 7ms/step - loss: 0.5091 - accuracy: 0.7574 - val_loss: 0.6159 - val_accuracy: 0.6989\n",
      "Epoch 13/50\n",
      "60/60 [==============================] - 1s 8ms/step - loss: 0.5063 - accuracy: 0.7669 - val_loss: 0.6066 - val_accuracy: 0.6632\n",
      "Epoch 14/50\n",
      "60/60 [==============================] - 0s 8ms/step - loss: 0.4966 - accuracy: 0.7653 - val_loss: 0.6211 - val_accuracy: 0.6737\n",
      "Epoch 15/50\n",
      "60/60 [==============================] - 1s 9ms/step - loss: 0.4965 - accuracy: 0.7695 - val_loss: 0.6097 - val_accuracy: 0.7053\n",
      "Epoch 16/50\n",
      "60/60 [==============================] - 1s 10ms/step - loss: 0.4952 - accuracy: 0.7727 - val_loss: 0.6212 - val_accuracy: 0.6884\n",
      "Epoch 17/50\n",
      "60/60 [==============================] - 1s 9ms/step - loss: 0.4897 - accuracy: 0.7758 - val_loss: 0.6018 - val_accuracy: 0.6547\n",
      "Epoch 18/50\n",
      "60/60 [==============================] - 1s 9ms/step - loss: 0.4970 - accuracy: 0.7727 - val_loss: 0.6053 - val_accuracy: 0.6947\n",
      "Epoch 19/50\n",
      "60/60 [==============================] - 1s 11ms/step - loss: 0.4919 - accuracy: 0.7769 - val_loss: 0.6235 - val_accuracy: 0.6737\n",
      "Epoch 20/50\n",
      "60/60 [==============================] - 1s 10ms/step - loss: 0.4844 - accuracy: 0.7716 - val_loss: 0.5967 - val_accuracy: 0.6821\n",
      "Epoch 21/50\n",
      "60/60 [==============================] - 1s 9ms/step - loss: 0.4805 - accuracy: 0.7811 - val_loss: 0.5970 - val_accuracy: 0.6758\n",
      "Epoch 22/50\n",
      "60/60 [==============================] - 0s 8ms/step - loss: 0.4787 - accuracy: 0.7795 - val_loss: 0.5978 - val_accuracy: 0.6926\n",
      "Epoch 23/50\n",
      "60/60 [==============================] - 0s 8ms/step - loss: 0.4781 - accuracy: 0.7795 - val_loss: 0.5961 - val_accuracy: 0.6863\n",
      "Epoch 24/50\n",
      "60/60 [==============================] - 1s 8ms/step - loss: 0.4751 - accuracy: 0.7795 - val_loss: 0.5990 - val_accuracy: 0.6611\n",
      "Epoch 25/50\n",
      "60/60 [==============================] - 1s 9ms/step - loss: 0.4763 - accuracy: 0.7848 - val_loss: 0.5937 - val_accuracy: 0.6779\n",
      "Epoch 26/50\n",
      "60/60 [==============================] - 1s 9ms/step - loss: 0.4714 - accuracy: 0.7880 - val_loss: 0.5946 - val_accuracy: 0.6968\n",
      "Epoch 27/50\n",
      "60/60 [==============================] - 1s 10ms/step - loss: 0.4717 - accuracy: 0.7801 - val_loss: 0.5968 - val_accuracy: 0.6884\n",
      "Epoch 28/50\n",
      "60/60 [==============================] - 1s 9ms/step - loss: 0.4705 - accuracy: 0.7843 - val_loss: 0.5924 - val_accuracy: 0.6695\n",
      "Epoch 29/50\n",
      "60/60 [==============================] - 1s 9ms/step - loss: 0.4689 - accuracy: 0.7932 - val_loss: 0.6150 - val_accuracy: 0.6526\n",
      "Epoch 30/50\n",
      "60/60 [==============================] - 1s 9ms/step - loss: 0.4736 - accuracy: 0.7848 - val_loss: 0.5992 - val_accuracy: 0.6589\n",
      "Epoch 31/50\n",
      "60/60 [==============================] - 0s 8ms/step - loss: 0.4659 - accuracy: 0.7932 - val_loss: 0.5917 - val_accuracy: 0.7074\n",
      "Epoch 32/50\n",
      "60/60 [==============================] - 0s 8ms/step - loss: 0.4709 - accuracy: 0.7890 - val_loss: 0.5970 - val_accuracy: 0.6737\n",
      "Epoch 33/50\n",
      "60/60 [==============================] - 0s 8ms/step - loss: 0.4625 - accuracy: 0.7896 - val_loss: 0.6082 - val_accuracy: 0.6484\n",
      "Epoch 34/50\n",
      "60/60 [==============================] - 0s 7ms/step - loss: 0.4656 - accuracy: 0.7880 - val_loss: 0.6073 - val_accuracy: 0.6863\n",
      "Epoch 35/50\n",
      "60/60 [==============================] - 1s 9ms/step - loss: 0.4694 - accuracy: 0.7853 - val_loss: 0.5969 - val_accuracy: 0.6779\n",
      "Epoch 36/50\n",
      "60/60 [==============================] - 1s 9ms/step - loss: 0.4639 - accuracy: 0.7932 - val_loss: 0.6013 - val_accuracy: 0.6758\n",
      "Epoch 37/50\n",
      "60/60 [==============================] - 1s 9ms/step - loss: 0.4570 - accuracy: 0.7906 - val_loss: 0.5949 - val_accuracy: 0.6653\n",
      "Epoch 38/50\n",
      "60/60 [==============================] - 1s 9ms/step - loss: 0.4534 - accuracy: 0.7943 - val_loss: 0.6831 - val_accuracy: 0.5768\n",
      "Epoch 39/50\n",
      "60/60 [==============================] - 1s 11ms/step - loss: 0.4546 - accuracy: 0.7985 - val_loss: 0.6104 - val_accuracy: 0.6547\n",
      "Epoch 40/50\n",
      "60/60 [==============================] - 1s 8ms/step - loss: 0.4592 - accuracy: 0.7869 - val_loss: 0.5959 - val_accuracy: 0.6947\n",
      "Epoch 41/50\n",
      "60/60 [==============================] - 0s 8ms/step - loss: 0.4501 - accuracy: 0.7996 - val_loss: 0.5855 - val_accuracy: 0.6821\n",
      "Epoch 42/50\n",
      "60/60 [==============================] - 1s 9ms/step - loss: 0.4568 - accuracy: 0.7975 - val_loss: 0.6030 - val_accuracy: 0.6526\n",
      "Epoch 43/50\n",
      "60/60 [==============================] - 0s 8ms/step - loss: 0.4545 - accuracy: 0.7969 - val_loss: 0.5909 - val_accuracy: 0.6926\n",
      "Epoch 44/50\n",
      "60/60 [==============================] - 1s 9ms/step - loss: 0.4472 - accuracy: 0.7938 - val_loss: 0.5875 - val_accuracy: 0.7032\n",
      "Epoch 45/50\n",
      "60/60 [==============================] - 1s 9ms/step - loss: 0.4510 - accuracy: 0.7980 - val_loss: 0.5894 - val_accuracy: 0.6926\n",
      "Epoch 46/50\n",
      "60/60 [==============================] - 1s 9ms/step - loss: 0.4525 - accuracy: 0.7927 - val_loss: 0.5959 - val_accuracy: 0.6611\n",
      "Epoch 47/50\n",
      "60/60 [==============================] - 1s 9ms/step - loss: 0.4479 - accuracy: 0.7959 - val_loss: 0.6012 - val_accuracy: 0.6463\n",
      "Epoch 48/50\n",
      "60/60 [==============================] - 1s 10ms/step - loss: 0.4485 - accuracy: 0.7969 - val_loss: 0.5884 - val_accuracy: 0.6989\n",
      "Epoch 49/50\n",
      "60/60 [==============================] - 1s 9ms/step - loss: 0.4411 - accuracy: 0.8075 - val_loss: 0.5968 - val_accuracy: 0.6568\n",
      "Epoch 50/50\n",
      "60/60 [==============================] - 1s 9ms/step - loss: 0.4426 - accuracy: 0.8059 - val_loss: 0.5910 - val_accuracy: 0.6695\n"
     ]
    }
   ],
   "source": [
    "baseline_history = baseline_model.fit(X_train, \n",
    "                    y_base, \n",
    "                    epochs=50, \n",
    "                    validation_data=(X_test, y_base_test), \n",
    "                    batch_size=32, \n",
    "                    verbose=1, \n",
    "                    )"
   ]
  },
  {
   "cell_type": "markdown",
   "metadata": {},
   "source": [
    "Silly high accuracy for a simple model\n"
   ]
  },
  {
   "cell_type": "code",
   "execution_count": 156,
   "metadata": {},
   "outputs": [
    {
     "name": "stdout",
     "output_type": "stream",
     "text": [
      "15/15 [==============================] - 0s 8ms/step\n"
     ]
    }
   ],
   "source": [
    "#convert to 1 or 0 around 0.5\n",
    "bl_preds = np.round(baseline_model.predict(X_test))\n"
   ]
  },
  {
   "cell_type": "code",
   "execution_count": 157,
   "metadata": {},
   "outputs": [
    {
     "name": "stdout",
     "output_type": "stream",
     "text": [
      "Buying 6 shares for 151.60. Remaining Balance: 90.40000000000009\n",
      "Selling all remaining held shares, cash balance: $1375.8400000000001 ***********************\n",
      "Baseline model ROI: 375.84000000000015\n"
     ]
    }
   ],
   "source": [
    "#Baseline model ROI\n",
    "\n",
    "import math\n",
    "\n",
    "bl_actuals = pd.DataFrame(data=bl_preds, columns=[\"Target\"], index=y_test.index.copy())\n",
    "bl_actuals['close'] = other_test['close']\n",
    "baseline_ROI = stockutils.calculate_total_gains_bhs(bl_actuals, init_value=1000, init_price=bl_actuals['close'][0])\n",
    "print(\"Baseline model ROI:\", baseline_ROI)"
   ]
  },
  {
   "cell_type": "markdown",
   "metadata": {},
   "source": [
    "# Buy and hold ROI"
   ]
  },
  {
   "cell_type": "code",
   "execution_count": 158,
   "metadata": {},
   "outputs": [
    {
     "name": "stdout",
     "output_type": "stream",
     "text": [
      "Buying 6 shares for 151.60. Remaining Balance: 90.40000000000009\n",
      "Selling all shares for 174.55, cash balance: $1137.7000000000003\n",
      "Buying 8 shares for 138.34. Remaining Balance: 30.980000000000246\n",
      "Selling all shares for 155.74, cash balance: $1276.9000000000003\n",
      "Buying 9 shares for 134.87. Remaining Balance: 63.07000000000039\n",
      "Selling all shares for 151.29, cash balance: $1424.6800000000003\n",
      "Buying 11 shares for 125.02. Remaining Balance: 49.460000000000264\n",
      "Selling all shares for 155.33, cash balance: $1758.0900000000004\n",
      "Buying 12 shares for 145.31. Remaining Balance: 14.370000000000346\n",
      "Selling all shares for 196.45, cash balance: $2371.77\n",
      "Buying 13 shares for 174.00. Remaining Balance: 109.76999999999998\n",
      "Selling all shares for 189.70, cash balance: $2575.87\n",
      "Buying 15 shares for 171.21. Remaining Balance: 7.7199999999998\n",
      "Selling all shares for 180.71, cash balance: $2718.37\n",
      "Buying 16 shares for 166.89. Remaining Balance: 48.13000000000011\n",
      "Selling all shares for 198.11, cash balance: $3217.8900000000003\n",
      "Buying 17 shares for 182.68. Remaining Balance: 112.33000000000038\n",
      "Selling all shares for 195.18, cash balance: $3430.3900000000003\n",
      "Buying 20 shares for 165.00. Remaining Balance: 130.39000000000033\n",
      "Selling all remaining held shares, cash balance: $4415.1900000000005 ***********************\n",
      "Max attainable ROI:  3415.1900000000005\n"
     ]
    },
    {
     "data": {
      "text/plain": [
       "62.640000000000015"
      ]
     },
     "execution_count": 158,
     "metadata": {},
     "output_type": "execute_result"
    }
   ],
   "source": [
    "import math\n",
    "bah_actuals = pd.DataFrame(data=y_test, columns=[\"Target\"], index=y_test.index.copy())\n",
    "bah_actuals['close'] = other_test['close']\n",
    "max_ROI = stockutils.calculate_total_gains_bhs(bah_actuals, init_value=1000, init_price=bah_actuals['close'][0])\n",
    "print(\"Max attainable ROI: \", max_ROI)\n",
    "\n",
    "num_bought = math.floor(1000/ bah_actuals['close'][0])\n",
    "bah_ROI = (bah_actuals['close'][-1] - bah_actuals['close'][0])\n",
    "bah_ROI"
   ]
  },
  {
   "cell_type": "code",
   "execution_count": 159,
   "metadata": {},
   "outputs": [
    {
     "data": {
      "text/plain": [
       "pandas.core.series.Series"
      ]
     },
     "execution_count": 159,
     "metadata": {},
     "output_type": "execute_result"
    }
   ],
   "source": [
    "type(y_train)"
   ]
  },
  {
   "cell_type": "code",
   "execution_count": 160,
   "metadata": {},
   "outputs": [
    {
     "data": {
      "text/plain": [
       "(1896, 23)"
      ]
     },
     "execution_count": 160,
     "metadata": {},
     "output_type": "execute_result"
    }
   ],
   "source": [
    "X_train.shape"
   ]
  },
  {
   "attachments": {
    "image.png": {
     "image/png": "[encoded data removed]"
    }
   },
   "cell_type": "markdown",
   "metadata": {},
   "source": [
    "# Inputs\n",
    "\n",
    "![image.png](attachment:image.png)"
   ]
  },
  {
   "cell_type": "markdown",
   "metadata": {},
   "source": [
    "# Configuration"
   ]
  },
  {
   "cell_type": "code",
   "execution_count": 161,
   "metadata": {},
   "outputs": [],
   "source": [
    "# first, set up our configuration (will be logged)\n",
    "configs = dict(\n",
    "    num_classes = 1,\n",
    "    earlystopping_patience = 15,\n",
    "    sequence_length = 5,\n",
    "    epochs = 75,\n",
    "    optimizer = 'nadam',\n",
    "    learning_rate = 0.0005,\n",
    "    targetName = targetName,\n",
    "    batch_size = 16,\n",
    ")"
   ]
  },
  {
   "cell_type": "markdown",
   "metadata": {},
   "source": [
    "## Create Sequences"
   ]
  },
  {
   "cell_type": "code",
   "execution_count": 162,
   "metadata": {},
   "outputs": [],
   "source": [
    "y_test_orig = y_test.copy()\n",
    "\n",
    "# Convert y to numbers\n",
    "y_train= pd.Categorical(y_train).codes\n",
    "y_test= pd.Categorical(y_test).codes\n",
    "y_orig= pd.Categorical(y_orig).codes"
   ]
  },
  {
   "cell_type": "code",
   "execution_count": 163,
   "metadata": {},
   "outputs": [
    {
     "data": {
      "text/plain": [
       "numpy.ndarray"
      ]
     },
     "execution_count": 163,
     "metadata": {},
     "output_type": "execute_result"
    }
   ],
   "source": [
    "type(y_train)"
   ]
  },
  {
   "cell_type": "code",
   "execution_count": 164,
   "metadata": {},
   "outputs": [],
   "source": [
    "# First, we have to convert our dataframes to numpy arrays\n",
    "\n",
    "X_train = X_train.values\n",
    "#y_train = y_train.to_numpy() #conversion to categorical (above) does this for us\n",
    "\n",
    "X_test = X_test.values\n",
    "#y_test = y_test.to_numpy()\n",
    "\n",
    "X_orig = stockdf.values\n",
    "#y_orig = y_orig.to_numpy()"
   ]
  },
  {
   "cell_type": "code",
   "execution_count": 165,
   "metadata": {},
   "outputs": [
    {
     "data": {
      "text/plain": [
       "2371"
      ]
     },
     "execution_count": 165,
     "metadata": {},
     "output_type": "execute_result"
    }
   ],
   "source": [
    "assert(len(X_orig) == len(X_train) + len(X_test))\n",
    "len(X_orig)"
   ]
  },
  {
   "cell_type": "code",
   "execution_count": 166,
   "metadata": {},
   "outputs": [
    {
     "data": {
      "text/plain": [
       "numpy.ndarray"
      ]
     },
     "execution_count": 166,
     "metadata": {},
     "output_type": "execute_result"
    }
   ],
   "source": [
    "type(X_train)\n"
   ]
  },
  {
   "cell_type": "code",
   "execution_count": 396,
   "metadata": {},
   "outputs": [
    {
     "data": {
      "text/plain": [
       "(1889, 5, 23)"
      ]
     },
     "execution_count": 396,
     "metadata": {},
     "output_type": "execute_result"
    }
   ],
   "source": [
    "X_train.shape"
   ]
  },
  {
   "cell_type": "code",
   "execution_count": 167,
   "metadata": {},
   "outputs": [],
   "source": [
    "seq_length = configs['sequence_length']\n",
    "\n",
    "Xtr = []\n",
    "ytr = []\n",
    "Xt = []\n",
    "yt = []\n",
    "Xo= []\n",
    "yo = []\n",
    "for i in range(seq_length, len(X_train)):\n",
    "    Xtr.append(X_train[i - seq_length: i, : X_train.shape[1]])\n",
    "    ytr.append(y_train[i])# starts appending at 0.  Can we use shift() instead? \n",
    "# do the same for Xt, yt\n",
    "for i in range(seq_length, len(X_test)):\n",
    "    Xt.append(X_test[i -seq_length: i, :X_test.shape[1]])\n",
    "    yt.append(y_test[i])\n",
    "for i in range(seq_length, len(X_orig)):\n",
    "    Xo.append(X_orig[i -seq_length: i, :X_orig.shape[1]])\n",
    "    yo.append(y_orig[i])"
   ]
  },
  {
   "cell_type": "code",
   "execution_count": 168,
   "metadata": {},
   "outputs": [],
   "source": [
    "# convert to np arrays again\n",
    "Xtr = np.array(Xtr)\n",
    "ytr = np.array(ytr)\n",
    "Xt = np.array(Xt)\n",
    "yt = np.array(yt)\n",
    "Xo = np.array(Xo)\n",
    "yo = np.array(yo)"
   ]
  },
  {
   "cell_type": "code",
   "execution_count": 169,
   "metadata": {},
   "outputs": [
    {
     "data": {
      "text/plain": [
       "(1891, 5, 23)"
      ]
     },
     "execution_count": 169,
     "metadata": {},
     "output_type": "execute_result"
    }
   ],
   "source": [
    "Xtr.shape"
   ]
  },
  {
   "cell_type": "code",
   "execution_count": 372,
   "metadata": {},
   "outputs": [
    {
     "data": {
      "text/plain": [
       "(470,)"
      ]
     },
     "execution_count": 372,
     "metadata": {},
     "output_type": "execute_result"
    }
   ],
   "source": [
    "yt.shape"
   ]
  },
  {
   "cell_type": "markdown",
   "metadata": {},
   "source": [
    "# Simple LSTM "
   ]
  },
  {
   "cell_type": "markdown",
   "metadata": {},
   "source": [
    "Okay, so now we have the data in the shape we need  (num_observations, seq_length, num_features)"
   ]
  },
  {
   "cell_type": "code",
   "execution_count": 171,
   "metadata": {},
   "outputs": [
    {
     "name": "stdout",
     "output_type": "stream",
     "text": [
      "Model: \"sequential_5\"\n",
      "_________________________________________________________________\n",
      " Layer (type)                Output Shape              Param #   \n",
      "=================================================================\n",
      " Where_is_my_mind (LSTM)     (None, 50)                14800     \n",
      "                                                                 \n",
      " Im_So_Dense (Dense)         (None, 1)                 51        \n",
      "                                                                 \n",
      "=================================================================\n",
      "Total params: 14851 (58.01 KB)\n",
      "Trainable params: 14851 (58.01 KB)\n",
      "Non-trainable params: 0 (0.00 Byte)\n",
      "_________________________________________________________________\n"
     ]
    }
   ],
   "source": [
    "\n",
    "\n",
    "optimizer = Nadam(learning_rate=configs['learning_rate'])\n",
    "\n",
    "model = Sequential()\n",
    "model.add(LSTM(50, activation='tanh', input_shape=(Xtr.shape[1], Xtr.shape[2]), name=\"Where_is_my_mind\")) \n",
    "#model.add(Dense(16, activation='sigmoid'))\n",
    "model.add(Dense(configs[\"num_classes\"], activation='sigmoid', name=\"Im_So_Dense\"))\n",
    "model.compile(loss='binary_crossentropy', optimizer=optimizer, metrics=['accuracy'])\n",
    "\n",
    "model.summary()"
   ]
  },
  {
   "cell_type": "code",
   "execution_count": 172,
   "metadata": {},
   "outputs": [
    {
     "data": {
      "image/png": "[encoded data removed]",
      "text/plain": [
       "<IPython.core.display.Image object>"
      ]
     },
     "execution_count": 172,
     "metadata": {},
     "output_type": "execute_result"
    }
   ],
   "source": [
    "from tensorflow.keras.utils import plot_model\n",
    "plot_model(model, to_file=\"StockLSTM_Model.png\")"
   ]
  },
  {
   "cell_type": "markdown",
   "metadata": {},
   "source": [
    "Set up early stopping so we don't go too long"
   ]
  },
  {
   "cell_type": "code",
   "execution_count": 173,
   "metadata": {},
   "outputs": [],
   "source": [
    "from keras.callbacks import EarlyStopping\n",
    "from wandb.integration.keras import WandbMetricsLogger, WandbModelCheckpoint\n",
    "\n",
    "es = EarlyStopping(monitor='accuracy', patience=configs['earlystopping_patience'])\n",
    "\n"
   ]
  },
  {
   "cell_type": "code",
   "execution_count": 174,
   "metadata": {},
   "outputs": [
    {
     "data": {
      "text/html": [
       "wandb version 0.17.5 is available!  To upgrade, please run:\n",
       " $ pip install wandb --upgrade"
      ],
      "text/plain": [
       "<IPython.core.display.HTML object>"
      ]
     },
     "metadata": {},
     "output_type": "display_data"
    },
    {
     "data": {
      "text/html": [
       "Tracking run with wandb version 0.17.4"
      ],
      "text/plain": [
       "<IPython.core.display.HTML object>"
      ]
     },
     "metadata": {},
     "output_type": "display_data"
    },
    {
     "data": {
      "text/html": [
       "Run data is saved locally in <code>/home/candrews/Projects/MyProjects/StockPredictor/notebooks/wandb/run-20240730_140141-qvbrszsu</code>"
      ],
      "text/plain": [
       "<IPython.core.display.HTML object>"
      ]
     },
     "metadata": {},
     "output_type": "display_data"
    },
    {
     "data": {
      "text/html": [
       "Syncing run <strong><a href='https://wandb.ai/christopherandrews/StockPredictor/runs/qvbrszsu' target=\"_blank\">LSTMClassifier_TwoStateMajorReversals_1722369701</a></strong> to <a href='https://wandb.ai/christopherandrews/StockPredictor' target=\"_blank\">Weights & Biases</a> (<a href='https://wandb.me/run' target=\"_blank\">docs</a>)<br/>"
      ],
      "text/plain": [
       "<IPython.core.display.HTML object>"
      ]
     },
     "metadata": {},
     "output_type": "display_data"
    },
    {
     "data": {
      "text/html": [
       " View project at <a href='https://wandb.ai/christopherandrews/StockPredictor' target=\"_blank\">https://wandb.ai/christopherandrews/StockPredictor</a>"
      ],
      "text/plain": [
       "<IPython.core.display.HTML object>"
      ]
     },
     "metadata": {},
     "output_type": "display_data"
    },
    {
     "data": {
      "text/html": [
       " View run at <a href='https://wandb.ai/christopherandrews/StockPredictor/runs/qvbrszsu' target=\"_blank\">https://wandb.ai/christopherandrews/StockPredictor/runs/qvbrszsu</a>"
      ],
      "text/plain": [
       "<IPython.core.display.HTML object>"
      ]
     },
     "metadata": {},
     "output_type": "display_data"
    }
   ],
   "source": [
    "#log to weights and biases\n",
    "run_name = f\"LSTMClassifier_{targetName}_{int(time.time())}\"\n",
    "run = wandb.init(entity=\"christopherandrews\", project=\"StockPredictor\", name=run_name, save_code=False, settings=wandb.Settings(start_method=\"fork\"), reinit=True, config=configs)\n",
    "\n",
    "callbacks = [es, WandbMetricsLogger(), WandbModelCheckpoint(\"models\")]"
   ]
  },
  {
   "cell_type": "code",
   "execution_count": 175,
   "metadata": {},
   "outputs": [
    {
     "name": "stdout",
     "output_type": "stream",
     "text": [
      "Epoch 1/75\n",
      "116/119 [============================>.] - ETA: 0s - loss: 0.6041 - accuracy: 0.6950INFO:tensorflow:Assets written to: models/assets\n"
     ]
    },
    {
     "name": "stderr",
     "output_type": "stream",
     "text": [
      "INFO:tensorflow:Assets written to: models/assets\n",
      "\u001b[34m\u001b[1mwandb\u001b[0m: Adding directory to artifact (./models)... Done. 0.0s\n"
     ]
    },
    {
     "name": "stdout",
     "output_type": "stream",
     "text": [
      "119/119 [==============================] - 6s 33ms/step - loss: 0.6039 - accuracy: 0.6949 - val_loss: 0.6848 - val_accuracy: 0.5532\n",
      "Epoch 2/75\n",
      "116/119 [============================>.] - ETA: 0s - loss: 0.5837 - accuracy: 0.6961INFO:tensorflow:Assets written to: models/assets\n"
     ]
    },
    {
     "name": "stderr",
     "output_type": "stream",
     "text": [
      "INFO:tensorflow:Assets written to: models/assets\n",
      "\u001b[34m\u001b[1mwandb\u001b[0m: Adding directory to artifact (./models)... Done. 0.0s\n"
     ]
    },
    {
     "name": "stdout",
     "output_type": "stream",
     "text": [
      "119/119 [==============================] - 4s 32ms/step - loss: 0.5843 - accuracy: 0.6954 - val_loss: 0.6738 - val_accuracy: 0.5532\n",
      "Epoch 3/75\n",
      "116/119 [============================>.] - ETA: 0s - loss: 0.5647 - accuracy: 0.6999INFO:tensorflow:Assets written to: models/assets\n"
     ]
    },
    {
     "name": "stderr",
     "output_type": "stream",
     "text": [
      "INFO:tensorflow:Assets written to: models/assets\n",
      "\u001b[34m\u001b[1mwandb\u001b[0m: Adding directory to artifact (./models)... Done. 0.0s\n"
     ]
    },
    {
     "name": "stdout",
     "output_type": "stream",
     "text": [
      "119/119 [==============================] - 4s 33ms/step - loss: 0.5642 - accuracy: 0.7012 - val_loss: 0.6539 - val_accuracy: 0.5957\n",
      "Epoch 4/75\n",
      "116/119 [============================>.] - ETA: 0s - loss: 0.5467 - accuracy: 0.7177INFO:tensorflow:Assets written to: models/assets\n"
     ]
    },
    {
     "name": "stderr",
     "output_type": "stream",
     "text": [
      "INFO:tensorflow:Assets written to: models/assets\n",
      "\u001b[34m\u001b[1mwandb\u001b[0m: Adding directory to artifact (./models)... Done. 0.0s\n"
     ]
    },
    {
     "name": "stdout",
     "output_type": "stream",
     "text": [
      "119/119 [==============================] - 4s 32ms/step - loss: 0.5474 - accuracy: 0.7166 - val_loss: 0.6669 - val_accuracy: 0.5468\n",
      "Epoch 5/75\n",
      "118/119 [============================>.] - ETA: 0s - loss: 0.5259 - accuracy: 0.7436INFO:tensorflow:Assets written to: models/assets\n"
     ]
    },
    {
     "name": "stderr",
     "output_type": "stream",
     "text": [
      "INFO:tensorflow:Assets written to: models/assets\n",
      "\u001b[34m\u001b[1mwandb\u001b[0m: Adding directory to artifact (./models)... Done. 0.0s\n"
     ]
    },
    {
     "name": "stdout",
     "output_type": "stream",
     "text": [
      "119/119 [==============================] - 5s 38ms/step - loss: 0.5257 - accuracy: 0.7441 - val_loss: 0.7061 - val_accuracy: 0.4851\n",
      "Epoch 6/75\n",
      "117/119 [============================>.] - ETA: 0s - loss: 0.5087 - accuracy: 0.7569INFO:tensorflow:Assets written to: models/assets\n"
     ]
    },
    {
     "name": "stderr",
     "output_type": "stream",
     "text": [
      "INFO:tensorflow:Assets written to: models/assets\n",
      "\u001b[34m\u001b[1mwandb\u001b[0m: Adding directory to artifact (./models)... Done. 0.0s\n"
     ]
    },
    {
     "name": "stdout",
     "output_type": "stream",
     "text": [
      "119/119 [==============================] - 4s 33ms/step - loss: 0.5089 - accuracy: 0.7573 - val_loss: 0.6740 - val_accuracy: 0.5787\n",
      "Epoch 7/75\n",
      "119/119 [==============================] - ETA: 0s - loss: 0.5048 - accuracy: 0.7694INFO:tensorflow:Assets written to: models/assets\n"
     ]
    },
    {
     "name": "stderr",
     "output_type": "stream",
     "text": [
      "INFO:tensorflow:Assets written to: models/assets\n",
      "\u001b[34m\u001b[1mwandb\u001b[0m: Adding directory to artifact (./models)... Done. 0.0s\n"
     ]
    },
    {
     "name": "stdout",
     "output_type": "stream",
     "text": [
      "119/119 [==============================] - 4s 34ms/step - loss: 0.5048 - accuracy: 0.7694 - val_loss: 0.6468 - val_accuracy: 0.6426\n",
      "Epoch 8/75\n",
      "116/119 [============================>.] - ETA: 0s - loss: 0.4918 - accuracy: 0.7699INFO:tensorflow:Assets written to: models/assets\n"
     ]
    },
    {
     "name": "stderr",
     "output_type": "stream",
     "text": [
      "INFO:tensorflow:Assets written to: models/assets\n",
      "\u001b[34m\u001b[1mwandb\u001b[0m: Adding directory to artifact (./models)... Done. 0.0s\n"
     ]
    },
    {
     "name": "stdout",
     "output_type": "stream",
     "text": [
      "119/119 [==============================] - 4s 31ms/step - loss: 0.4937 - accuracy: 0.7700 - val_loss: 0.6434 - val_accuracy: 0.6532\n",
      "Epoch 9/75\n",
      "115/119 [===========================>..] - ETA: 0s - loss: 0.4862 - accuracy: 0.7750INFO:tensorflow:Assets written to: models/assets\n"
     ]
    },
    {
     "name": "stderr",
     "output_type": "stream",
     "text": [
      "INFO:tensorflow:Assets written to: models/assets\n",
      "\u001b[34m\u001b[1mwandb\u001b[0m: Adding directory to artifact (./models)... Done. 0.0s\n"
     ]
    },
    {
     "name": "stdout",
     "output_type": "stream",
     "text": [
      "119/119 [==============================] - 4s 32ms/step - loss: 0.4868 - accuracy: 0.7737 - val_loss: 0.6320 - val_accuracy: 0.6660\n",
      "Epoch 10/75\n",
      "115/119 [===========================>..] - ETA: 0s - loss: 0.4756 - accuracy: 0.7886INFO:tensorflow:Assets written to: models/assets\n"
     ]
    },
    {
     "name": "stderr",
     "output_type": "stream",
     "text": [
      "INFO:tensorflow:Assets written to: models/assets\n",
      "\u001b[34m\u001b[1mwandb\u001b[0m: Adding directory to artifact (./models)... Done. 0.0s\n"
     ]
    },
    {
     "name": "stdout",
     "output_type": "stream",
     "text": [
      "119/119 [==============================] - 4s 31ms/step - loss: 0.4750 - accuracy: 0.7879 - val_loss: 0.6566 - val_accuracy: 0.5596\n",
      "Epoch 11/75\n",
      "115/119 [===========================>..] - ETA: 0s - loss: 0.4729 - accuracy: 0.7815INFO:tensorflow:Assets written to: models/assets\n"
     ]
    },
    {
     "name": "stderr",
     "output_type": "stream",
     "text": [
      "INFO:tensorflow:Assets written to: models/assets\n",
      "\u001b[34m\u001b[1mwandb\u001b[0m: Adding directory to artifact (./models)... Done. 0.0s\n"
     ]
    },
    {
     "name": "stdout",
     "output_type": "stream",
     "text": [
      "119/119 [==============================] - 4s 32ms/step - loss: 0.4737 - accuracy: 0.7827 - val_loss: 0.6406 - val_accuracy: 0.5638\n",
      "Epoch 12/75\n",
      "115/119 [===========================>..] - ETA: 0s - loss: 0.4654 - accuracy: 0.7859INFO:tensorflow:Assets written to: models/assets\n"
     ]
    },
    {
     "name": "stderr",
     "output_type": "stream",
     "text": [
      "INFO:tensorflow:Assets written to: models/assets\n",
      "\u001b[34m\u001b[1mwandb\u001b[0m: Adding directory to artifact (./models)... Done. 0.0s\n"
     ]
    },
    {
     "name": "stdout",
     "output_type": "stream",
     "text": [
      "119/119 [==============================] - 4s 32ms/step - loss: 0.4655 - accuracy: 0.7853 - val_loss: 0.6415 - val_accuracy: 0.6255\n",
      "Epoch 13/75\n",
      "119/119 [==============================] - ETA: 0s - loss: 0.4631 - accuracy: 0.7879INFO:tensorflow:Assets written to: models/assets\n"
     ]
    },
    {
     "name": "stderr",
     "output_type": "stream",
     "text": [
      "INFO:tensorflow:Assets written to: models/assets\n",
      "\u001b[34m\u001b[1mwandb\u001b[0m: Adding directory to artifact (./models)... Done. 0.0s\n"
     ]
    },
    {
     "name": "stdout",
     "output_type": "stream",
     "text": [
      "119/119 [==============================] - 5s 43ms/step - loss: 0.4631 - accuracy: 0.7879 - val_loss: 0.6869 - val_accuracy: 0.5426\n",
      "Epoch 14/75\n",
      "118/119 [============================>.] - ETA: 0s - loss: 0.4573 - accuracy: 0.7871INFO:tensorflow:Assets written to: models/assets\n"
     ]
    },
    {
     "name": "stderr",
     "output_type": "stream",
     "text": [
      "INFO:tensorflow:Assets written to: models/assets\n",
      "\u001b[34m\u001b[1mwandb\u001b[0m: Adding directory to artifact (./models)... Done. 0.0s\n"
     ]
    },
    {
     "name": "stdout",
     "output_type": "stream",
     "text": [
      "119/119 [==============================] - 4s 33ms/step - loss: 0.4572 - accuracy: 0.7869 - val_loss: 0.6372 - val_accuracy: 0.6106\n",
      "Epoch 15/75\n",
      "115/119 [===========================>..] - ETA: 0s - loss: 0.4474 - accuracy: 0.7978INFO:tensorflow:Assets written to: models/assets\n"
     ]
    },
    {
     "name": "stderr",
     "output_type": "stream",
     "text": [
      "INFO:tensorflow:Assets written to: models/assets\n",
      "\u001b[34m\u001b[1mwandb\u001b[0m: Adding directory to artifact (./models)... Done. 0.0s\n"
     ]
    },
    {
     "name": "stdout",
     "output_type": "stream",
     "text": [
      "119/119 [==============================] - 4s 36ms/step - loss: 0.4487 - accuracy: 0.7975 - val_loss: 0.6330 - val_accuracy: 0.6128\n",
      "Epoch 16/75\n",
      "115/119 [===========================>..] - ETA: 0s - loss: 0.4550 - accuracy: 0.7940INFO:tensorflow:Assets written to: models/assets\n"
     ]
    },
    {
     "name": "stderr",
     "output_type": "stream",
     "text": [
      "INFO:tensorflow:Assets written to: models/assets\n",
      "\u001b[34m\u001b[1mwandb\u001b[0m: Adding directory to artifact (./models)... Done. 0.0s\n"
     ]
    },
    {
     "name": "stdout",
     "output_type": "stream",
     "text": [
      "119/119 [==============================] - 4s 34ms/step - loss: 0.4513 - accuracy: 0.7964 - val_loss: 0.6275 - val_accuracy: 0.6638\n",
      "Epoch 17/75\n",
      "116/119 [============================>.] - ETA: 0s - loss: 0.4490 - accuracy: 0.7926INFO:tensorflow:Assets written to: models/assets\n"
     ]
    },
    {
     "name": "stderr",
     "output_type": "stream",
     "text": [
      "INFO:tensorflow:Assets written to: models/assets\n",
      "\u001b[34m\u001b[1mwandb\u001b[0m: Adding directory to artifact (./models)... Done. 0.0s\n"
     ]
    },
    {
     "name": "stdout",
     "output_type": "stream",
     "text": [
      "119/119 [==============================] - 4s 33ms/step - loss: 0.4467 - accuracy: 0.7943 - val_loss: 0.6392 - val_accuracy: 0.6489\n",
      "Epoch 18/75\n",
      "117/119 [============================>.] - ETA: 0s - loss: 0.4397 - accuracy: 0.7933INFO:tensorflow:Assets written to: models/assets\n"
     ]
    },
    {
     "name": "stderr",
     "output_type": "stream",
     "text": [
      "INFO:tensorflow:Assets written to: models/assets\n",
      "\u001b[34m\u001b[1mwandb\u001b[0m: Adding directory to artifact (./models)... Done. 0.0s\n"
     ]
    },
    {
     "name": "stdout",
     "output_type": "stream",
     "text": [
      "119/119 [==============================] - 4s 33ms/step - loss: 0.4424 - accuracy: 0.7916 - val_loss: 0.6274 - val_accuracy: 0.6447\n",
      "Epoch 19/75\n",
      "118/119 [============================>.] - ETA: 0s - loss: 0.4412 - accuracy: 0.8003INFO:tensorflow:Assets written to: models/assets\n"
     ]
    },
    {
     "name": "stderr",
     "output_type": "stream",
     "text": [
      "INFO:tensorflow:Assets written to: models/assets\n",
      "\u001b[34m\u001b[1mwandb\u001b[0m: Adding directory to artifact (./models)... Done. 0.0s\n"
     ]
    },
    {
     "name": "stdout",
     "output_type": "stream",
     "text": [
      "119/119 [==============================] - 4s 32ms/step - loss: 0.4412 - accuracy: 0.8001 - val_loss: 0.6318 - val_accuracy: 0.5936\n",
      "Epoch 20/75\n",
      "117/119 [============================>.] - ETA: 0s - loss: 0.4359 - accuracy: 0.8082INFO:tensorflow:Assets written to: models/assets\n"
     ]
    },
    {
     "name": "stderr",
     "output_type": "stream",
     "text": [
      "INFO:tensorflow:Assets written to: models/assets\n",
      "\u001b[34m\u001b[1mwandb\u001b[0m: Adding directory to artifact (./models)... Done. 0.0s\n"
     ]
    },
    {
     "name": "stdout",
     "output_type": "stream",
     "text": [
      "119/119 [==============================] - 4s 33ms/step - loss: 0.4371 - accuracy: 0.8070 - val_loss: 0.6309 - val_accuracy: 0.6468\n",
      "Epoch 21/75\n",
      "119/119 [==============================] - ETA: 0s - loss: 0.4354 - accuracy: 0.8038INFO:tensorflow:Assets written to: models/assets\n"
     ]
    },
    {
     "name": "stderr",
     "output_type": "stream",
     "text": [
      "INFO:tensorflow:Assets written to: models/assets\n",
      "\u001b[34m\u001b[1mwandb\u001b[0m: Adding directory to artifact (./models)... Done. 0.0s\n"
     ]
    },
    {
     "name": "stdout",
     "output_type": "stream",
     "text": [
      "119/119 [==============================] - 5s 38ms/step - loss: 0.4354 - accuracy: 0.8038 - val_loss: 0.6266 - val_accuracy: 0.6489\n",
      "Epoch 22/75\n",
      "118/119 [============================>.] - ETA: 0s - loss: 0.4320 - accuracy: 0.8024INFO:tensorflow:Assets written to: models/assets\n"
     ]
    },
    {
     "name": "stderr",
     "output_type": "stream",
     "text": [
      "INFO:tensorflow:Assets written to: models/assets\n",
      "\u001b[34m\u001b[1mwandb\u001b[0m: Adding directory to artifact (./models)... Done. 0.0s\n"
     ]
    },
    {
     "name": "stdout",
     "output_type": "stream",
     "text": [
      "119/119 [==============================] - 4s 32ms/step - loss: 0.4320 - accuracy: 0.8022 - val_loss: 0.6330 - val_accuracy: 0.6064\n",
      "Epoch 23/75\n",
      "117/119 [============================>.] - ETA: 0s - loss: 0.4323 - accuracy: 0.8002INFO:tensorflow:Assets written to: models/assets\n"
     ]
    },
    {
     "name": "stderr",
     "output_type": "stream",
     "text": [
      "INFO:tensorflow:Assets written to: models/assets\n",
      "\u001b[34m\u001b[1mwandb\u001b[0m: Adding directory to artifact (./models)... Done. 0.0s\n"
     ]
    },
    {
     "name": "stdout",
     "output_type": "stream",
     "text": [
      "119/119 [==============================] - 3s 29ms/step - loss: 0.4303 - accuracy: 0.8017 - val_loss: 0.6344 - val_accuracy: 0.6617\n",
      "Epoch 24/75\n",
      "115/119 [===========================>..] - ETA: 0s - loss: 0.4246 - accuracy: 0.8022INFO:tensorflow:Assets written to: models/assets\n"
     ]
    },
    {
     "name": "stderr",
     "output_type": "stream",
     "text": [
      "INFO:tensorflow:Assets written to: models/assets\n",
      "\u001b[34m\u001b[1mwandb\u001b[0m: Adding directory to artifact (./models)... Done. 0.0s\n"
     ]
    },
    {
     "name": "stdout",
     "output_type": "stream",
     "text": [
      "119/119 [==============================] - 4s 31ms/step - loss: 0.4254 - accuracy: 0.8006 - val_loss: 0.6323 - val_accuracy: 0.6596\n",
      "Epoch 25/75\n",
      "118/119 [============================>.] - ETA: 0s - loss: 0.4229 - accuracy: 0.8114INFO:tensorflow:Assets written to: models/assets\n"
     ]
    },
    {
     "name": "stderr",
     "output_type": "stream",
     "text": [
      "INFO:tensorflow:Assets written to: models/assets\n",
      "\u001b[34m\u001b[1mwandb\u001b[0m: Adding directory to artifact (./models)... Done. 0.0s\n"
     ]
    },
    {
     "name": "stdout",
     "output_type": "stream",
     "text": [
      "119/119 [==============================] - 4s 31ms/step - loss: 0.4241 - accuracy: 0.8112 - val_loss: 0.6338 - val_accuracy: 0.6383\n",
      "Epoch 26/75\n",
      "119/119 [==============================] - ETA: 0s - loss: 0.4192 - accuracy: 0.8033INFO:tensorflow:Assets written to: models/assets\n"
     ]
    },
    {
     "name": "stderr",
     "output_type": "stream",
     "text": [
      "INFO:tensorflow:Assets written to: models/assets\n",
      "\u001b[34m\u001b[1mwandb\u001b[0m: Adding directory to artifact (./models)... Done. 0.0s\n"
     ]
    },
    {
     "name": "stdout",
     "output_type": "stream",
     "text": [
      "119/119 [==============================] - 4s 32ms/step - loss: 0.4192 - accuracy: 0.8033 - val_loss: 0.6236 - val_accuracy: 0.6511\n",
      "Epoch 27/75\n",
      "119/119 [==============================] - ETA: 0s - loss: 0.4155 - accuracy: 0.8160INFO:tensorflow:Assets written to: models/assets\n"
     ]
    },
    {
     "name": "stderr",
     "output_type": "stream",
     "text": [
      "INFO:tensorflow:Assets written to: models/assets\n",
      "\u001b[34m\u001b[1mwandb\u001b[0m: Adding directory to artifact (./models)... Done. 0.0s\n"
     ]
    },
    {
     "name": "stdout",
     "output_type": "stream",
     "text": [
      "119/119 [==============================] - 4s 32ms/step - loss: 0.4155 - accuracy: 0.8160 - val_loss: 0.6193 - val_accuracy: 0.6702\n",
      "Epoch 28/75\n",
      "119/119 [==============================] - ETA: 0s - loss: 0.4097 - accuracy: 0.8176INFO:tensorflow:Assets written to: models/assets\n"
     ]
    },
    {
     "name": "stderr",
     "output_type": "stream",
     "text": [
      "INFO:tensorflow:Assets written to: models/assets\n",
      "\u001b[34m\u001b[1mwandb\u001b[0m: Adding directory to artifact (./models)... Done. 0.0s\n"
     ]
    },
    {
     "name": "stdout",
     "output_type": "stream",
     "text": [
      "119/119 [==============================] - 4s 33ms/step - loss: 0.4097 - accuracy: 0.8176 - val_loss: 0.6338 - val_accuracy: 0.6362\n",
      "Epoch 29/75\n",
      "117/119 [============================>.] - ETA: 0s - loss: 0.4067 - accuracy: 0.8146INFO:tensorflow:Assets written to: models/assets\n"
     ]
    },
    {
     "name": "stderr",
     "output_type": "stream",
     "text": [
      "INFO:tensorflow:Assets written to: models/assets\n",
      "\u001b[34m\u001b[1mwandb\u001b[0m: Adding directory to artifact (./models)... Done. 0.0s\n"
     ]
    },
    {
     "name": "stdout",
     "output_type": "stream",
     "text": [
      "119/119 [==============================] - 5s 40ms/step - loss: 0.4082 - accuracy: 0.8133 - val_loss: 0.6603 - val_accuracy: 0.6340\n",
      "Epoch 30/75\n",
      "117/119 [============================>.] - ETA: 0s - loss: 0.4079 - accuracy: 0.8152INFO:tensorflow:Assets written to: models/assets\n"
     ]
    },
    {
     "name": "stderr",
     "output_type": "stream",
     "text": [
      "INFO:tensorflow:Assets written to: models/assets\n",
      "\u001b[34m\u001b[1mwandb\u001b[0m: Adding directory to artifact (./models)... Done. 0.0s\n"
     ]
    },
    {
     "name": "stdout",
     "output_type": "stream",
     "text": [
      "119/119 [==============================] - 4s 35ms/step - loss: 0.4080 - accuracy: 0.8149 - val_loss: 0.6634 - val_accuracy: 0.6106\n",
      "Epoch 31/75\n",
      "117/119 [============================>.] - ETA: 0s - loss: 0.4145 - accuracy: 0.8114INFO:tensorflow:Assets written to: models/assets\n"
     ]
    },
    {
     "name": "stderr",
     "output_type": "stream",
     "text": [
      "INFO:tensorflow:Assets written to: models/assets\n",
      "\u001b[34m\u001b[1mwandb\u001b[0m: Adding directory to artifact (./models)... Done. 0.0s\n"
     ]
    },
    {
     "name": "stdout",
     "output_type": "stream",
     "text": [
      "119/119 [==============================] - 4s 31ms/step - loss: 0.4156 - accuracy: 0.8096 - val_loss: 0.6404 - val_accuracy: 0.6426\n",
      "Epoch 32/75\n",
      "119/119 [==============================] - ETA: 0s - loss: 0.4037 - accuracy: 0.8170INFO:tensorflow:Assets written to: models/assets\n"
     ]
    },
    {
     "name": "stderr",
     "output_type": "stream",
     "text": [
      "INFO:tensorflow:Assets written to: models/assets\n",
      "\u001b[34m\u001b[1mwandb\u001b[0m: Adding directory to artifact (./models)... Done. 0.0s\n"
     ]
    },
    {
     "name": "stdout",
     "output_type": "stream",
     "text": [
      "119/119 [==============================] - 4s 32ms/step - loss: 0.4037 - accuracy: 0.8170 - val_loss: 0.6200 - val_accuracy: 0.6723\n",
      "Epoch 33/75\n",
      "117/119 [============================>.] - ETA: 0s - loss: 0.4001 - accuracy: 0.8136INFO:tensorflow:Assets written to: models/assets\n"
     ]
    },
    {
     "name": "stderr",
     "output_type": "stream",
     "text": [
      "INFO:tensorflow:Assets written to: models/assets\n",
      "\u001b[34m\u001b[1mwandb\u001b[0m: Adding directory to artifact (./models)... Done. 0.0s\n"
     ]
    },
    {
     "name": "stdout",
     "output_type": "stream",
     "text": [
      "119/119 [==============================] - 4s 32ms/step - loss: 0.4002 - accuracy: 0.8133 - val_loss: 0.6167 - val_accuracy: 0.6681\n",
      "Epoch 34/75\n",
      "118/119 [============================>.] - ETA: 0s - loss: 0.4020 - accuracy: 0.8067INFO:tensorflow:Assets written to: models/assets\n"
     ]
    },
    {
     "name": "stderr",
     "output_type": "stream",
     "text": [
      "INFO:tensorflow:Assets written to: models/assets\n",
      "\u001b[34m\u001b[1mwandb\u001b[0m: Adding directory to artifact (./models)... Done. 0.0s\n"
     ]
    },
    {
     "name": "stdout",
     "output_type": "stream",
     "text": [
      "119/119 [==============================] - 4s 31ms/step - loss: 0.4024 - accuracy: 0.8059 - val_loss: 0.6370 - val_accuracy: 0.6553\n",
      "Epoch 35/75\n",
      "118/119 [============================>.] - ETA: 0s - loss: 0.3925 - accuracy: 0.8167INFO:tensorflow:Assets written to: models/assets\n"
     ]
    },
    {
     "name": "stderr",
     "output_type": "stream",
     "text": [
      "INFO:tensorflow:Assets written to: models/assets\n",
      "\u001b[34m\u001b[1mwandb\u001b[0m: Adding directory to artifact (./models)... Done. 0.0s\n"
     ]
    },
    {
     "name": "stdout",
     "output_type": "stream",
     "text": [
      "119/119 [==============================] - 4s 31ms/step - loss: 0.3920 - accuracy: 0.8170 - val_loss: 0.6203 - val_accuracy: 0.6596\n",
      "Epoch 36/75\n",
      "118/119 [============================>.] - ETA: 0s - loss: 0.3920 - accuracy: 0.8162INFO:tensorflow:Assets written to: models/assets\n"
     ]
    },
    {
     "name": "stderr",
     "output_type": "stream",
     "text": [
      "INFO:tensorflow:Assets written to: models/assets\n",
      "\u001b[34m\u001b[1mwandb\u001b[0m: Adding directory to artifact (./models)... Done. 0.0s\n"
     ]
    },
    {
     "name": "stdout",
     "output_type": "stream",
     "text": [
      "119/119 [==============================] - 4s 32ms/step - loss: 0.3916 - accuracy: 0.8165 - val_loss: 0.6329 - val_accuracy: 0.6447\n",
      "Epoch 37/75\n",
      "119/119 [==============================] - ETA: 0s - loss: 0.3856 - accuracy: 0.8176INFO:tensorflow:Assets written to: models/assets\n"
     ]
    },
    {
     "name": "stderr",
     "output_type": "stream",
     "text": [
      "INFO:tensorflow:Assets written to: models/assets\n",
      "\u001b[34m\u001b[1mwandb\u001b[0m: Adding directory to artifact (./models)... Done. 0.0s\n"
     ]
    },
    {
     "name": "stdout",
     "output_type": "stream",
     "text": [
      "119/119 [==============================] - 5s 39ms/step - loss: 0.3856 - accuracy: 0.8176 - val_loss: 0.6412 - val_accuracy: 0.6362\n",
      "Epoch 38/75\n",
      "117/119 [============================>.] - ETA: 0s - loss: 0.3809 - accuracy: 0.8301INFO:tensorflow:Assets written to: models/assets\n"
     ]
    },
    {
     "name": "stderr",
     "output_type": "stream",
     "text": [
      "INFO:tensorflow:Assets written to: models/assets\n",
      "\u001b[34m\u001b[1mwandb\u001b[0m: Adding directory to artifact (./models)... Done. 0.0s\n"
     ]
    },
    {
     "name": "stdout",
     "output_type": "stream",
     "text": [
      "119/119 [==============================] - 4s 32ms/step - loss: 0.3800 - accuracy: 0.8308 - val_loss: 0.6312 - val_accuracy: 0.6638\n",
      "Epoch 39/75\n",
      "117/119 [============================>.] - ETA: 0s - loss: 0.3848 - accuracy: 0.8264INFO:tensorflow:Assets written to: models/assets\n"
     ]
    },
    {
     "name": "stderr",
     "output_type": "stream",
     "text": [
      "INFO:tensorflow:Assets written to: models/assets\n",
      "\u001b[34m\u001b[1mwandb\u001b[0m: Adding directory to artifact (./models)... Done. 0.0s\n"
     ]
    },
    {
     "name": "stdout",
     "output_type": "stream",
     "text": [
      "119/119 [==============================] - 4s 33ms/step - loss: 0.3837 - accuracy: 0.8271 - val_loss: 0.6364 - val_accuracy: 0.6043\n",
      "Epoch 40/75\n",
      "116/119 [============================>.] - ETA: 0s - loss: 0.3792 - accuracy: 0.8287INFO:tensorflow:Assets written to: models/assets\n"
     ]
    },
    {
     "name": "stderr",
     "output_type": "stream",
     "text": [
      "INFO:tensorflow:Assets written to: models/assets\n",
      "\u001b[34m\u001b[1mwandb\u001b[0m: Adding directory to artifact (./models)... Done. 0.0s\n"
     ]
    },
    {
     "name": "stdout",
     "output_type": "stream",
     "text": [
      "119/119 [==============================] - 4s 32ms/step - loss: 0.3790 - accuracy: 0.8281 - val_loss: 0.6236 - val_accuracy: 0.6574\n",
      "Epoch 41/75\n",
      "119/119 [==============================] - ETA: 0s - loss: 0.3745 - accuracy: 0.8292INFO:tensorflow:Assets written to: models/assets\n"
     ]
    },
    {
     "name": "stderr",
     "output_type": "stream",
     "text": [
      "INFO:tensorflow:Assets written to: models/assets\n",
      "\u001b[34m\u001b[1mwandb\u001b[0m: Adding directory to artifact (./models)... Done. 0.0s\n"
     ]
    },
    {
     "name": "stdout",
     "output_type": "stream",
     "text": [
      "119/119 [==============================] - 4s 32ms/step - loss: 0.3745 - accuracy: 0.8292 - val_loss: 0.5977 - val_accuracy: 0.6851\n",
      "Epoch 42/75\n",
      "117/119 [============================>.] - ETA: 0s - loss: 0.3783 - accuracy: 0.8200INFO:tensorflow:Assets written to: models/assets\n"
     ]
    },
    {
     "name": "stderr",
     "output_type": "stream",
     "text": [
      "INFO:tensorflow:Assets written to: models/assets\n",
      "\u001b[34m\u001b[1mwandb\u001b[0m: Adding directory to artifact (./models)... Done. 0.0s\n"
     ]
    },
    {
     "name": "stdout",
     "output_type": "stream",
     "text": [
      "119/119 [==============================] - 4s 32ms/step - loss: 0.3798 - accuracy: 0.8191 - val_loss: 0.6355 - val_accuracy: 0.6532\n",
      "Epoch 43/75\n",
      "118/119 [============================>.] - ETA: 0s - loss: 0.3712 - accuracy: 0.8257INFO:tensorflow:Assets written to: models/assets\n"
     ]
    },
    {
     "name": "stderr",
     "output_type": "stream",
     "text": [
      "INFO:tensorflow:Assets written to: models/assets\n",
      "\u001b[34m\u001b[1mwandb\u001b[0m: Adding directory to artifact (./models)... Done. 0.0s\n"
     ]
    },
    {
     "name": "stdout",
     "output_type": "stream",
     "text": [
      "119/119 [==============================] - 4s 31ms/step - loss: 0.3712 - accuracy: 0.8260 - val_loss: 0.6346 - val_accuracy: 0.6447\n",
      "Epoch 44/75\n",
      "117/119 [============================>.] - ETA: 0s - loss: 0.3674 - accuracy: 0.8296INFO:tensorflow:Assets written to: models/assets\n"
     ]
    },
    {
     "name": "stderr",
     "output_type": "stream",
     "text": [
      "INFO:tensorflow:Assets written to: models/assets\n",
      "\u001b[34m\u001b[1mwandb\u001b[0m: Adding directory to artifact (./models)... Done. 0.0s\n"
     ]
    },
    {
     "name": "stdout",
     "output_type": "stream",
     "text": [
      "119/119 [==============================] - 4s 32ms/step - loss: 0.3680 - accuracy: 0.8292 - val_loss: 0.6317 - val_accuracy: 0.6638\n",
      "Epoch 45/75\n",
      "119/119 [==============================] - ETA: 0s - loss: 0.3691 - accuracy: 0.8281INFO:tensorflow:Assets written to: models/assets\n"
     ]
    },
    {
     "name": "stderr",
     "output_type": "stream",
     "text": [
      "INFO:tensorflow:Assets written to: models/assets\n",
      "\u001b[34m\u001b[1mwandb\u001b[0m: Adding directory to artifact (./models)... Done. 0.0s\n"
     ]
    },
    {
     "name": "stdout",
     "output_type": "stream",
     "text": [
      "119/119 [==============================] - 5s 41ms/step - loss: 0.3691 - accuracy: 0.8281 - val_loss: 0.6756 - val_accuracy: 0.5894\n",
      "Epoch 46/75\n",
      "119/119 [==============================] - ETA: 0s - loss: 0.3680 - accuracy: 0.8297INFO:tensorflow:Assets written to: models/assets\n"
     ]
    },
    {
     "name": "stderr",
     "output_type": "stream",
     "text": [
      "INFO:tensorflow:Assets written to: models/assets\n",
      "\u001b[34m\u001b[1mwandb\u001b[0m: Adding directory to artifact (./models)... Done. 0.0s\n"
     ]
    },
    {
     "name": "stdout",
     "output_type": "stream",
     "text": [
      "119/119 [==============================] - 4s 32ms/step - loss: 0.3680 - accuracy: 0.8297 - val_loss: 0.6121 - val_accuracy: 0.6702\n",
      "Epoch 47/75\n",
      "118/119 [============================>.] - ETA: 0s - loss: 0.3597 - accuracy: 0.8347INFO:tensorflow:Assets written to: models/assets\n"
     ]
    },
    {
     "name": "stderr",
     "output_type": "stream",
     "text": [
      "INFO:tensorflow:Assets written to: models/assets\n",
      "\u001b[34m\u001b[1mwandb\u001b[0m: Adding directory to artifact (./models)... Done. 0.0s\n"
     ]
    },
    {
     "name": "stdout",
     "output_type": "stream",
     "text": [
      "119/119 [==============================] - 4s 31ms/step - loss: 0.3594 - accuracy: 0.8350 - val_loss: 0.6276 - val_accuracy: 0.6298\n",
      "Epoch 48/75\n",
      "117/119 [============================>.] - ETA: 0s - loss: 0.3619 - accuracy: 0.8328INFO:tensorflow:Assets written to: models/assets\n"
     ]
    },
    {
     "name": "stderr",
     "output_type": "stream",
     "text": [
      "INFO:tensorflow:Assets written to: models/assets\n",
      "\u001b[34m\u001b[1mwandb\u001b[0m: Adding directory to artifact (./models)... Done. 0.0s\n"
     ]
    },
    {
     "name": "stdout",
     "output_type": "stream",
     "text": [
      "119/119 [==============================] - 4s 32ms/step - loss: 0.3611 - accuracy: 0.8334 - val_loss: 0.6401 - val_accuracy: 0.6383\n",
      "Epoch 49/75\n",
      "115/119 [===========================>..] - ETA: 0s - loss: 0.3626 - accuracy: 0.8429INFO:tensorflow:Assets written to: models/assets\n"
     ]
    },
    {
     "name": "stderr",
     "output_type": "stream",
     "text": [
      "INFO:tensorflow:Assets written to: models/assets\n",
      "\u001b[34m\u001b[1mwandb\u001b[0m: Adding directory to artifact (./models)... Done. 0.0s\n"
     ]
    },
    {
     "name": "stdout",
     "output_type": "stream",
     "text": [
      "119/119 [==============================] - 4s 32ms/step - loss: 0.3617 - accuracy: 0.8429 - val_loss: 0.6608 - val_accuracy: 0.6319\n",
      "Epoch 50/75\n",
      "119/119 [==============================] - ETA: 0s - loss: 0.3583 - accuracy: 0.8371INFO:tensorflow:Assets written to: models/assets\n"
     ]
    },
    {
     "name": "stderr",
     "output_type": "stream",
     "text": [
      "INFO:tensorflow:Assets written to: models/assets\n",
      "\u001b[34m\u001b[1mwandb\u001b[0m: Adding directory to artifact (./models)... Done. 0.0s\n"
     ]
    },
    {
     "name": "stdout",
     "output_type": "stream",
     "text": [
      "119/119 [==============================] - 4s 31ms/step - loss: 0.3583 - accuracy: 0.8371 - val_loss: 0.6189 - val_accuracy: 0.6404\n",
      "Epoch 51/75\n",
      "118/119 [============================>.] - ETA: 0s - loss: 0.3572 - accuracy: 0.8411INFO:tensorflow:Assets written to: models/assets\n"
     ]
    },
    {
     "name": "stderr",
     "output_type": "stream",
     "text": [
      "INFO:tensorflow:Assets written to: models/assets\n",
      "\u001b[34m\u001b[1mwandb\u001b[0m: Adding directory to artifact (./models)... Done. 0.0s\n"
     ]
    },
    {
     "name": "stdout",
     "output_type": "stream",
     "text": [
      "119/119 [==============================] - 4s 32ms/step - loss: 0.3570 - accuracy: 0.8414 - val_loss: 0.6126 - val_accuracy: 0.6638\n",
      "Epoch 52/75\n",
      "118/119 [============================>.] - ETA: 0s - loss: 0.3530 - accuracy: 0.8358INFO:tensorflow:Assets written to: models/assets\n"
     ]
    },
    {
     "name": "stderr",
     "output_type": "stream",
     "text": [
      "INFO:tensorflow:Assets written to: models/assets\n",
      "\u001b[34m\u001b[1mwandb\u001b[0m: Adding directory to artifact (./models)... Done. 0.0s\n"
     ]
    },
    {
     "name": "stdout",
     "output_type": "stream",
     "text": [
      "119/119 [==============================] - 5s 39ms/step - loss: 0.3530 - accuracy: 0.8361 - val_loss: 0.6250 - val_accuracy: 0.6596\n",
      "Epoch 53/75\n",
      "119/119 [==============================] - ETA: 0s - loss: 0.3449 - accuracy: 0.8451INFO:tensorflow:Assets written to: models/assets\n"
     ]
    },
    {
     "name": "stderr",
     "output_type": "stream",
     "text": [
      "INFO:tensorflow:Assets written to: models/assets\n",
      "\u001b[34m\u001b[1mwandb\u001b[0m: Adding directory to artifact (./models)... Done. 0.0s\n"
     ]
    },
    {
     "name": "stdout",
     "output_type": "stream",
     "text": [
      "119/119 [==============================] - 4s 34ms/step - loss: 0.3449 - accuracy: 0.8451 - val_loss: 0.6226 - val_accuracy: 0.6617\n",
      "Epoch 54/75\n",
      "116/119 [============================>.] - ETA: 0s - loss: 0.3430 - accuracy: 0.8405INFO:tensorflow:Assets written to: models/assets\n"
     ]
    },
    {
     "name": "stderr",
     "output_type": "stream",
     "text": [
      "INFO:tensorflow:Assets written to: models/assets\n",
      "\u001b[34m\u001b[1mwandb\u001b[0m: Adding directory to artifact (./models)... Done. 0.0s\n"
     ]
    },
    {
     "name": "stdout",
     "output_type": "stream",
     "text": [
      "119/119 [==============================] - 4s 32ms/step - loss: 0.3441 - accuracy: 0.8392 - val_loss: 0.5943 - val_accuracy: 0.6915\n",
      "Epoch 55/75\n",
      "119/119 [==============================] - ETA: 0s - loss: 0.3438 - accuracy: 0.8477INFO:tensorflow:Assets written to: models/assets\n"
     ]
    },
    {
     "name": "stderr",
     "output_type": "stream",
     "text": [
      "INFO:tensorflow:Assets written to: models/assets\n",
      "\u001b[34m\u001b[1mwandb\u001b[0m: Adding directory to artifact (./models)... Done. 0.0s\n"
     ]
    },
    {
     "name": "stdout",
     "output_type": "stream",
     "text": [
      "119/119 [==============================] - 4s 36ms/step - loss: 0.3438 - accuracy: 0.8477 - val_loss: 0.6395 - val_accuracy: 0.6021\n",
      "Epoch 56/75\n",
      "117/119 [============================>.] - ETA: 0s - loss: 0.3473 - accuracy: 0.8381INFO:tensorflow:Assets written to: models/assets\n"
     ]
    },
    {
     "name": "stderr",
     "output_type": "stream",
     "text": [
      "INFO:tensorflow:Assets written to: models/assets\n",
      "\u001b[34m\u001b[1mwandb\u001b[0m: Adding directory to artifact (./models)... Done. 0.0s\n"
     ]
    },
    {
     "name": "stdout",
     "output_type": "stream",
     "text": [
      "119/119 [==============================] - 4s 34ms/step - loss: 0.3473 - accuracy: 0.8382 - val_loss: 0.6784 - val_accuracy: 0.6128\n",
      "Epoch 57/75\n",
      "115/119 [===========================>..] - ETA: 0s - loss: 0.3430 - accuracy: 0.8478INFO:tensorflow:Assets written to: models/assets\n"
     ]
    },
    {
     "name": "stderr",
     "output_type": "stream",
     "text": [
      "INFO:tensorflow:Assets written to: models/assets\n",
      "\u001b[34m\u001b[1mwandb\u001b[0m: Adding directory to artifact (./models)... Done. 0.0s\n"
     ]
    },
    {
     "name": "stdout",
     "output_type": "stream",
     "text": [
      "119/119 [==============================] - 4s 34ms/step - loss: 0.3410 - accuracy: 0.8493 - val_loss: 0.6077 - val_accuracy: 0.6787\n",
      "Epoch 58/75\n",
      "116/119 [============================>.] - ETA: 0s - loss: 0.3388 - accuracy: 0.8400INFO:tensorflow:Assets written to: models/assets\n"
     ]
    },
    {
     "name": "stderr",
     "output_type": "stream",
     "text": [
      "INFO:tensorflow:Assets written to: models/assets\n",
      "\u001b[34m\u001b[1mwandb\u001b[0m: Adding directory to artifact (./models)... Done. 0.0s\n"
     ]
    },
    {
     "name": "stdout",
     "output_type": "stream",
     "text": [
      "119/119 [==============================] - 4s 32ms/step - loss: 0.3387 - accuracy: 0.8408 - val_loss: 0.7029 - val_accuracy: 0.5894\n",
      "Epoch 59/75\n",
      "119/119 [==============================] - ETA: 0s - loss: 0.3321 - accuracy: 0.8525INFO:tensorflow:Assets written to: models/assets\n"
     ]
    },
    {
     "name": "stderr",
     "output_type": "stream",
     "text": [
      "INFO:tensorflow:Assets written to: models/assets\n",
      "\u001b[34m\u001b[1mwandb\u001b[0m: Adding directory to artifact (./models)... Done. 0.0s\n"
     ]
    },
    {
     "name": "stdout",
     "output_type": "stream",
     "text": [
      "119/119 [==============================] - 5s 39ms/step - loss: 0.3321 - accuracy: 0.8525 - val_loss: 0.6094 - val_accuracy: 0.6638\n",
      "Epoch 60/75\n",
      "115/119 [===========================>..] - ETA: 0s - loss: 0.3319 - accuracy: 0.8462INFO:tensorflow:Assets written to: models/assets\n"
     ]
    },
    {
     "name": "stderr",
     "output_type": "stream",
     "text": [
      "INFO:tensorflow:Assets written to: models/assets\n",
      "\u001b[34m\u001b[1mwandb\u001b[0m: Adding directory to artifact (./models)... Done. 0.0s\n"
     ]
    },
    {
     "name": "stdout",
     "output_type": "stream",
     "text": [
      "119/119 [==============================] - 5s 44ms/step - loss: 0.3334 - accuracy: 0.8456 - val_loss: 0.7137 - val_accuracy: 0.5702\n",
      "Epoch 61/75\n",
      "116/119 [============================>.] - ETA: 0s - loss: 0.3363 - accuracy: 0.8443INFO:tensorflow:Assets written to: models/assets\n"
     ]
    },
    {
     "name": "stderr",
     "output_type": "stream",
     "text": [
      "INFO:tensorflow:Assets written to: models/assets\n",
      "\u001b[34m\u001b[1mwandb\u001b[0m: Adding directory to artifact (./models)... Done. 0.0s\n"
     ]
    },
    {
     "name": "stdout",
     "output_type": "stream",
     "text": [
      "119/119 [==============================] - 4s 33ms/step - loss: 0.3369 - accuracy: 0.8440 - val_loss: 0.6431 - val_accuracy: 0.5957\n",
      "Epoch 62/75\n",
      "118/119 [============================>.] - ETA: 0s - loss: 0.3332 - accuracy: 0.8506INFO:tensorflow:Assets written to: models/assets\n"
     ]
    },
    {
     "name": "stderr",
     "output_type": "stream",
     "text": [
      "INFO:tensorflow:Assets written to: models/assets\n",
      "\u001b[34m\u001b[1mwandb\u001b[0m: Adding directory to artifact (./models)... Done. 0.0s\n"
     ]
    },
    {
     "name": "stdout",
     "output_type": "stream",
     "text": [
      "119/119 [==============================] - 4s 32ms/step - loss: 0.3328 - accuracy: 0.8509 - val_loss: 0.6540 - val_accuracy: 0.5851\n",
      "Epoch 63/75\n",
      "116/119 [============================>.] - ETA: 0s - loss: 0.3260 - accuracy: 0.8438INFO:tensorflow:Assets written to: models/assets\n"
     ]
    },
    {
     "name": "stderr",
     "output_type": "stream",
     "text": [
      "INFO:tensorflow:Assets written to: models/assets\n",
      "\u001b[34m\u001b[1mwandb\u001b[0m: Adding directory to artifact (./models)... Done. 0.0s\n"
     ]
    },
    {
     "name": "stdout",
     "output_type": "stream",
     "text": [
      "119/119 [==============================] - 4s 34ms/step - loss: 0.3240 - accuracy: 0.8456 - val_loss: 0.6743 - val_accuracy: 0.6191\n",
      "Epoch 64/75\n",
      "116/119 [============================>.] - ETA: 0s - loss: 0.3303 - accuracy: 0.8497INFO:tensorflow:Assets written to: models/assets\n"
     ]
    },
    {
     "name": "stderr",
     "output_type": "stream",
     "text": [
      "INFO:tensorflow:Assets written to: models/assets\n",
      "\u001b[34m\u001b[1mwandb\u001b[0m: Adding directory to artifact (./models)... Done. 0.0s\n"
     ]
    },
    {
     "name": "stdout",
     "output_type": "stream",
     "text": [
      "119/119 [==============================] - 4s 35ms/step - loss: 0.3295 - accuracy: 0.8498 - val_loss: 0.7336 - val_accuracy: 0.5596\n",
      "Epoch 65/75\n",
      "118/119 [============================>.] - ETA: 0s - loss: 0.3284 - accuracy: 0.8459INFO:tensorflow:Assets written to: models/assets\n"
     ]
    },
    {
     "name": "stderr",
     "output_type": "stream",
     "text": [
      "INFO:tensorflow:Assets written to: models/assets\n",
      "\u001b[34m\u001b[1mwandb\u001b[0m: Adding directory to artifact (./models)... Done. 0.0s\n"
     ]
    },
    {
     "name": "stdout",
     "output_type": "stream",
     "text": [
      "119/119 [==============================] - 4s 33ms/step - loss: 0.3282 - accuracy: 0.8461 - val_loss: 0.6408 - val_accuracy: 0.6468\n",
      "Epoch 66/75\n",
      "116/119 [============================>.] - ETA: 0s - loss: 0.3179 - accuracy: 0.8583INFO:tensorflow:Assets written to: models/assets\n"
     ]
    },
    {
     "name": "stderr",
     "output_type": "stream",
     "text": [
      "INFO:tensorflow:Assets written to: models/assets\n",
      "\u001b[34m\u001b[1mwandb\u001b[0m: Adding directory to artifact (./models)... Done. 0.0s\n"
     ]
    },
    {
     "name": "stdout",
     "output_type": "stream",
     "text": [
      "119/119 [==============================] - 4s 32ms/step - loss: 0.3189 - accuracy: 0.8562 - val_loss: 0.6761 - val_accuracy: 0.6085\n",
      "Epoch 67/75\n",
      "115/119 [===========================>..] - ETA: 0s - loss: 0.3120 - accuracy: 0.8614INFO:tensorflow:Assets written to: models/assets\n"
     ]
    },
    {
     "name": "stderr",
     "output_type": "stream",
     "text": [
      "INFO:tensorflow:Assets written to: models/assets\n",
      "\u001b[34m\u001b[1mwandb\u001b[0m: Adding directory to artifact (./models)... Done. 0.0s\n"
     ]
    },
    {
     "name": "stdout",
     "output_type": "stream",
     "text": [
      "119/119 [==============================] - 4s 34ms/step - loss: 0.3141 - accuracy: 0.8593 - val_loss: 0.6933 - val_accuracy: 0.5936\n",
      "Epoch 68/75\n",
      "117/119 [============================>.] - ETA: 0s - loss: 0.3242 - accuracy: 0.8595INFO:tensorflow:Assets written to: models/assets\n"
     ]
    },
    {
     "name": "stderr",
     "output_type": "stream",
     "text": [
      "INFO:tensorflow:Assets written to: models/assets\n",
      "\u001b[34m\u001b[1mwandb\u001b[0m: Adding directory to artifact (./models)... Done. 0.0s\n"
     ]
    },
    {
     "name": "stdout",
     "output_type": "stream",
     "text": [
      "119/119 [==============================] - 5s 40ms/step - loss: 0.3232 - accuracy: 0.8599 - val_loss: 0.6111 - val_accuracy: 0.6404\n",
      "Epoch 69/75\n",
      "118/119 [============================>.] - ETA: 0s - loss: 0.3210 - accuracy: 0.8485INFO:tensorflow:Assets written to: models/assets\n"
     ]
    },
    {
     "name": "stderr",
     "output_type": "stream",
     "text": [
      "INFO:tensorflow:Assets written to: models/assets\n",
      "\u001b[34m\u001b[1mwandb\u001b[0m: Adding directory to artifact (./models)... Done. 0.0s\n"
     ]
    },
    {
     "name": "stdout",
     "output_type": "stream",
     "text": [
      "119/119 [==============================] - 4s 33ms/step - loss: 0.3211 - accuracy: 0.8482 - val_loss: 0.6519 - val_accuracy: 0.6106\n",
      "Epoch 70/75\n",
      "118/119 [============================>.] - ETA: 0s - loss: 0.3156 - accuracy: 0.8565INFO:tensorflow:Assets written to: models/assets\n"
     ]
    },
    {
     "name": "stderr",
     "output_type": "stream",
     "text": [
      "INFO:tensorflow:Assets written to: models/assets\n",
      "\u001b[34m\u001b[1mwandb\u001b[0m: Adding directory to artifact (./models)... Done. 0.0s\n"
     ]
    },
    {
     "name": "stdout",
     "output_type": "stream",
     "text": [
      "119/119 [==============================] - 4s 33ms/step - loss: 0.3166 - accuracy: 0.8556 - val_loss: 0.6599 - val_accuracy: 0.5723\n",
      "Epoch 71/75\n",
      "116/119 [============================>.] - ETA: 0s - loss: 0.3252 - accuracy: 0.8599INFO:tensorflow:Assets written to: models/assets\n"
     ]
    },
    {
     "name": "stderr",
     "output_type": "stream",
     "text": [
      "INFO:tensorflow:Assets written to: models/assets\n",
      "\u001b[34m\u001b[1mwandb\u001b[0m: Adding directory to artifact (./models)... Done. 0.0s\n"
     ]
    },
    {
     "name": "stdout",
     "output_type": "stream",
     "text": [
      "119/119 [==============================] - 4s 32ms/step - loss: 0.3247 - accuracy: 0.8609 - val_loss: 0.6341 - val_accuracy: 0.5851\n",
      "Epoch 72/75\n",
      "119/119 [==============================] - ETA: 0s - loss: 0.3092 - accuracy: 0.8646INFO:tensorflow:Assets written to: models/assets\n"
     ]
    },
    {
     "name": "stderr",
     "output_type": "stream",
     "text": [
      "INFO:tensorflow:Assets written to: models/assets\n",
      "\u001b[34m\u001b[1mwandb\u001b[0m: Adding directory to artifact (./models)... Done. 0.0s\n"
     ]
    },
    {
     "name": "stdout",
     "output_type": "stream",
     "text": [
      "119/119 [==============================] - 4s 33ms/step - loss: 0.3092 - accuracy: 0.8646 - val_loss: 0.6290 - val_accuracy: 0.6340\n",
      "Epoch 73/75\n",
      "118/119 [============================>.] - ETA: 0s - loss: 0.3076 - accuracy: 0.8596INFO:tensorflow:Assets written to: models/assets\n"
     ]
    },
    {
     "name": "stderr",
     "output_type": "stream",
     "text": [
      "INFO:tensorflow:Assets written to: models/assets\n",
      "\u001b[34m\u001b[1mwandb\u001b[0m: Adding directory to artifact (./models)... Done. 0.0s\n"
     ]
    },
    {
     "name": "stdout",
     "output_type": "stream",
     "text": [
      "119/119 [==============================] - 4s 33ms/step - loss: 0.3076 - accuracy: 0.8593 - val_loss: 0.6288 - val_accuracy: 0.6277\n",
      "Epoch 74/75\n",
      "119/119 [==============================] - ETA: 0s - loss: 0.3052 - accuracy: 0.8646INFO:tensorflow:Assets written to: models/assets\n"
     ]
    },
    {
     "name": "stderr",
     "output_type": "stream",
     "text": [
      "INFO:tensorflow:Assets written to: models/assets\n",
      "\u001b[34m\u001b[1mwandb\u001b[0m: Adding directory to artifact (./models)... Done. 0.0s\n"
     ]
    },
    {
     "name": "stdout",
     "output_type": "stream",
     "text": [
      "119/119 [==============================] - 4s 35ms/step - loss: 0.3052 - accuracy: 0.8646 - val_loss: 0.6697 - val_accuracy: 0.6170\n",
      "Epoch 75/75\n",
      "116/119 [============================>.] - ETA: 0s - loss: 0.3083 - accuracy: 0.8621INFO:tensorflow:Assets written to: models/assets\n"
     ]
    },
    {
     "name": "stderr",
     "output_type": "stream",
     "text": [
      "INFO:tensorflow:Assets written to: models/assets\n",
      "\u001b[34m\u001b[1mwandb\u001b[0m: Adding directory to artifact (./models)... Done. 0.0s\n"
     ]
    },
    {
     "name": "stdout",
     "output_type": "stream",
     "text": [
      "119/119 [==============================] - 4s 35ms/step - loss: 0.3066 - accuracy: 0.8625 - val_loss: 0.6599 - val_accuracy: 0.6298\n"
     ]
    }
   ],
   "source": [
    "history = model.fit(Xtr, \n",
    "                    ytr, \n",
    "                    epochs=configs['epochs'], \n",
    "                    validation_data=(Xt, yt), \n",
    "                    batch_size=configs['batch_size'], \n",
    "                    verbose=1, \n",
    "                    callbacks=callbacks,\n",
    "                    )\n",
    "\n",
    "run.summary[\"Buy And Hold (Base ROI)\"] = bah_ROI\n",
    "run.summary[\"Max ROI\"] = max_ROI\n",
    "\n"
   ]
  },
  {
   "cell_type": "code",
   "execution_count": 176,
   "metadata": {},
   "outputs": [
    {
     "data": {
      "text/plain": [
       "[<matplotlib.lines.Line2D at 0x7f5da82b2620>]"
      ]
     },
     "execution_count": 176,
     "metadata": {},
     "output_type": "execute_result"
    },
    {
     "data": {
      "image/png": "[encoded data removed]",
      "text/plain": [
       "<Figure size 640x480 with 1 Axes>"
      ]
     },
     "metadata": {},
     "output_type": "display_data"
    }
   ],
   "source": [
    "plt.figure()\n",
    "plt.plot(history.history['val_accuracy'])"
   ]
  },
  {
   "cell_type": "code",
   "execution_count": 177,
   "metadata": {},
   "outputs": [],
   "source": [
    "Xtp = Xo.copy()"
   ]
  },
  {
   "cell_type": "code",
   "execution_count": 178,
   "metadata": {},
   "outputs": [
    {
     "name": "stdout",
     "output_type": "stream",
     "text": [
      "15/15 [==============================] - 0s 7ms/step\n",
      "60/60 [==============================] - 0s 4ms/step\n",
      "74/74 [==============================] - 0s 4ms/step\n"
     ]
    }
   ],
   "source": [
    "#predictions\n",
    "testPred = model.predict(Xt)\n",
    "trainPred = model.predict(Xtr)\n",
    "fullPred = model.predict(Xo)\n",
    "\n",
    "#pPred = model.predict(Xtp)\n",
    "\n",
    "#pPred = np.c_[pPred, np.zeros(pPred.shape)]"
   ]
  },
  {
   "cell_type": "code",
   "execution_count": 179,
   "metadata": {},
   "outputs": [],
   "source": [
    "testPred = np.round(testPred)\n",
    "trainPred= np.round(trainPred)\n",
    "fullPred = np.round(fullPred)\n",
    "\n"
   ]
  },
  {
   "cell_type": "code",
   "execution_count": 180,
   "metadata": {},
   "outputs": [],
   "source": [
    "y_test_orig = y_test_orig[configs['sequence_length']:]"
   ]
  },
  {
   "cell_type": "code",
   "execution_count": 181,
   "metadata": {},
   "outputs": [
    {
     "name": "stdout",
     "output_type": "stream",
     "text": [
      "Buying 6 shares for 160.01. Remaining Balance: 39.940000000000055\n",
      "Selling all shares for 167.23, cash balance: $1043.32\n",
      "Buying 6 shares for 167.53. Remaining Balance: 38.13999999999987\n",
      "Selling all shares for 161.38, cash balance: $1006.4199999999998\n",
      "Buying 6 shares for 154.46. Remaining Balance: 79.65999999999985\n",
      "Selling all shares for 155.31, cash balance: $1011.5199999999999\n",
      "Buying 6 shares for 152.37. Remaining Balance: 97.29999999999984\n",
      "Selling all shares for 154.48, cash balance: $1024.1799999999998\n",
      "Buying 6 shares for 156.90. Remaining Balance: 82.77999999999975\n",
      "Selling all shares for 153.72, cash balance: $1005.0999999999997\n",
      "Buying 6 shares for 143.86. Remaining Balance: 141.9399999999996\n",
      "Selling all shares for 143.39, cash balance: $1002.2799999999995\n",
      "Buying 6 shares for 149.35. Remaining Balance: 106.17999999999961\n",
      "Selling all shares for 146.87, cash balance: $987.3999999999996\n",
      "Buying 6 shares for 149.70. Remaining Balance: 89.1999999999997\n",
      "Selling all shares for 140.94, cash balance: $934.8399999999997\n",
      "Buying 6 shares for 142.16. Remaining Balance: 81.87999999999965\n",
      "Selling all shares for 144.49, cash balance: $948.8199999999997\n",
      "Buying 6 shares for 145.47. Remaining Balance: 75.99999999999977\n",
      "Selling all shares for 134.51, cash balance: $883.0599999999997\n",
      "Buying 6 shares for 135.45. Remaining Balance: 70.35999999999979\n",
      "Selling all shares for 148.91, cash balance: $963.8199999999998\n",
      "Buying 6 shares for 149.40. Remaining Balance: 67.41999999999973\n",
      "Selling all shares for 147.92, cash balance: $954.9399999999997\n",
      "Buying 6 shares for 147.41. Remaining Balance: 70.47999999999968\n",
      "Selling all shares for 148.50, cash balance: $961.4799999999997\n",
      "Buying 6 shares for 152.99. Remaining Balance: 43.53999999999962\n",
      "Selling all shares for 155.85, cash balance: $978.6399999999995\n",
      "Buying 6 shares for 155.00. Remaining Balance: 48.63999999999953\n",
      "Selling all shares for 160.80, cash balance: $1013.4399999999996\n",
      "Buying 6 shares for 165.21. Remaining Balance: 22.17999999999961\n",
      "Selling all shares for 165.23, cash balance: $1013.5599999999995\n",
      "Buying 5 shares for 173.50. Remaining Balance: 146.0599999999995\n",
      "Selling all shares for 172.99, cash balance: $1011.0099999999995\n",
      "Buying 5 shares for 177.30. Remaining Balance: 124.50999999999954\n",
      "Selling all shares for 185.27, cash balance: $1050.8599999999997\n",
      "Buying 5 shares for 192.46. Remaining Balance: 88.5599999999996\n",
      "Selling all shares for 191.81, cash balance: $1047.6099999999997\n",
      "Buying 5 shares for 190.54. Remaining Balance: 94.90999999999974\n",
      "Selling all shares for 193.99, cash balance: $1064.8599999999997\n",
      "Buying 6 shares for 176.38. Remaining Balance: 6.5799999999997\n",
      "Selling all shares for 178.61, cash balance: $1078.2399999999998\n",
      "Buying 5 shares for 180.19. Remaining Balance: 177.28999999999974\n",
      "Selling all shares for 177.56, cash balance: $1065.0899999999997\n",
      "Buying 6 shares for 175.01. Remaining Balance: 15.029999999999745\n",
      "Selling all shares for 177.97, cash balance: $1082.8499999999997\n",
      "Buying 6 shares for 179.23. Remaining Balance: 7.4699999999998\n",
      "Selling all shares for 186.40, cash balance: $1125.87\n",
      "Buying 6 shares for 184.80. Remaining Balance: 17.06999999999971\n",
      "Selling all shares for 194.71, cash balance: $1185.3299999999997\n",
      "Buying 5 shares for 197.96. Remaining Balance: 195.52999999999963\n",
      "Buying 1 shares for 194.83. Remaining Balance: 0.6999999999996191\n",
      "Selling all shares for 194.68, cash balance: $1168.7799999999995\n",
      "Buying 6 shares for 193.15. Remaining Balance: 9.879999999999427\n",
      "Selling all shares for 193.58, cash balance: $1171.3599999999994\n",
      "Buying 6 shares for 187.68. Remaining Balance: 45.27999999999952\n",
      "Selling all shares for 189.30, cash balance: $1181.0799999999997\n",
      "Buying 6 shares for 171.13. Remaining Balance: 154.29999999999973\n",
      "Selling all shares for 172.62, cash balance: $1190.0199999999998\n",
      "Buying 6 shares for 176.08. Remaining Balance: 133.53999999999974\n",
      "Selling all shares for 173.31, cash balance: $1173.3999999999999\n",
      "Buying 6 shares for 171.48. Remaining Balance: 144.51999999999998\n",
      "Selling all shares for 168.84, cash balance: $1157.56\n",
      "Buying 6 shares for 181.71. Remaining Balance: 67.29999999999995\n",
      "Selling all shares for 191.29, cash balance: $1215.04\n",
      "Buying 6 shares for 192.25. Remaining Balance: 61.539999999999964\n",
      "Selling all shares for 195.87, cash balance: $1236.76\n",
      "Buying 5 shares for 214.24. Remaining Balance: 165.55999999999995\n",
      "Selling all remaining held shares, cash balance: $1236.76 ***********************\n"
     ]
    }
   ],
   "source": [
    "\n",
    "lstm_preds = pd.DataFrame(data=testPred, columns=[\"Target\"], index=y_test_orig.index.copy())\n",
    "lstm_preds['close'] = other_test['close']\n",
    "run.summary[\"ROI\"] = stockutils.calculate_total_gains_bs(lstm_preds, init_value=1000, init_price=lstm_preds['close'][0])\n"
   ]
  },
  {
   "cell_type": "code",
   "execution_count": 182,
   "metadata": {},
   "outputs": [
    {
     "data": {
      "text/plain": [
       "470"
      ]
     },
     "execution_count": 182,
     "metadata": {},
     "output_type": "execute_result"
    }
   ],
   "source": [
    "y_test_orig_array = pd.Categorical(y_test_orig).codes\n",
    "len(y_test_orig_array)"
   ]
  },
  {
   "cell_type": "code",
   "execution_count": 183,
   "metadata": {},
   "outputs": [],
   "source": [
    "run.summary['accuracy'] = accuracy_score(y_test_orig_array, testPred)\n",
    "wandb.sklearn.plot_confusion_matrix(y_test_orig_array, testPred, [\"BUY\", \"SELL\"])\n",
    "\n"
   ]
  },
  {
   "cell_type": "code",
   "execution_count": 184,
   "metadata": {},
   "outputs": [
    {
     "data": {
      "application/vnd.jupyter.widget-view+json": {
       "model_id": "add7b11fc5fe43ed81b65b3da75a3d75",
       "version_major": 2,
       "version_minor": 0
      },
      "text/plain": [
       "VBox(children=(Label(value='60.574 MB of 60.574 MB uploaded (0.666 MB deduped)\\r'), FloatProgress(value=1.0, m…"
      ]
     },
     "metadata": {},
     "output_type": "display_data"
    },
    {
     "data": {
      "text/html": [
       "W&B sync reduced upload amount by 1.1%             "
      ],
      "text/plain": [
       "<IPython.core.display.HTML object>"
      ]
     },
     "metadata": {},
     "output_type": "display_data"
    },
    {
     "data": {
      "text/html": [
       "<style>\n",
       "    table.wandb td:nth-child(1) { padding: 0 10px; text-align: left ; width: auto;} td:nth-child(2) {text-align: left ; width: 100%}\n",
       "    .wandb-row { display: flex; flex-direction: row; flex-wrap: wrap; justify-content: flex-start; width: 100% }\n",
       "    .wandb-col { display: flex; flex-direction: column; flex-basis: 100%; flex: 1; padding: 10px; }\n",
       "    </style>\n",
       "<div class=\"wandb-row\"><div class=\"wandb-col\"><h3>Run history:</h3><br/><table class=\"wandb\"><tr><td>epoch/accuracy</td><td>▁▁▂▄▄▅▅▅▅▅▅▆▅▆▆▆▆▆▆▆▇▇▆▇▇▇▇▇▇▇▇█▇▇▇█▇███</td></tr><tr><td>epoch/epoch</td><td>▁▁▁▁▂▂▂▂▂▃▃▃▃▃▃▄▄▄▄▄▅▅▅▅▅▅▆▆▆▆▆▆▇▇▇▇▇███</td></tr><tr><td>epoch/learning_rate</td><td>▁▁▁▁▁▁▁▁▁▁▁▁▁▁▁▁▁▁▁▁▁▁▁▁▁▁▁▁▁▁▁▁▁▁▁▁▁▁▁▁</td></tr><tr><td>epoch/loss</td><td>██▇▆▅▅▅▅▄▄▄▄▄▄▄▃▄▃▃▃▃▃▃▂▂▂▂▂▂▂▂▂▂▁▂▁▁▁▁▁</td></tr><tr><td>epoch/val_accuracy</td><td>▁▁▁▃▆▂▅▄▇▆▃▆▇▅▇▅▆▇▆▅▇▆▆▇▇▅▆▆█▄▇▇▃▅▆▃▄▃▅▅</td></tr><tr><td>epoch/val_loss</td><td>▇▇▆▇▄▅▄▄▃▃▄▃▄▄▃▆▄▃▃▄▄▃▄▄▂▄▃▃▁▇▂▂▄▇▄█▅▄▃▆</td></tr></table><br/></div><div class=\"wandb-col\"><h3>Run summary:</h3><br/><table class=\"wandb\"><tr><td>Buy And Hold (Base ROI)</td><td>62.64</td></tr><tr><td>Max ROI</td><td>3415.19</td></tr><tr><td>ROI</td><td>236.76</td></tr><tr><td>accuracy</td><td>0.62979</td></tr><tr><td>epoch/accuracy</td><td>0.86251</td></tr><tr><td>epoch/epoch</td><td>74</td></tr><tr><td>epoch/learning_rate</td><td>0.0005</td></tr><tr><td>epoch/loss</td><td>0.30655</td></tr><tr><td>epoch/val_accuracy</td><td>0.62979</td></tr><tr><td>epoch/val_loss</td><td>0.65987</td></tr></table><br/></div></div>"
      ],
      "text/plain": [
       "<IPython.core.display.HTML object>"
      ]
     },
     "metadata": {},
     "output_type": "display_data"
    },
    {
     "data": {
      "text/html": [
       " View run <strong style=\"color:#cdcd00\">LSTMClassifier_TwoStateMajorReversals_1722369701</strong> at: <a href='https://wandb.ai/christopherandrews/StockPredictor/runs/qvbrszsu' target=\"_blank\">https://wandb.ai/christopherandrews/StockPredictor/runs/qvbrszsu</a><br/> View project at: <a href='https://wandb.ai/christopherandrews/StockPredictor' target=\"_blank\">https://wandb.ai/christopherandrews/StockPredictor</a><br/>Synced 6 W&B file(s), 1 media file(s), 376 artifact file(s) and 0 other file(s)"
      ],
      "text/plain": [
       "<IPython.core.display.HTML object>"
      ]
     },
     "metadata": {},
     "output_type": "display_data"
    },
    {
     "data": {
      "text/html": [
       "Find logs at: <code>./wandb/run-20240730_140141-qvbrszsu/logs</code>"
      ],
      "text/plain": [
       "<IPython.core.display.HTML object>"
      ]
     },
     "metadata": {},
     "output_type": "display_data"
    },
    {
     "data": {
      "text/html": [
       "The new W&B backend becomes opt-out in version 0.18.0; try it out with `wandb.require(\"core\")`! See https://wandb.me/wandb-core for more information."
      ],
      "text/plain": [
       "<IPython.core.display.HTML object>"
      ]
     },
     "metadata": {},
     "output_type": "display_data"
    }
   ],
   "source": [
    "run.finish()"
   ]
  },
  {
   "cell_type": "code",
   "execution_count": 185,
   "metadata": {},
   "outputs": [
    {
     "data": {
      "text/plain": [
       "<matplotlib.legend.Legend at 0x7f5e0e668ac0>"
      ]
     },
     "execution_count": 185,
     "metadata": {},
     "output_type": "execute_result"
    },
    {
     "data": {
      "image/png": "[encoded data removed]",
      "text/plain": [
       "<Figure size 1170x827 with 1 Axes>"
      ]
     },
     "metadata": {},
     "output_type": "display_data"
    }
   ],
   "source": [
    "a4_dims = (11.7, 8.27)\n",
    "fig, ax = plt.subplots(figsize=a4_dims)\n",
    "\n",
    "xshift = np.linspace(start=len(trainPred), stop=len(trainPred)+len(testPred),num=len(testPred))\n",
    "\n",
    "plt.plot(fullPred, 'g', label=\"actual\")\n",
    "plt.plot(trainPred, \"b\", label=\"Training Pred\")\n",
    "plt.plot(xshift, testPred, 'r',label=\"Test Pred\")\n",
    "#plt.plot(xshift, pPred, 'k',label=\"REAL Pred\")\n",
    "\n",
    "#plt.plot(epochs, val_loss, \"r\", label=\"Validation loss\")\n",
    "plt.title(\"stocks\")\n",
    "plt.xlabel(\"time\")\n",
    "plt.ylabel(\"price\")\n",
    "plt.legend()"
   ]
  },
  {
   "cell_type": "code",
   "execution_count": 186,
   "metadata": {},
   "outputs": [],
   "source": [
    "lstm_predictions = targetdf.copy()\n",
    "lstm_predictions['close'] = otherdf['close']\n",
    "\n",
    "lstm_predictions = lstm_predictions[configs['sequence_length']:]"
   ]
  },
  {
   "cell_type": "code",
   "execution_count": 187,
   "metadata": {},
   "outputs": [
    {
     "data": {
      "text/html": [
       "<div>\n",
       "<style scoped>\n",
       "    .dataframe tbody tr th:only-of-type {\n",
       "        vertical-align: middle;\n",
       "    }\n",
       "\n",
       "    .dataframe tbody tr th {\n",
       "        vertical-align: top;\n",
       "    }\n",
       "\n",
       "    .dataframe thead th {\n",
       "        text-align: right;\n",
       "    }\n",
       "</style>\n",
       "<table border=\"1\" class=\"dataframe\">\n",
       "  <thead>\n",
       "    <tr style=\"text-align: right;\">\n",
       "      <th></th>\n",
       "      <th>Target</th>\n",
       "      <th>close</th>\n",
       "    </tr>\n",
       "    <tr>\n",
       "      <th>date</th>\n",
       "      <th></th>\n",
       "      <th></th>\n",
       "    </tr>\n",
       "  </thead>\n",
       "  <tbody>\n",
       "    <tr>\n",
       "      <th>1/21/2015</th>\n",
       "      <td>0.0</td>\n",
       "      <td>27.3875</td>\n",
       "    </tr>\n",
       "    <tr>\n",
       "      <th>1/22/2015</th>\n",
       "      <td>0.0</td>\n",
       "      <td>28.1000</td>\n",
       "    </tr>\n",
       "    <tr>\n",
       "      <th>1/23/2015</th>\n",
       "      <td>0.0</td>\n",
       "      <td>28.2450</td>\n",
       "    </tr>\n",
       "    <tr>\n",
       "      <th>1/26/2015</th>\n",
       "      <td>0.0</td>\n",
       "      <td>28.2750</td>\n",
       "    </tr>\n",
       "    <tr>\n",
       "      <th>1/27/2015</th>\n",
       "      <td>0.0</td>\n",
       "      <td>27.2850</td>\n",
       "    </tr>\n",
       "  </tbody>\n",
       "</table>\n",
       "</div>"
      ],
      "text/plain": [
       "           Target    close\n",
       "date                      \n",
       "1/21/2015     0.0  27.3875\n",
       "1/22/2015     0.0  28.1000\n",
       "1/23/2015     0.0  28.2450\n",
       "1/26/2015     0.0  28.2750\n",
       "1/27/2015     0.0  27.2850"
      ]
     },
     "execution_count": 187,
     "metadata": {},
     "output_type": "execute_result"
    }
   ],
   "source": [
    "\n",
    "lstm_predictions['Target'] = fullPred\n",
    "\n",
    "lstm_predictions.head()"
   ]
  },
  {
   "cell_type": "code",
   "execution_count": 188,
   "metadata": {},
   "outputs": [
    {
     "name": "stdout",
     "output_type": "stream",
     "text": [
      "Buying 36 shares for 27.39. Remaining Balance: 14.050000000000068\n",
      "Selling all shares for 30.81, cash balance: $1123.3000000000002\n",
      "Buying 35 shares for 31.59. Remaining Balance: 17.562500000000227\n",
      "Selling all shares for 33.02, cash balance: $1173.1750000000002\n",
      "Buying 42 shares for 27.59. Remaining Balance: 14.185000000000173\n",
      "Selling all shares for 30.64, cash balance: $1301.17\n",
      "Buying 42 shares for 30.50. Remaining Balance: 20.170000000000073\n",
      "Selling all shares for 28.09, cash balance: $1199.74\n",
      "Buying 51 shares for 23.43. Remaining Balance: 5.065000000000055\n",
      "Selling all shares for 25.28, cash balance: $1294.345\n",
      "Buying 50 shares for 25.57. Remaining Balance: 16.095000000000027\n",
      "Selling all shares for 26.78, cash balance: $1355.22\n",
      "Buying 58 shares for 23.13. Remaining Balance: 13.825000000000045\n",
      "Selling all shares for 24.36, cash balance: $1426.995\n",
      "Buying 62 shares for 23.01. Remaining Balance: 0.3749999999997726\n",
      "Selling all shares for 29.56, cash balance: $1833.2499999999998\n",
      "Buying 68 shares for 26.95. Remaining Balance: 0.819999999999709\n",
      "Selling all shares for 36.65, cash balance: $2492.85\n",
      "Buying 69 shares for 35.93. Remaining Balance: 13.507500000000164\n",
      "Selling all shares for 36.46, cash balance: $2529.0750000000003\n",
      "Buying 70 shares for 36.02. Remaining Balance: 7.5\n",
      "Selling all shares for 39.97, cash balance: $2805.4\n",
      "Buying 72 shares for 38.53. Remaining Balance: 31.240000000000236\n",
      "Selling all shares for 41.95, cash balance: $3051.28\n",
      "Buying 78 shares for 38.79. Remaining Balance: 25.855000000000018\n",
      "Selling all shares for 41.23, cash balance: $3242.185\n",
      "Buying 75 shares for 43.20. Remaining Balance: 2.1849999999999454\n",
      "Selling all shares for 42.51, cash balance: $3190.6225\n",
      "Buying 73 shares for 43.31. Remaining Balance: 28.809999999999945\n",
      "Selling all shares for 43.53, cash balance: $3206.865\n",
      "Buying 73 shares for 43.68. Remaining Balance: 18.042500000000018\n",
      "Selling all shares for 41.31, cash balance: $3033.6725\n",
      "Buying 68 shares for 44.22. Remaining Balance: 26.542500000000473\n",
      "Selling all shares for 46.80, cash balance: $3208.6025000000004\n",
      "Buying 69 shares for 45.98. Remaining Balance: 35.98250000000053\n",
      "Selling all shares for 56.72, cash balance: $3949.4900000000007\n",
      "Buying 73 shares for 54.01. Remaining Balance: 7.125000000000455\n",
      "Selling all shares for 54.83, cash balance: $4009.5325000000007\n",
      "Buying 112 shares for 35.55. Remaining Balance: 28.212500000001\n",
      "Selling all shares for 47.16, cash balance: $5310.692500000001\n",
      "Buying 111 shares for 47.73. Remaining Balance: 12.662500000001273\n",
      "Selling all shares for 45.77, cash balance: $5093.410000000002\n",
      "Buying 107 shares for 47.54. Remaining Balance: 6.897500000001855\n",
      "Selling all shares for 50.44, cash balance: $5403.442500000002\n",
      "Buying 104 shares for 51.62. Remaining Balance: 34.44250000000193\n",
      "Selling all shares for 72.02, cash balance: $7524.522500000002\n",
      "Buying 134 shares for 56.09. Remaining Balance: 8.127500000001419\n",
      "Selling all shares for 117.32, cash balance: $15729.0075\n",
      "Buying 138 shares for 113.49. Remaining Balance: 67.38750000000073\n",
      "Selling all shares for 108.22, cash balance: $15001.747500000001\n",
      "Buying 133 shares for 112.28. Remaining Balance: 68.50750000000153\n",
      "Selling all shares for 116.60, cash balance: $15576.3075\n",
      "Buying 141 shares for 110.44. Remaining Balance: 4.267500000001746\n",
      "Selling all shares for 137.09, cash balance: $19333.9575\n",
      "Buying 143 shares for 134.99. Remaining Balance: 30.387500000000728\n",
      "Selling all shares for 129.71, cash balance: $18578.917500000003\n",
      "Buying 147 shares for 126.00. Remaining Balance: 56.9175000000032\n",
      "Selling all shares for 125.86, cash balance: $18558.3375\n",
      "Buying 154 shares for 119.98. Remaining Balance: 81.41749999999956\n",
      "Selling all shares for 119.99, cash balance: $18559.8775\n",
      "Buying 150 shares for 123.39. Remaining Balance: 51.37749999999869\n",
      "Selling all shares for 120.59, cash balance: $18139.8775\n",
      "Buying 149 shares for 121.21. Remaining Balance: 79.58749999999782\n",
      "Selling all shares for 128.10, cash balance: $19166.487499999996\n",
      "Buying 147 shares for 129.74. Remaining Balance: 94.70749999999316\n",
      "Selling all shares for 125.91, cash balance: $18603.477499999994\n",
      "Buying 148 shares for 125.28. Remaining Balance: 62.03749999999491\n",
      "Selling all shares for 146.15, cash balance: $21692.237499999996\n",
      "Buying 149 shares for 145.40. Remaining Balance: 27.63749999999345\n",
      "Selling all shares for 144.98, cash balance: $21629.65749999999\n",
      "Buying 148 shares for 145.64. Remaining Balance: 74.93749999999272\n",
      "Selling all shares for 146.36, cash balance: $21736.217499999995\n",
      "Buying 145 shares for 149.62. Remaining Balance: 41.31749999999374\n",
      "Selling all shares for 149.55, cash balance: $21726.067499999994\n",
      "Buying 146 shares for 148.12. Remaining Balance: 100.5474999999933\n",
      "Selling all shares for 149.03, cash balance: $21858.927499999994\n",
      "Buying 146 shares for 148.79. Remaining Balance: 135.58749999999418\n",
      "Selling all shares for 142.94, cash balance: $21004.827499999992\n",
      "Buying 143 shares for 146.83. Remaining Balance: 8.137499999989814\n",
      "Selling all shares for 142.83, cash balance: $20432.827499999992\n",
      "Buying 141 shares for 144.84. Remaining Balance: 10.387499999993452\n",
      "Selling all shares for 147.87, cash balance: $20860.057499999995\n",
      "Buying 139 shares for 149.99. Remaining Balance: 11.447499999994761\n",
      "Selling all shares for 161.41, cash balance: $22447.437499999993\n",
      "Buying 143 shares for 156.81. Remaining Balance: 23.607499999990978\n",
      "Selling all shares for 160.24, cash balance: $22937.92749999999\n",
      "Buying 138 shares for 165.30. Remaining Balance: 126.52749999998923\n",
      "Selling all shares for 164.77, cash balance: $22864.78749999999\n",
      "Buying 139 shares for 163.76. Remaining Balance: 102.14749999999185\n",
      "Selling all shares for 172.99, cash balance: $24147.757499999992\n",
      "Buying 137 shares for 175.64. Remaining Balance: 85.07749999999578\n",
      "Selling all shares for 178.20, cash balance: $24498.477499999994\n",
      "Buying 140 shares for 174.78. Remaining Balance: 29.27749999999287\n",
      "Selling all shares for 172.90, cash balance: $24235.277499999993\n",
      "Buying 137 shares for 176.28. Remaining Balance: 84.91749999999229\n",
      "Selling all shares for 172.79, cash balance: $23757.147499999992\n",
      "Buying 137 shares for 172.55. Remaining Balance: 117.79749999998967\n",
      "Selling all shares for 167.30, cash balance: $23037.897499999992\n",
      "Buying 138 shares for 166.23. Remaining Balance: 98.15749999999389\n",
      "Selling all shares for 163.17, cash balance: $22615.617499999993\n",
      "Buying 142 shares for 158.52. Remaining Balance: 105.77749999999287\n",
      "Selling all shares for 150.62, cash balance: $21493.817499999994\n",
      "Buying 134 shares for 159.59. Remaining Balance: 108.75749999999243\n",
      "Selling all shares for 178.44, cash balance: $24019.71749999999\n",
      "Buying 139 shares for 172.14. Remaining Balance: 92.25749999999243\n",
      "Selling all shares for 165.75, cash balance: $23131.507499999992\n",
      "Buying 139 shares for 166.02. Remaining Balance: 54.72749999998996\n",
      "Selling all shares for 157.28, cash balance: $21916.647499999992\n",
      "Buying 155 shares for 140.82. Remaining Balance: 89.5474999999933\n",
      "Selling all shares for 137.35, cash balance: $21378.797499999993\n",
      "Buying 152 shares for 140.36. Remaining Balance: 44.07749999999214\n",
      "Selling all shares for 140.52, cash balance: $21403.117499999993\n",
      "Buying 148 shares for 143.78. Remaining Balance: 123.67749999999432\n",
      "Selling all shares for 137.13, cash balance: $20418.917499999992\n",
      "Buying 156 shares for 130.06. Remaining Balance: 129.5574999999917\n",
      "Selling all shares for 131.56, cash balance: $20652.917499999992\n",
      "Buying 152 shares for 135.87. Remaining Balance: 0.6774999999906868\n",
      "Selling all shares for 138.93, cash balance: $21118.03749999999\n",
      "Buying 144 shares for 146.35. Remaining Balance: 43.63749999999345\n",
      "Selling all shares for 167.23, cash balance: $24124.757499999992\n",
      "Buying 144 shares for 167.53. Remaining Balance: 0.43749999999272404\n",
      "Selling all shares for 161.38, cash balance: $23239.157499999994\n",
      "Buying 150 shares for 154.46. Remaining Balance: 70.15749999999389\n",
      "Selling all shares for 155.31, cash balance: $23366.657499999994\n",
      "Buying 153 shares for 152.37. Remaining Balance: 54.047499999993306\n",
      "Selling all shares for 154.48, cash balance: $23689.487499999992\n",
      "Buying 150 shares for 156.90. Remaining Balance: 154.487499999992\n",
      "Selling all shares for 153.72, cash balance: $23212.487499999992\n",
      "Buying 161 shares for 143.86. Remaining Balance: 51.02749999998923\n",
      "Selling all shares for 143.39, cash balance: $23136.817499999986\n",
      "Buying 154 shares for 149.35. Remaining Balance: 136.91749999998865\n",
      "Buying 1 shares for 134.87. Remaining Balance: 2.047499999988645\n",
      "Selling all shares for 146.87, cash balance: $22766.897499999992\n",
      "Buying 152 shares for 149.70. Remaining Balance: 12.497499999994034\n",
      "Selling all shares for 140.94, cash balance: $21435.377499999995\n",
      "Buying 150 shares for 142.16. Remaining Balance: 111.37749999999505\n",
      "Selling all shares for 144.49, cash balance: $21784.877499999995\n",
      "Buying 149 shares for 145.47. Remaining Balance: 109.84749999999622\n",
      "Selling all shares for 134.51, cash balance: $20151.837499999994\n",
      "Buying 148 shares for 135.45. Remaining Balance: 105.23749999999563\n",
      "Selling all shares for 148.91, cash balance: $22143.917499999996\n",
      "Buying 148 shares for 149.40. Remaining Balance: 32.7174999999952\n",
      "Selling all shares for 147.92, cash balance: $21924.877499999995\n",
      "Buying 148 shares for 147.41. Remaining Balance: 108.19749999999476\n",
      "Selling all shares for 148.50, cash balance: $22086.197499999995\n",
      "Buying 144 shares for 152.99. Remaining Balance: 55.63749999999345\n",
      "Selling all shares for 155.85, cash balance: $22498.03749999999\n",
      "Buying 145 shares for 155.00. Remaining Balance: 23.03749999999127\n",
      "Selling all shares for 160.80, cash balance: $23339.03749999999\n",
      "Buying 141 shares for 165.21. Remaining Balance: 44.42749999999069\n",
      "Selling all shares for 165.23, cash balance: $23341.85749999999\n",
      "Buying 134 shares for 173.50. Remaining Balance: 92.85749999999098\n",
      "Selling all shares for 172.99, cash balance: $23273.51749999999\n",
      "Buying 131 shares for 177.30. Remaining Balance: 47.21749999998792\n",
      "Selling all shares for 185.27, cash balance: $24317.58749999999\n",
      "Buying 126 shares for 192.46. Remaining Balance: 67.62749999998778\n",
      "Selling all shares for 191.81, cash balance: $24235.68749999999\n",
      "Buying 127 shares for 190.54. Remaining Balance: 37.10749999999098\n",
      "Selling all shares for 193.99, cash balance: $24673.83749999999\n",
      "Buying 139 shares for 176.38. Remaining Balance: 157.01749999999083\n",
      "Selling all shares for 178.61, cash balance: $24983.80749999999\n",
      "Buying 138 shares for 180.19. Remaining Balance: 117.58749999999054\n",
      "Selling all shares for 177.56, cash balance: $24620.86749999999\n",
      "Buying 140 shares for 175.01. Remaining Balance: 119.46749999999156\n",
      "Selling all shares for 177.97, cash balance: $25035.26749999999\n",
      "Buying 139 shares for 179.23. Remaining Balance: 122.2974999999933\n",
      "Selling all shares for 186.40, cash balance: $26031.897499999995\n",
      "Buying 140 shares for 184.80. Remaining Balance: 159.8974999999955\n",
      "Selling all shares for 194.71, cash balance: $27419.297499999997\n",
      "Buying 138 shares for 197.96. Remaining Balance: 100.81749999999738\n",
      "Selling all shares for 194.68, cash balance: $26966.657499999998\n",
      "Buying 139 shares for 193.15. Remaining Balance: 118.80749999999534\n",
      "Selling all shares for 193.58, cash balance: $27026.427499999998\n",
      "Buying 144 shares for 187.68. Remaining Balance: 0.507499999996071\n",
      "Selling all shares for 189.30, cash balance: $27259.707499999997\n",
      "Buying 159 shares for 171.13. Remaining Balance: 50.037499999998545\n",
      "Selling all shares for 172.62, cash balance: $27496.6175\n",
      "Buying 156 shares for 176.08. Remaining Balance: 28.13749999999709\n",
      "Selling all shares for 173.31, cash balance: $27064.497499999998\n",
      "Buying 157 shares for 171.48. Remaining Balance: 142.13750000000073\n",
      "Selling all shares for 168.84, cash balance: $26650.0175\n",
      "Buying 146 shares for 181.71. Remaining Balance: 120.35750000000189\n",
      "Selling all shares for 191.29, cash balance: $28048.697500000002\n",
      "Buying 145 shares for 192.25. Remaining Balance: 172.44750000000204\n",
      "Selling all shares for 195.87, cash balance: $28573.597500000003\n",
      "Buying 133 shares for 214.24. Remaining Balance: 79.6775000000016\n",
      "Selling all remaining held shares, cash balance: $28573.597500000003 ***********************\n"
     ]
    },
    {
     "data": {
      "text/plain": [
       "27573.597500000003"
      ]
     },
     "execution_count": 188,
     "metadata": {},
     "output_type": "execute_result"
    }
   ],
   "source": [
    "stockutils.calculate_total_gains_bs(lstm_predictions, init_value=1000, init_price=lstm_predictions['close'][0])"
   ]
  },
  {
   "cell_type": "code",
   "execution_count": 189,
   "metadata": {},
   "outputs": [
    {
     "data": {
      "text/plain": [
       "<Axes: xlabel='date', ylabel='close'>"
      ]
     },
     "execution_count": 189,
     "metadata": {},
     "output_type": "execute_result"
    },
    {
     "data": {
      "image/png": "[encoded data removed]",
      "text/plain": [
       "<Figure size 1600x1000 with 1 Axes>"
      ]
     },
     "metadata": {},
     "output_type": "display_data"
    }
   ],
   "source": [
    "a4_dims = (16,10)\n",
    "fig, ax = plt.subplots(figsize=a4_dims)\n",
    "#plot the actual close line\n",
    "ax=sns.lineplot(data=otherdf, x=otherdf.index, y='close', c='black', alpha=0.4)\n",
    "# plot the predicted values\n",
    "sns.scatterplot(data=lstm_predictions, x=lstm_predictions.index, y='close', hue='Target',s=20)\n"
   ]
  },
  {
   "cell_type": "markdown",
   "metadata": {},
   "source": [
    "If we were predicting price, based on price, we run into a problem where we need to convert our test data to be predictions based on the training data, and compare that to reality.  For Buy/Sell signals, there is no dependency on previous buy/sell signals (there still is price, but test dat is real data with no dependency on buy/sell signals)"
   ]
  },
  {
   "cell_type": "markdown",
   "metadata": {},
   "source": [
    "# LSTM Stacked Model - more than one layer of LSTM\n",
    "\n",
    "I will also make this one predict into the future..."
   ]
  },
  {
   "cell_type": "code",
   "execution_count": 444,
   "metadata": {},
   "outputs": [],
   "source": [
    "# first, set up our configuration (will be logged)\n",
    "configs = dict(\n",
    "    num_classes = 2,\n",
    "    earlystopping_patience = 10,\n",
    "    sequence_length = 5,\n",
    "    epochs = 20,\n",
    "    optimizer = 'nadam',\n",
    "    learning_rate = 0.001,\n",
    "    targetName = targetName,\n",
    "    batch_size = 16,\n",
    ")"
   ]
  },
  {
   "cell_type": "code",
   "execution_count": 445,
   "metadata": {},
   "outputs": [
    {
     "name": "stdout",
     "output_type": "stream",
     "text": [
      "(2371,)\n"
     ]
    }
   ],
   "source": [
    "# lets start over with the data\n",
    "import stockutils\n",
    "\n",
    "stockdf, targetdf, otherdf = stockutils.import_stock_csv(filename=\"AAPL_Advanced.csv\", target=targetName)#, debug_counter=True)\n",
    "y_orig = targetdf[\"Target\"]\n",
    "print(y_orig.shape)"
   ]
  },
  {
   "cell_type": "markdown",
   "metadata": {},
   "source": [
    "A way to create sequences of a given sequence length and prediction horizion\n",
    "\n",
    "Note that we are doing it before the split, in order to capture data that crosses the boundary between train and test\n",
    "\n",
    "Our data loses seq_len + pred_horizon samples from the end\n",
    "y_data loses seq_len samples from the beginning.\n",
    "X_data "
   ]
  },
  {
   "cell_type": "code",
   "execution_count": 446,
   "metadata": {},
   "outputs": [],
   "source": [
    "import numpy as np\n",
    "import pandas as pd\n",
    "from sklearn.preprocessing import LabelEncoder\n",
    "from keras.utils import to_categorical\n",
    "from keras.callbacks import EarlyStopping\n",
    "from wandb.integration.keras import WandbMetricsLogger, WandbModelCheckpoint\n",
    "\n",
    "sequence_length = configs['sequence_length'] # Length of input sequences\n",
    "prediction_horizon = configs['sequence_length']#configs['sequence_length']  # Predict 5 days ahead\n",
    "\n",
    "#NOTE I cannot get this to work unless the sequence length == prediction_horizon\n",
    "\n",
    "# def create_sequences(X_data, y_data, seq_length, pred_horizon):\n",
    "#     xs, ys = [], []\n",
    "#     # we will chop off seq_length + pred_horizon samples from the end of our  data len(xdata)=2371, so 2361 total\n",
    "#     for i in range(len(X_data) - seq_length - pred_horizon):  # from 0 to the chop point\n",
    "#         #This slice represents one input sequence for the LSTM model. copying seq_length future steps to each x, (so we get a list at each x index)\n",
    "#         x = X_data[i:(i + seq_length)]  # first value is X_data[0:5]\n",
    "#         # for y, we copy the  'pred_horizon' targets to each y, offset from x by seq_length (these are the actual BUY or SELL signals), and extends to the prediction horizon\n",
    "#         y = y_data[(i + seq_length):(i + seq_length + pred_horizon)] # first value is y_data[5:10], last is y_data[2365:2370]\n",
    "#         xs.append(x)\n",
    "#         ys.append(y)\n",
    "#     return np.array(xs), np.array(ys)\n",
    "\n",
    "\n",
    "# # Create sequences and labels\n",
    "# #### X, y = create_sequences(stockdf.values, y_cat, sequence_length, prediction_horizon)\n",
    "# X, y = create_sequences(stockdf.values, targetdf.values, sequence_length, prediction_horizon)"
   ]
  },
  {
   "cell_type": "code",
   "execution_count": 447,
   "metadata": {},
   "outputs": [
    {
     "data": {
      "text/plain": [
       "'SELL'"
      ]
     },
     "execution_count": 447,
     "metadata": {},
     "output_type": "execute_result"
    }
   ],
   "source": [
    "targetdf.values[0][0]"
   ]
  },
  {
   "cell_type": "code",
   "execution_count": 448,
   "metadata": {},
   "outputs": [],
   "source": [
    "def create_sequences(X_data, y_data, seq_length, pred_horizon):\n",
    "    xs, ys = [], []\n",
    "    # we will chop off seq_length + pred_horizon samples from the end of our  data len(xdata)=2371, so 2361 total\n",
    "    for i in range(seq_length, 1+len(X_data) - pred_horizon):  # i is from 4 to 38=(42-4)\n",
    "        #This slice represents one input sequence for the LSTM model. copying seq_length future steps to each x, (so we get a list at each x index)\n",
    "        x = X_data[i-seq_length : i]  # first value is X_data[0:5]\n",
    "        # for y, we copy the  'pred_horizon' targets to each y, offset from x by seq_length (these are the actual BUY or SELL signals), and extends to the prediction horizon\n",
    "        #if pred_horizon == 1:\n",
    "        #    y= y_data[i][0]\n",
    "        #else:\n",
    "        y = y_data[(i):(i + pred_horizon)] # first value is y_data[5:10], last is y_data[2365:2370]\n",
    "        xs.append(x)\n",
    "        ys.append(y)\n",
    "    return np.array(xs), np.array(ys)"
   ]
  },
  {
   "cell_type": "code",
   "execution_count": 449,
   "metadata": {},
   "outputs": [],
   "source": [
    "X, y = create_sequences(stockdf.values, targetdf.values, sequence_length, prediction_horizon)"
   ]
  },
  {
   "cell_type": "code",
   "execution_count": 450,
   "metadata": {},
   "outputs": [
    {
     "data": {
      "text/plain": [
       "((2362, 5, 23), (2362, 5, 1))"
      ]
     },
     "execution_count": 450,
     "metadata": {},
     "output_type": "execute_result"
    }
   ],
   "source": [
    "X.shape, y.shape"
   ]
  },
  {
   "cell_type": "markdown",
   "metadata": {},
   "source": [
    "So we lost sequence_length off the front of y, and prediction_horizion off the back end, (could not fill in due to lack of data beyond 2365)\n",
    "Need to shift our dates for correlating date with predictions"
   ]
  },
  {
   "cell_type": "code",
   "execution_count": 451,
   "metadata": {},
   "outputs": [],
   "source": [
    "y_plot_df = targetdf[sequence_length:-prediction_horizon]\n",
    "price_df = otherdf[sequence_length:-prediction_horizon]\n",
    "\n",
    "#y_plot_df"
   ]
  },
  {
   "cell_type": "markdown",
   "metadata": {},
   "source": [
    "#### Calculate buy and hold ROI - Put somewhere else"
   ]
  },
  {
   "cell_type": "code",
   "execution_count": 452,
   "metadata": {},
   "outputs": [],
   "source": [
    "# import math\n",
    "\n",
    "# other_test = otherdf.iloc[-y_data.shape[0]:]\n",
    "\n",
    "# bah_actuals = pd.DataFrame(data=y_data, columns=[\"Target\"], index=y_data.index.copy())\n",
    "# bah_actuals['close'] = other_test['close']\n",
    "# max_ROI = stockutils.calculate_total_gains_bhs(bah_actuals, init_value=1000, init_price=bah_actuals['close'][0])\n",
    "# print(\"Max attainable ROI: \", max_ROI)\n",
    "\n",
    "# num_bought = math.floor(1000/ bah_actuals['close'][0])\n",
    "# bah_ROI = (bah_actuals['close'][-1] - bah_actuals['close'][0])\n",
    "# bah_ROI"
   ]
  },
  {
   "cell_type": "markdown",
   "metadata": {},
   "source": [
    "Our X data is in the correct shape that we need, but if not\n",
    "Reshape X to fit LSTM input shape [samples, time steps, features]  \n",
    "\n",
    "> X = X.reshape((X.shape[0], X.shape[1], X.shape[2]))"
   ]
  },
  {
   "cell_type": "markdown",
   "metadata": {},
   "source": [
    "Y data, however needs to be converted to categoricals one-hot encoding.  This works generally, even though we could technically do a single output... "
   ]
  },
  {
   "cell_type": "code",
   "execution_count": 453,
   "metadata": {},
   "outputs": [],
   "source": [
    "# Reshape y to match the expected output shape [samples, time steps, classes]\n",
    "y_flat = y.flatten()\n",
    "label_encoder = LabelEncoder()  # we will use this later to reverse \n",
    "y_encoded = label_encoder.fit_transform(y_flat)\n"
   ]
  },
  {
   "cell_type": "code",
   "execution_count": 454,
   "metadata": {},
   "outputs": [
    {
     "data": {
      "text/plain": [
       "3"
      ]
     },
     "execution_count": 454,
     "metadata": {},
     "output_type": "execute_result"
    }
   ],
   "source": [
    "y.ndim"
   ]
  },
  {
   "cell_type": "code",
   "execution_count": 455,
   "metadata": {},
   "outputs": [
    {
     "data": {
      "text/plain": [
       "array([[1., 0.],\n",
       "       [1., 0.],\n",
       "       [1., 0.],\n",
       "       ...,\n",
       "       [1., 0.],\n",
       "       [1., 0.],\n",
       "       [1., 0.]], dtype=float32)"
      ]
     },
     "execution_count": 455,
     "metadata": {},
     "output_type": "execute_result"
    }
   ],
   "source": [
    "y_cat = to_categorical(y_encoded)\n",
    "y_cat"
   ]
  },
  {
   "cell_type": "code",
   "execution_count": 456,
   "metadata": {},
   "outputs": [],
   "source": [
    "y_cat = to_categorical(y_encoded)\n",
    "\n",
    "#if y.ndim > 1:\n",
    "# Reshape y back to match the model output shape\n",
    "y_cat = y_cat.reshape(y.shape[0], y.shape[1], -1)"
   ]
  },
  {
   "cell_type": "markdown",
   "metadata": {},
   "source": [
    "## Create the model"
   ]
  },
  {
   "cell_type": "code",
   "execution_count": 457,
   "metadata": {},
   "outputs": [
    {
     "name": "stdout",
     "output_type": "stream",
     "text": [
      "Model: \"sequential_18\"\n",
      "_________________________________________________________________\n",
      " Layer (type)                Output Shape              Param #   \n",
      "=================================================================\n",
      " lstm_46 (LSTM)              (None, 5, 50)             14800     \n",
      "                                                                 \n",
      " lstm_47 (LSTM)              (None, 5, 50)             20200     \n",
      "                                                                 \n",
      " lstm_48 (LSTM)              (None, 5, 50)             20200     \n",
      "                                                                 \n",
      " lstm_49 (LSTM)              (None, 5, 50)             20200     \n",
      "                                                                 \n",
      " time_distributed_16 (TimeD  (None, 5, 2)              102       \n",
      " istributed)                                                     \n",
      "                                                                 \n",
      "=================================================================\n",
      "Total params: 75502 (294.93 KB)\n",
      "Trainable params: 75502 (294.93 KB)\n",
      "Non-trainable params: 0 (0.00 Byte)\n",
      "_________________________________________________________________\n"
     ]
    }
   ],
   "source": [
    "from keras.models import Sequential\n",
    "from keras.layers import LSTM, Dense, TimeDistributed\n",
    "import stockutils\n",
    "\n",
    "num_features = 23  # X.shape[2]\n",
    "num_classes = 2  # Binary classification: BUY or SELL  y_cat.shape[2]\n",
    "\n",
    "optimizer = Adam(learning_rate=configs['learning_rate'])\n",
    "\n",
    "model = Sequential()\n",
    "model.add(LSTM(50, activation='tanh', input_shape=(sequence_length, num_features), return_sequences=True))\n",
    "model.add(LSTM(50, activation='tanh', input_shape=(sequence_length, num_features), return_sequences=True))\n",
    "model.add(LSTM(50, activation='tanh', input_shape=(sequence_length, num_features), return_sequences=True))\n",
    "model.add(LSTM(50, activation='tanh', return_sequences=True, dropout=0.2))\n",
    "model.add(TimeDistributed(Dense(num_classes, activation='softmax')))\n",
    "\n",
    "model.compile(optimizer=optimizer, loss='categorical_crossentropy', metrics=['accuracy'])\n",
    "\n",
    "model.summary()"
   ]
  },
  {
   "cell_type": "markdown",
   "metadata": {},
   "source": [
    "### Log in to Weights and biases for tracking"
   ]
  },
  {
   "cell_type": "code",
   "execution_count": 458,
   "metadata": {},
   "outputs": [
    {
     "data": {
      "text/html": [
       "Finishing last run (ID:3op1c8jd) before initializing another..."
      ],
      "text/plain": [
       "<IPython.core.display.HTML object>"
      ]
     },
     "metadata": {},
     "output_type": "display_data"
    },
    {
     "data": {
      "application/vnd.jupyter.widget-view+json": {
       "model_id": "8bf4f3061fed48e09cfb42e13425fec9",
       "version_major": 2,
       "version_minor": 0
      },
      "text/plain": [
       "VBox(children=(Label(value='0.002 MB of 0.013 MB uploaded\\r'), FloatProgress(value=0.17971721811526592, max=1.…"
      ]
     },
     "metadata": {},
     "output_type": "display_data"
    },
    {
     "data": {
      "text/html": [
       " View run <strong style=\"color:#cdcd00\">StackedLSTMClassifier_2_TwoStateMajorReversals_1722376983</strong> at: <a href='https://wandb.ai/christopherandrews/StockPredictor/runs/3op1c8jd' target=\"_blank\">https://wandb.ai/christopherandrews/StockPredictor/runs/3op1c8jd</a><br/> View project at: <a href='https://wandb.ai/christopherandrews/StockPredictor' target=\"_blank\">https://wandb.ai/christopherandrews/StockPredictor</a><br/>Synced 5 W&B file(s), 0 media file(s), 0 artifact file(s) and 0 other file(s)"
      ],
      "text/plain": [
       "<IPython.core.display.HTML object>"
      ]
     },
     "metadata": {},
     "output_type": "display_data"
    },
    {
     "data": {
      "text/html": [
       "Find logs at: <code>./wandb/run-20240730_160303-3op1c8jd/logs</code>"
      ],
      "text/plain": [
       "<IPython.core.display.HTML object>"
      ]
     },
     "metadata": {},
     "output_type": "display_data"
    },
    {
     "data": {
      "text/html": [
       "The new W&B backend becomes opt-out in version 0.18.0; try it out with `wandb.require(\"core\")`! See https://wandb.me/wandb-core for more information."
      ],
      "text/plain": [
       "<IPython.core.display.HTML object>"
      ]
     },
     "metadata": {},
     "output_type": "display_data"
    },
    {
     "data": {
      "text/html": [
       "Successfully finished last run (ID:3op1c8jd). Initializing new run:<br/>"
      ],
      "text/plain": [
       "<IPython.core.display.HTML object>"
      ]
     },
     "metadata": {},
     "output_type": "display_data"
    },
    {
     "data": {
      "application/vnd.jupyter.widget-view+json": {
       "model_id": "68af36dd0f9942919a2820f6d99c583c",
       "version_major": 2,
       "version_minor": 0
      },
      "text/plain": [
       "VBox(children=(Label(value='Waiting for wandb.init()...\\r'), FloatProgress(value=0.011113067833341322, max=1.0…"
      ]
     },
     "metadata": {},
     "output_type": "display_data"
    },
    {
     "data": {
      "text/html": [
       "wandb version 0.17.5 is available!  To upgrade, please run:\n",
       " $ pip install wandb --upgrade"
      ],
      "text/plain": [
       "<IPython.core.display.HTML object>"
      ]
     },
     "metadata": {},
     "output_type": "display_data"
    },
    {
     "data": {
      "text/html": [
       "Tracking run with wandb version 0.17.4"
      ],
      "text/plain": [
       "<IPython.core.display.HTML object>"
      ]
     },
     "metadata": {},
     "output_type": "display_data"
    },
    {
     "data": {
      "text/html": [
       "Run data is saved locally in <code>/home/candrews/Projects/MyProjects/StockPredictor/notebooks/wandb/run-20240730_160824-hiqhsykl</code>"
      ],
      "text/plain": [
       "<IPython.core.display.HTML object>"
      ]
     },
     "metadata": {},
     "output_type": "display_data"
    },
    {
     "data": {
      "text/html": [
       "Syncing run <strong><a href='https://wandb.ai/christopherandrews/StockPredictor/runs/hiqhsykl' target=\"_blank\">StackedLSTMClassifier_2_TwoStateMajorReversals_1722377304</a></strong> to <a href='https://wandb.ai/christopherandrews/StockPredictor' target=\"_blank\">Weights & Biases</a> (<a href='https://wandb.me/run' target=\"_blank\">docs</a>)<br/>"
      ],
      "text/plain": [
       "<IPython.core.display.HTML object>"
      ]
     },
     "metadata": {},
     "output_type": "display_data"
    },
    {
     "data": {
      "text/html": [
       " View project at <a href='https://wandb.ai/christopherandrews/StockPredictor' target=\"_blank\">https://wandb.ai/christopherandrews/StockPredictor</a>"
      ],
      "text/plain": [
       "<IPython.core.display.HTML object>"
      ]
     },
     "metadata": {},
     "output_type": "display_data"
    },
    {
     "data": {
      "text/html": [
       " View run at <a href='https://wandb.ai/christopherandrews/StockPredictor/runs/hiqhsykl' target=\"_blank\">https://wandb.ai/christopherandrews/StockPredictor/runs/hiqhsykl</a>"
      ],
      "text/plain": [
       "<IPython.core.display.HTML object>"
      ]
     },
     "metadata": {},
     "output_type": "display_data"
    }
   ],
   "source": [
    "run_name = f\"StackedLSTMClassifier_2_{targetName}_{int(time.time())}\"\n",
    "run = wandb.init(entity=\"christopherandrews\", project=\"StockPredictor\", name=run_name, save_code=False, settings=wandb.Settings(start_method=\"fork\"), reinit=True, config=configs)"
   ]
  },
  {
   "cell_type": "markdown",
   "metadata": {},
   "source": [
    "### Train Test Split"
   ]
  },
  {
   "cell_type": "code",
   "execution_count": 459,
   "metadata": {},
   "outputs": [],
   "source": [
    "# Split the data into training and testing sets\n",
    "X_train, X_test, y_train, y_test = train_test_split(X, y_cat, test_size=.2, random_state=42, shuffle=False)\n",
    "\n",
    "test_price_df = price_df[-len(y_test):]\n",
    "train_price_df = price_df[:len(y_train)]\n",
    "\n"
   ]
  },
  {
   "cell_type": "code",
   "execution_count": 460,
   "metadata": {},
   "outputs": [
    {
     "data": {
      "text/plain": [
       "(473, 5, 2)"
      ]
     },
     "execution_count": 460,
     "metadata": {},
     "output_type": "execute_result"
    }
   ],
   "source": [
    "y_test.shape"
   ]
  },
  {
   "cell_type": "markdown",
   "metadata": {},
   "source": [
    "# Fit"
   ]
  },
  {
   "cell_type": "code",
   "execution_count": 461,
   "metadata": {},
   "outputs": [
    {
     "name": "stdout",
     "output_type": "stream",
     "text": [
      "Epoch 1/20\n",
      "117/119 [============================>.] - ETA: 0s - loss: 0.6296 - accuracy: 0.6968INFO:tensorflow:Assets written to: models/assets\n"
     ]
    },
    {
     "name": "stderr",
     "output_type": "stream",
     "text": [
      "INFO:tensorflow:Assets written to: models/assets\n",
      "\u001b[34m\u001b[1mwandb\u001b[0m: Adding directory to artifact (./models)... Done. 0.0s\n"
     ]
    },
    {
     "name": "stdout",
     "output_type": "stream",
     "text": [
      "119/119 [==============================] - 23s 125ms/step - loss: 0.6305 - accuracy: 0.6949 - val_loss: 0.6895 - val_accuracy: 0.5560\n",
      "Epoch 2/20\n",
      "119/119 [==============================] - ETA: 0s - loss: 0.6163 - accuracy: 0.6936INFO:tensorflow:Assets written to: models/assets\n"
     ]
    },
    {
     "name": "stderr",
     "output_type": "stream",
     "text": [
      "INFO:tensorflow:Assets written to: models/assets\n",
      "\u001b[34m\u001b[1mwandb\u001b[0m: Adding directory to artifact (./models)... Done. 0.0s\n"
     ]
    },
    {
     "name": "stdout",
     "output_type": "stream",
     "text": [
      "119/119 [==============================] - 13s 106ms/step - loss: 0.6163 - accuracy: 0.6936 - val_loss: 0.6875 - val_accuracy: 0.5560\n",
      "Epoch 3/20\n",
      "117/119 [============================>.] - ETA: 0s - loss: 0.6040 - accuracy: 0.6948INFO:tensorflow:Assets written to: models/assets\n"
     ]
    },
    {
     "name": "stderr",
     "output_type": "stream",
     "text": [
      "INFO:tensorflow:Assets written to: models/assets\n",
      "\u001b[34m\u001b[1mwandb\u001b[0m: Adding directory to artifact (./models)... Done. 0.0s\n"
     ]
    },
    {
     "name": "stdout",
     "output_type": "stream",
     "text": [
      "119/119 [==============================] - 13s 108ms/step - loss: 0.6032 - accuracy: 0.6957 - val_loss: 0.6913 - val_accuracy: 0.5332\n",
      "Epoch 4/20\n",
      "119/119 [==============================] - ETA: 0s - loss: 0.5961 - accuracy: 0.6881INFO:tensorflow:Assets written to: models/assets\n"
     ]
    },
    {
     "name": "stderr",
     "output_type": "stream",
     "text": [
      "INFO:tensorflow:Assets written to: models/assets\n",
      "\u001b[34m\u001b[1mwandb\u001b[0m: Adding directory to artifact (./models)... Done. 0.0s\n"
     ]
    },
    {
     "name": "stdout",
     "output_type": "stream",
     "text": [
      "119/119 [==============================] - 14s 115ms/step - loss: 0.5961 - accuracy: 0.6881 - val_loss: 0.6880 - val_accuracy: 0.5488\n",
      "Epoch 5/20\n",
      "119/119 [==============================] - ETA: 0s - loss: 0.5737 - accuracy: 0.6999INFO:tensorflow:Assets written to: models/assets\n"
     ]
    },
    {
     "name": "stderr",
     "output_type": "stream",
     "text": [
      "INFO:tensorflow:Assets written to: models/assets\n",
      "\u001b[34m\u001b[1mwandb\u001b[0m: Adding directory to artifact (./models)... Done. 0.0s\n"
     ]
    },
    {
     "name": "stdout",
     "output_type": "stream",
     "text": [
      "119/119 [==============================] - 15s 129ms/step - loss: 0.5737 - accuracy: 0.6999 - val_loss: 0.6644 - val_accuracy: 0.5852\n",
      "Epoch 6/20\n",
      "117/119 [============================>.] - ETA: 0s - loss: 0.5665 - accuracy: 0.7009INFO:tensorflow:Assets written to: models/assets\n"
     ]
    },
    {
     "name": "stderr",
     "output_type": "stream",
     "text": [
      "INFO:tensorflow:Assets written to: models/assets\n",
      "\u001b[34m\u001b[1mwandb\u001b[0m: Adding directory to artifact (./models)... Done. 0.0s\n"
     ]
    },
    {
     "name": "stdout",
     "output_type": "stream",
     "text": [
      "119/119 [==============================] - 13s 109ms/step - loss: 0.5666 - accuracy: 0.7012 - val_loss: 0.6876 - val_accuracy: 0.5391\n",
      "Epoch 7/20\n",
      "119/119 [==============================] - ETA: 0s - loss: 0.5565 - accuracy: 0.7120INFO:tensorflow:Assets written to: models/assets\n"
     ]
    },
    {
     "name": "stderr",
     "output_type": "stream",
     "text": [
      "INFO:tensorflow:Assets written to: models/assets\n",
      "\u001b[34m\u001b[1mwandb\u001b[0m: Adding directory to artifact (./models)... Done. 0.0s\n"
     ]
    },
    {
     "name": "stdout",
     "output_type": "stream",
     "text": [
      "119/119 [==============================] - 13s 106ms/step - loss: 0.5565 - accuracy: 0.7120 - val_loss: 0.6704 - val_accuracy: 0.5467\n",
      "Epoch 8/20\n",
      "119/119 [==============================] - ETA: 0s - loss: 0.5514 - accuracy: 0.7212INFO:tensorflow:Assets written to: models/assets\n"
     ]
    },
    {
     "name": "stderr",
     "output_type": "stream",
     "text": [
      "INFO:tensorflow:Assets written to: models/assets\n",
      "\u001b[34m\u001b[1mwandb\u001b[0m: Adding directory to artifact (./models)... Done. 0.0s\n"
     ]
    },
    {
     "name": "stdout",
     "output_type": "stream",
     "text": [
      "119/119 [==============================] - 13s 110ms/step - loss: 0.5514 - accuracy: 0.7212 - val_loss: 0.6592 - val_accuracy: 0.6161\n",
      "Epoch 9/20\n",
      "118/119 [============================>.] - ETA: 0s - loss: 0.5432 - accuracy: 0.7285INFO:tensorflow:Assets written to: models/assets\n"
     ]
    },
    {
     "name": "stderr",
     "output_type": "stream",
     "text": [
      "INFO:tensorflow:Assets written to: models/assets\n",
      "\u001b[34m\u001b[1mwandb\u001b[0m: Adding directory to artifact (./models)... Done. 0.0s\n"
     ]
    },
    {
     "name": "stdout",
     "output_type": "stream",
     "text": [
      "119/119 [==============================] - 15s 130ms/step - loss: 0.5430 - accuracy: 0.7286 - val_loss: 0.6740 - val_accuracy: 0.5679\n",
      "Epoch 10/20\n",
      "119/119 [==============================] - ETA: 0s - loss: 0.5400 - accuracy: 0.7256INFO:tensorflow:Assets written to: models/assets\n"
     ]
    },
    {
     "name": "stderr",
     "output_type": "stream",
     "text": [
      "INFO:tensorflow:Assets written to: models/assets\n",
      "\u001b[34m\u001b[1mwandb\u001b[0m: Adding directory to artifact (./models)... Done. 0.0s\n"
     ]
    },
    {
     "name": "stdout",
     "output_type": "stream",
     "text": [
      "119/119 [==============================] - 13s 109ms/step - loss: 0.5400 - accuracy: 0.7256 - val_loss: 0.6762 - val_accuracy: 0.5818\n",
      "Epoch 11/20\n",
      "117/119 [============================>.] - ETA: 0s - loss: 0.5319 - accuracy: 0.7369INFO:tensorflow:Assets written to: models/assets\n"
     ]
    },
    {
     "name": "stderr",
     "output_type": "stream",
     "text": [
      "INFO:tensorflow:Assets written to: models/assets\n",
      "\u001b[34m\u001b[1mwandb\u001b[0m: Adding directory to artifact (./models)... Done. 0.0s\n"
     ]
    },
    {
     "name": "stdout",
     "output_type": "stream",
     "text": [
      "119/119 [==============================] - 13s 110ms/step - loss: 0.5337 - accuracy: 0.7361 - val_loss: 0.6617 - val_accuracy: 0.5488\n",
      "Epoch 12/20\n",
      "119/119 [==============================] - ETA: 0s - loss: 0.5435 - accuracy: 0.7220INFO:tensorflow:Assets written to: models/assets\n"
     ]
    },
    {
     "name": "stderr",
     "output_type": "stream",
     "text": [
      "INFO:tensorflow:Assets written to: models/assets\n",
      "\u001b[34m\u001b[1mwandb\u001b[0m: Adding directory to artifact (./models)... Done. 0.0s\n"
     ]
    },
    {
     "name": "stdout",
     "output_type": "stream",
     "text": [
      "119/119 [==============================] - 13s 112ms/step - loss: 0.5435 - accuracy: 0.7220 - val_loss: 0.6732 - val_accuracy: 0.5493\n",
      "Epoch 13/20\n",
      "118/119 [============================>.] - ETA: 0s - loss: 0.5279 - accuracy: 0.7351INFO:tensorflow:Assets written to: models/assets\n"
     ]
    },
    {
     "name": "stderr",
     "output_type": "stream",
     "text": [
      "INFO:tensorflow:Assets written to: models/assets\n",
      "\u001b[34m\u001b[1mwandb\u001b[0m: Adding directory to artifact (./models)... Done. 0.0s\n"
     ]
    },
    {
     "name": "stdout",
     "output_type": "stream",
     "text": [
      "119/119 [==============================] - 17s 141ms/step - loss: 0.5278 - accuracy: 0.7352 - val_loss: 0.6746 - val_accuracy: 0.5725\n",
      "Epoch 14/20\n",
      "117/119 [============================>.] - ETA: 0s - loss: 0.5282 - accuracy: 0.7287INFO:tensorflow:Assets written to: models/assets\n"
     ]
    },
    {
     "name": "stderr",
     "output_type": "stream",
     "text": [
      "INFO:tensorflow:Assets written to: models/assets\n",
      "\u001b[34m\u001b[1mwandb\u001b[0m: Adding directory to artifact (./models)... Done. 0.0s\n"
     ]
    },
    {
     "name": "stdout",
     "output_type": "stream",
     "text": [
      "119/119 [==============================] - 16s 135ms/step - loss: 0.5289 - accuracy: 0.7279 - val_loss: 0.6795 - val_accuracy: 0.5721\n",
      "Epoch 15/20\n",
      "119/119 [==============================] - ETA: 0s - loss: 0.5216 - accuracy: 0.7376INFO:tensorflow:Assets written to: models/assets\n"
     ]
    },
    {
     "name": "stderr",
     "output_type": "stream",
     "text": [
      "INFO:tensorflow:Assets written to: models/assets\n",
      "\u001b[34m\u001b[1mwandb\u001b[0m: Adding directory to artifact (./models)... Done. 0.0s\n"
     ]
    },
    {
     "name": "stdout",
     "output_type": "stream",
     "text": [
      "119/119 [==============================] - 13s 106ms/step - loss: 0.5216 - accuracy: 0.7376 - val_loss: 0.6798 - val_accuracy: 0.5751\n",
      "Epoch 16/20\n",
      "119/119 [==============================] - ETA: 0s - loss: 0.5173 - accuracy: 0.7433INFO:tensorflow:Assets written to: models/assets\n"
     ]
    },
    {
     "name": "stderr",
     "output_type": "stream",
     "text": [
      "INFO:tensorflow:Assets written to: models/assets\n",
      "\u001b[34m\u001b[1mwandb\u001b[0m: Adding directory to artifact (./models)... Done. 0.0s\n"
     ]
    },
    {
     "name": "stdout",
     "output_type": "stream",
     "text": [
      "119/119 [==============================] - 13s 110ms/step - loss: 0.5173 - accuracy: 0.7433 - val_loss: 0.6839 - val_accuracy: 0.5514\n",
      "Epoch 17/20\n",
      "118/119 [============================>.] - ETA: 0s - loss: 0.5199 - accuracy: 0.7376INFO:tensorflow:Assets written to: models/assets\n"
     ]
    },
    {
     "name": "stderr",
     "output_type": "stream",
     "text": [
      "INFO:tensorflow:Assets written to: models/assets\n",
      "\u001b[34m\u001b[1mwandb\u001b[0m: Adding directory to artifact (./models)... Done. 0.0s\n"
     ]
    },
    {
     "name": "stdout",
     "output_type": "stream",
     "text": [
      "119/119 [==============================] - 13s 110ms/step - loss: 0.5198 - accuracy: 0.7377 - val_loss: 0.6663 - val_accuracy: 0.5493\n",
      "Epoch 18/20\n",
      "118/119 [============================>.] - ETA: 0s - loss: 0.5094 - accuracy: 0.7456INFO:tensorflow:Assets written to: models/assets\n"
     ]
    },
    {
     "name": "stderr",
     "output_type": "stream",
     "text": [
      "INFO:tensorflow:Assets written to: models/assets\n",
      "\u001b[34m\u001b[1mwandb\u001b[0m: Adding directory to artifact (./models)... Done. 0.0s\n"
     ]
    },
    {
     "name": "stdout",
     "output_type": "stream",
     "text": [
      "119/119 [==============================] - 16s 132ms/step - loss: 0.5092 - accuracy: 0.7457 - val_loss: 0.6703 - val_accuracy: 0.5539\n",
      "Epoch 19/20\n",
      "118/119 [============================>.] - ETA: 0s - loss: 0.5039 - accuracy: 0.7446INFO:tensorflow:Assets written to: models/assets\n"
     ]
    },
    {
     "name": "stderr",
     "output_type": "stream",
     "text": [
      "INFO:tensorflow:Assets written to: models/assets\n",
      "\u001b[34m\u001b[1mwandb\u001b[0m: Adding directory to artifact (./models)... Done. 0.0s\n"
     ]
    },
    {
     "name": "stdout",
     "output_type": "stream",
     "text": [
      "119/119 [==============================] - 13s 108ms/step - loss: 0.5037 - accuracy: 0.7447 - val_loss: 0.6802 - val_accuracy: 0.5548\n",
      "Epoch 20/20\n",
      "117/119 [============================>.] - ETA: 0s - loss: 0.5149 - accuracy: 0.7499INFO:tensorflow:Assets written to: models/assets\n"
     ]
    },
    {
     "name": "stderr",
     "output_type": "stream",
     "text": [
      "INFO:tensorflow:Assets written to: models/assets\n",
      "\u001b[34m\u001b[1mwandb\u001b[0m: Adding directory to artifact (./models)... Done. 0.0s\n"
     ]
    },
    {
     "name": "stdout",
     "output_type": "stream",
     "text": [
      "119/119 [==============================] - 13s 108ms/step - loss: 0.5140 - accuracy: 0.7504 - val_loss: 0.6774 - val_accuracy: 0.5518\n",
      "15/15 [==============================] - 0s 21ms/step - loss: 0.6774 - accuracy: 0.5518\n",
      "Test Loss: 0.6774401068687439, Test Accuracy: 0.5517970323562622\n"
     ]
    }
   ],
   "source": [
    "from sklearn.model_selection import train_test_split\n",
    "\n",
    "es = EarlyStopping(monitor='accuracy', patience=configs['earlystopping_patience'])\n",
    "\n",
    "callbacks = [es, WandbMetricsLogger(), WandbModelCheckpoint(\"models\")]\n",
    "#callbacks = [es]\n",
    "\n",
    "# Train the model\n",
    "model2_history = model.fit(X_train, y_train, epochs=configs['epochs'], batch_size=configs['batch_size'], validation_data=(X_test, y_test), callbacks=callbacks)\n",
    "\n",
    "# Evaluate the model\n",
    "loss, accuracy = model.evaluate(X_test, y_test)\n",
    "print(f'Test Loss: {loss}, Test Accuracy: {accuracy}')"
   ]
  },
  {
   "cell_type": "markdown",
   "metadata": {},
   "source": [
    "# Predict"
   ]
  },
  {
   "cell_type": "code",
   "execution_count": 462,
   "metadata": {},
   "outputs": [
    {
     "name": "stdout",
     "output_type": "stream",
     "text": [
      "15/15 [==============================] - 2s 12ms/step\n"
     ]
    },
    {
     "data": {
      "text/plain": [
       "array([[0, 0, 0, 0, 0],\n",
       "       [0, 0, 0, 0, 0],\n",
       "       [0, 0, 0, 0, 0],\n",
       "       ...,\n",
       "       [0, 0, 0, 0, 0],\n",
       "       [0, 0, 0, 0, 0],\n",
       "       [0, 0, 0, 0, 0]])"
      ]
     },
     "execution_count": 462,
     "metadata": {},
     "output_type": "execute_result"
    }
   ],
   "source": [
    "testPred = model.predict(X_test)\n",
    "testPred_labels = np.argmax(testPred, axis=-1)\n",
    "\n",
    "testPred_labels"
   ]
  },
  {
   "cell_type": "code",
   "execution_count": 463,
   "metadata": {},
   "outputs": [
    {
     "data": {
      "text/plain": [
       "array(['BUY', 'BUY', 'BUY', ..., 'BUY', 'BUY', 'BUY'], dtype=object)"
      ]
     },
     "execution_count": 463,
     "metadata": {},
     "output_type": "execute_result"
    }
   ],
   "source": [
    "# Decode predictions back to original labels\n",
    "decoded_preds = label_encoder.inverse_transform(testPred_labels.flatten())\n",
    "decoded_preds"
   ]
  },
  {
   "cell_type": "code",
   "execution_count": 464,
   "metadata": {},
   "outputs": [
    {
     "data": {
      "text/plain": [
       "(473, 5)"
      ]
     },
     "execution_count": 464,
     "metadata": {},
     "output_type": "execute_result"
    }
   ],
   "source": [
    "\n",
    "\n",
    "# Reshape to match the original shape of the test labels\n",
    "decoded_preds = decoded_preds.reshape(testPred_labels.shape)\n",
    "\n",
    "decoded_preds.shape"
   ]
  },
  {
   "cell_type": "code",
   "execution_count": 465,
   "metadata": {},
   "outputs": [],
   "source": [
    "decoded_ytest  =  y_test[:,:,1].astype(int)\n",
    "#decoded_ytest #"
   ]
  },
  {
   "cell_type": "code",
   "execution_count": 466,
   "metadata": {},
   "outputs": [],
   "source": [
    "#Also to the y_test\n",
    "# Decode predictions back to original labels\n",
    "y_test_decoded = label_encoder.inverse_transform(decoded_ytest.flatten())\n"
   ]
  },
  {
   "cell_type": "code",
   "execution_count": 467,
   "metadata": {},
   "outputs": [],
   "source": [
    "# Reshape to match the original shape of the test labels\n",
    "y_test_decoded = y_test_decoded.reshape(decoded_ytest.shape)\n",
    "#y_test_decoded"
   ]
  },
  {
   "cell_type": "code",
   "execution_count": 468,
   "metadata": {},
   "outputs": [],
   "source": [
    "dates = test_price_df.index\n",
    "#dates"
   ]
  },
  {
   "cell_type": "code",
   "execution_count": 469,
   "metadata": {},
   "outputs": [],
   "source": [
    "#days_in_advance = 0\n",
    "lstm_preds = pd.DataFrame(data=decoded_preds[:,0], columns=[\"Target\"], index=test_price_df.index)\n"
   ]
  },
  {
   "cell_type": "code",
   "execution_count": 470,
   "metadata": {},
   "outputs": [
    {
     "name": "stdout",
     "output_type": "stream",
     "text": [
      "Buying 6 shares for 155.35. Remaining Balance: 67.90000000000009\n",
      "Selling all remaining held shares, cash balance: $1234.78 ***********************\n"
     ]
    }
   ],
   "source": [
    "\n",
    "lstm_preds['close'] = test_price_df['close']\n",
    "\n",
    "run.summary[\"ROI\"] = stockutils.calculate_total_gains_bs(lstm_preds, init_value=1000, init_price=lstm_preds['close'][0])\n",
    "\n",
    "#lstm_preds"
   ]
  },
  {
   "cell_type": "code",
   "execution_count": 471,
   "metadata": {},
   "outputs": [
    {
     "name": "stdout",
     "output_type": "stream",
     "text": [
      "Buying 6 shares for 155.35. Remaining Balance: 67.90000000000009\n",
      "Selling all remaining held shares, cash balance: $1234.78 ***********************\n"
     ]
    },
    {
     "data": {
      "text/plain": [
       "234.77999999999997"
      ]
     },
     "execution_count": 471,
     "metadata": {},
     "output_type": "execute_result"
    },
    {
     "ename": "",
     "evalue": "",
     "output_type": "error",
     "traceback": [
      "\u001b[1;31mThe Kernel crashed while executing code in the current cell or a previous cell. \n",
      "\u001b[1;31mPlease review the code in the cell(s) to identify a possible cause of the failure. \n",
      "\u001b[1;31mClick <a href='https://aka.ms/vscodeJupyterKernelCrash'>here</a> for more info. \n",
      "\u001b[1;31mView Jupyter <a href='command:jupyter.viewOutput'>log</a> for further details."
     ]
    }
   ],
   "source": [
    "\n",
    "stockutils.calculate_total_gains_bs(lstm_preds, init_value=1000, init_price=lstm_preds['close'][0])"
   ]
  },
  {
   "cell_type": "code",
   "execution_count": 383,
   "metadata": {},
   "outputs": [
    {
     "data": {
      "text/plain": [
       "0.5801268498942918"
      ]
     },
     "execution_count": 383,
     "metadata": {},
     "output_type": "execute_result"
    }
   ],
   "source": [
    "#flatten the sequences to get accuracy\n",
    "accuracy = accuracy_score(y_test_decoded.flatten(), decoded_preds.flatten())\n",
    "accuracy\n"
   ]
  },
  {
   "cell_type": "code",
   "execution_count": 384,
   "metadata": {},
   "outputs": [],
   "source": [
    "run.summary['accuracy'] = accuracy_score(y_test_decoded.flatten(), decoded_preds.flatten())\n",
    "#wandb.sklearn.plot_confusion_matrix(y_test_orig_array, testPred, [\"BUY\", \"SELL\"])"
   ]
  },
  {
   "cell_type": "code",
   "execution_count": 385,
   "metadata": {},
   "outputs": [
    {
     "data": {
      "application/vnd.jupyter.widget-view+json": {
       "model_id": "a95b3b742fdf4c219f45fa4849b598df",
       "version_major": 2,
       "version_minor": 0
      },
      "text/plain": [
       "VBox(children=(Label(value='65.144 MB of 65.144 MB uploaded (0.450 MB deduped)\\r'), FloatProgress(value=1.0, m…"
      ]
     },
     "metadata": {},
     "output_type": "display_data"
    },
    {
     "data": {
      "text/html": [
       "<style>\n",
       "    table.wandb td:nth-child(1) { padding: 0 10px; text-align: left ; width: auto;} td:nth-child(2) {text-align: left ; width: 100%}\n",
       "    .wandb-row { display: flex; flex-direction: row; flex-wrap: wrap; justify-content: flex-start; width: 100% }\n",
       "    .wandb-col { display: flex; flex-direction: column; flex-basis: 100%; flex: 1; padding: 10px; }\n",
       "    </style>\n",
       "<div class=\"wandb-row\"><div class=\"wandb-col\"><h3>Run history:</h3><br/><table class=\"wandb\"><tr><td>epoch/accuracy</td><td>▁▁▁▁▂▃▃▄▄▄▅▅▆▆▆▇██▇█</td></tr><tr><td>epoch/epoch</td><td>▁▁▂▂▂▃▃▄▄▄▅▅▅▆▆▇▇▇██</td></tr><tr><td>epoch/learning_rate</td><td>▁▁▁▁▁▁▁▁▁▁▁▁▁▁▁▁▁▁▁▁</td></tr><tr><td>epoch/loss</td><td>█▇▇▆▅▄▄▃▄▃▃▃▂▂▂▁▁▁▁▁</td></tr><tr><td>epoch/val_accuracy</td><td>▄▄▅▄▆▇▄▄█▄█▂▁▃▂▂▇▅▃▆</td></tr><tr><td>epoch/val_loss</td><td>▃█▃▃▁▁▃▂▂▃▂▂▃▁▂▂▂▂▂▂</td></tr></table><br/></div><div class=\"wandb-col\"><h3>Run summary:</h3><br/><table class=\"wandb\"><tr><td>ROI</td><td>447.23</td></tr><tr><td>accuracy</td><td>0.58013</td></tr><tr><td>epoch/accuracy</td><td>0.7478</td></tr><tr><td>epoch/epoch</td><td>19</td></tr><tr><td>epoch/learning_rate</td><td>0.001</td></tr><tr><td>epoch/loss</td><td>0.50982</td></tr><tr><td>epoch/val_accuracy</td><td>0.58013</td></tr><tr><td>epoch/val_loss</td><td>0.67991</td></tr></table><br/></div></div>"
      ],
      "text/plain": [
       "<IPython.core.display.HTML object>"
      ]
     },
     "metadata": {},
     "output_type": "display_data"
    },
    {
     "data": {
      "text/html": [
       " View run <strong style=\"color:#cdcd00\">StackedLSTMClassifier_2_TwoStateMajorReversals_1722375445</strong> at: <a href='https://wandb.ai/christopherandrews/StockPredictor/runs/xn3avfty' target=\"_blank\">https://wandb.ai/christopherandrews/StockPredictor/runs/xn3avfty</a><br/> View project at: <a href='https://wandb.ai/christopherandrews/StockPredictor' target=\"_blank\">https://wandb.ai/christopherandrews/StockPredictor</a><br/>Synced 5 W&B file(s), 0 media file(s), 100 artifact file(s) and 0 other file(s)"
      ],
      "text/plain": [
       "<IPython.core.display.HTML object>"
      ]
     },
     "metadata": {},
     "output_type": "display_data"
    },
    {
     "data": {
      "text/html": [
       "Find logs at: <code>./wandb/run-20240730_153725-xn3avfty/logs</code>"
      ],
      "text/plain": [
       "<IPython.core.display.HTML object>"
      ]
     },
     "metadata": {},
     "output_type": "display_data"
    },
    {
     "data": {
      "text/html": [
       "The new W&B backend becomes opt-out in version 0.18.0; try it out with `wandb.require(\"core\")`! See https://wandb.me/wandb-core for more information."
      ],
      "text/plain": [
       "<IPython.core.display.HTML object>"
      ]
     },
     "metadata": {},
     "output_type": "display_data"
    }
   ],
   "source": [
    "run.finish()"
   ]
  },
  {
   "cell_type": "code",
   "execution_count": 330,
   "metadata": {},
   "outputs": [
    {
     "data": {
      "text/plain": [
       "<Axes: xlabel='date', ylabel='close'>"
      ]
     },
     "execution_count": 330,
     "metadata": {},
     "output_type": "execute_result"
    },
    {
     "data": {
      "image/png": "[encoded data removed]",
      "text/plain": [
       "<Figure size 1600x1000 with 1 Axes>"
      ]
     },
     "metadata": {},
     "output_type": "display_data"
    }
   ],
   "source": [
    "a4_dims = (16,10)\n",
    "fig, ax = plt.subplots(figsize=a4_dims)\n",
    "#plot the actual close line\n",
    "ax=sns.lineplot(data=otherdf, x=otherdf.index, y='close', c='black', alpha=0.4)\n",
    "# plot the predicted values\n",
    "sns.scatterplot(data=lstm_preds, x=lstm_preds.index, y='close', hue='Target',s=20)"
   ]
  },
  {
   "cell_type": "code",
   "execution_count": null,
   "metadata": {},
   "outputs": [],
   "source": []
  }
 ],
 "metadata": {
  "kernelspec": {
   "display_name": "Python 3",
   "language": "python",
   "name": "python3"
  },
  "language_info": {
   "codemirror_mode": {
    "name": "ipython",
    "version": 3
   },
   "file_extension": ".py",
   "mimetype": "text/x-python",
   "name": "python",
   "nbconvert_exporter": "python",
   "pygments_lexer": "ipython3",
   "version": "3.10.14"
  }
 },
 "nbformat": 4,
 "nbformat_minor": 2
}
