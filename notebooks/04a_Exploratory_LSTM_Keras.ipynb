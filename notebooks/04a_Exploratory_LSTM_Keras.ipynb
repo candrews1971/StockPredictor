{
 "cells": [
  {
   "cell_type": "code",
   "execution_count": 1,
   "metadata": {},
   "outputs": [
    {
     "name": "stderr",
     "output_type": "stream",
     "text": [
      "2024-07-23 14:55:57.475338: E external/local_xla/xla/stream_executor/cuda/cuda_dnn.cc:9261] Unable to register cuDNN factory: Attempting to register factory for plugin cuDNN when one has already been registered\n",
      "2024-07-23 14:55:57.475404: E external/local_xla/xla/stream_executor/cuda/cuda_fft.cc:607] Unable to register cuFFT factory: Attempting to register factory for plugin cuFFT when one has already been registered\n",
      "2024-07-23 14:55:57.513945: E external/local_xla/xla/stream_executor/cuda/cuda_blas.cc:1515] Unable to register cuBLAS factory: Attempting to register factory for plugin cuBLAS when one has already been registered\n",
      "2024-07-23 14:55:57.571508: I tensorflow/core/platform/cpu_feature_guard.cc:182] This TensorFlow binary is optimized to use available CPU instructions in performance-critical operations.\n",
      "To enable the following instructions: SSE4.1 SSE4.2 AVX AVX2 FMA, in other operations, rebuild TensorFlow with the appropriate compiler flags.\n"
     ]
    }
   ],
   "source": [
    "import pandas as pd\n",
    "import os\n",
    "import numpy as np\n",
    "import matplotlib.pyplot as plt\n",
    "import seaborn as sns\n",
    "import time\n",
    "\n",
    "import stockutils\n",
    "\n",
    "\n",
    "from sklearn.metrics import confusion_matrix\n",
    "from sklearn.model_selection import train_test_split\n",
    "from sklearn.metrics import accuracy_score, precision_score, recall_score, roc_auc_score\n",
    "from sklearn.tree import export_graphviz\n",
    "from graphviz import Source\n",
    "\n",
    "\n",
    "from torch.utils.tensorboard import SummaryWriter\n",
    "\n",
    "#track experiments\n",
    "import wandb\n",
    "from wandb.integration.xgboost import WandbCallback\n",
    "\n",
    "# Where to save the figures\n",
    "PROJECT_ROOT_DIR = \"..\"\n",
    "CHAPTER_ID = \"exploratory_models\"\n",
    "IMAGES_PATH = os.path.join(PROJECT_ROOT_DIR, \"images\", CHAPTER_ID)\n",
    "os.makedirs(IMAGES_PATH, exist_ok=True)\n",
    "\n",
    "#targetName = \"TwoStDayAfterMajRev\"\n",
    "targetName = \"TwoStateMajorReversals\""
   ]
  },
  {
   "cell_type": "code",
   "execution_count": 2,
   "metadata": {},
   "outputs": [
    {
     "name": "stdout",
     "output_type": "stream",
     "text": [
      "(2371,)\n"
     ]
    }
   ],
   "source": [
    "stockdf, targetdf, otherdf = stockutils.import_stock_csv(\"AAPL_Advanced.csv\", target=targetName)\n",
    "y_orig = targetdf[\"Target\"]\n",
    "print(y_orig.shape)\n",
    "#targetdf.rename(columns={\"DayAfterMajorReversal\":'Target'}, inplace=True)\n",
    "#targetdf.head()"
   ]
  },
  {
   "cell_type": "markdown",
   "metadata": {},
   "source": [
    "# LSTM\n",
    "\n",
    "Note that we do not have any offset data in the current dataset, so we can split cleanly, and won't get future information contaminating our current state."
   ]
  },
  {
   "cell_type": "code",
   "execution_count": 3,
   "metadata": {},
   "outputs": [],
   "source": [
    "X_train, X_test, y_train, y_test = train_test_split(stockdf, y_orig, test_size=0.2,shuffle=False)\n",
    "\n",
    "other_test = otherdf.iloc[-y_test.shape[0]:]"
   ]
  },
  {
   "cell_type": "code",
   "execution_count": 4,
   "metadata": {},
   "outputs": [
    {
     "name": "stderr",
     "output_type": "stream",
     "text": [
      "Failed to detect the name of this notebook, you can set it manually with the WANDB_NOTEBOOK_NAME environment variable to enable code saving.\n",
      "\u001b[34m\u001b[1mwandb\u001b[0m: Currently logged in as: \u001b[33mcandrews1971\u001b[0m (\u001b[33mchristopherandrews\u001b[0m). Use \u001b[1m`wandb login --relogin`\u001b[0m to force relogin\n",
      "\u001b[34m\u001b[1mwandb\u001b[0m: \u001b[33mWARNING\u001b[0m If you're specifying your api key in code, ensure this code is not shared publicly.\n",
      "\u001b[34m\u001b[1mwandb\u001b[0m: \u001b[33mWARNING\u001b[0m Consider setting the WANDB_API_KEY environment variable, or running `wandb login` from the command line.\n",
      "\u001b[34m\u001b[1mwandb\u001b[0m: Appending key for api.wandb.ai to your netrc file: /root/.netrc\n"
     ]
    },
    {
     "data": {
      "text/plain": [
       "True"
      ]
     },
     "execution_count": 4,
     "metadata": {},
     "output_type": "execute_result"
    }
   ],
   "source": [
    "wandb.login(key=\"d2e07e8a9d7ef675859816d6e8230c50ccd2846d\")"
   ]
  },
  {
   "cell_type": "markdown",
   "metadata": {},
   "source": [
    "# Base ROI"
   ]
  },
  {
   "cell_type": "code",
   "execution_count": 5,
   "metadata": {},
   "outputs": [
    {
     "name": "stdout",
     "output_type": "stream",
     "text": [
      "Buying 6 shares for 151.60. Remaining Balance: 90.40000000000009\n",
      "Selling all shares for 174.55, cash balance: $1137.7000000000003\n",
      "Buying 8 shares for 138.34. Remaining Balance: 30.980000000000246\n",
      "Selling all shares for 155.74, cash balance: $1276.9000000000003\n",
      "Buying 9 shares for 134.87. Remaining Balance: 63.07000000000039\n",
      "Selling all shares for 151.29, cash balance: $1424.6800000000003\n",
      "Buying 11 shares for 125.02. Remaining Balance: 49.460000000000264\n",
      "Selling all shares for 155.33, cash balance: $1758.0900000000004\n",
      "Buying 12 shares for 145.31. Remaining Balance: 14.370000000000346\n",
      "Selling all shares for 196.45, cash balance: $2371.77\n",
      "Buying 13 shares for 174.00. Remaining Balance: 109.76999999999998\n",
      "Selling all shares for 189.70, cash balance: $2575.87\n",
      "Buying 15 shares for 171.21. Remaining Balance: 7.7199999999998\n",
      "Selling all shares for 180.71, cash balance: $2718.37\n",
      "Buying 16 shares for 166.89. Remaining Balance: 48.13000000000011\n",
      "Selling all shares for 198.11, cash balance: $3217.8900000000003\n",
      "Buying 17 shares for 182.68. Remaining Balance: 112.33000000000038\n",
      "Selling all shares for 195.18, cash balance: $3430.3900000000003\n",
      "Buying 20 shares for 165.00. Remaining Balance: 130.39000000000033\n",
      "Selling all remaining held shares, cash balance: $4415.1900000000005 ***********************\n"
     ]
    },
    {
     "data": {
      "text/plain": [
       "62.640000000000015"
      ]
     },
     "execution_count": 5,
     "metadata": {},
     "output_type": "execute_result"
    }
   ],
   "source": [
    "import math\n",
    "bah_actuals = pd.DataFrame(data=y_test, columns=[\"Target\"], index=y_test.index.copy())\n",
    "bah_actuals['close'] = other_test['close']\n",
    "max_ROI = stockutils.calculate_total_gains_bhs(bah_actuals, init_value=1000, init_price=bah_actuals['close'][0])\n",
    "\n",
    "num_bought = math.floor(1000/ bah_actuals['close'][0])\n",
    "bah_ROI = (bah_actuals['close'][-1] - bah_actuals['close'][0])\n",
    "bah_ROI"
   ]
  },
  {
   "cell_type": "code",
   "execution_count": 6,
   "metadata": {},
   "outputs": [
    {
     "data": {
      "text/plain": [
       "pandas.core.series.Series"
      ]
     },
     "execution_count": 6,
     "metadata": {},
     "output_type": "execute_result"
    }
   ],
   "source": [
    "type(y_train)"
   ]
  },
  {
   "cell_type": "code",
   "execution_count": 7,
   "metadata": {},
   "outputs": [
    {
     "data": {
      "text/plain": [
       "(1896, 23)"
      ]
     },
     "execution_count": 7,
     "metadata": {},
     "output_type": "execute_result"
    }
   ],
   "source": [
    "X_train.shape"
   ]
  },
  {
   "attachments": {
    "image.png": {
     "image/png": "[encoded data removed]"
    }
   },
   "cell_type": "markdown",
   "metadata": {},
   "source": [
    "# Inputs\n",
    "\n",
    "![image.png](attachment:image.png)"
   ]
  },
  {
   "cell_type": "markdown",
   "metadata": {},
   "source": [
    "# Configuration"
   ]
  },
  {
   "cell_type": "code",
   "execution_count": 8,
   "metadata": {},
   "outputs": [],
   "source": [
    "# first, set up our configuration (will be logged)\n",
    "configs = dict(\n",
    "    num_classes = 1,\n",
    "    earlystopping_patience = 15,\n",
    "    sequence_length = 5,\n",
    "    epochs = 75,\n",
    "    optimizer = 'nadam',\n",
    "    learning_rate = 0.0005,\n",
    "    targetName = targetName,\n",
    "    batch_size = 16,\n",
    ")"
   ]
  },
  {
   "cell_type": "markdown",
   "metadata": {},
   "source": [
    "## Create Sequences"
   ]
  },
  {
   "cell_type": "code",
   "execution_count": 9,
   "metadata": {},
   "outputs": [],
   "source": [
    "y_test_orig = y_test.copy()\n",
    "\n",
    "# Convert y to numbers\n",
    "y_train= pd.Categorical(y_train).codes\n",
    "y_test= pd.Categorical(y_test).codes\n",
    "y_orig= pd.Categorical(y_orig).codes"
   ]
  },
  {
   "cell_type": "code",
   "execution_count": 10,
   "metadata": {},
   "outputs": [
    {
     "data": {
      "text/plain": [
       "numpy.ndarray"
      ]
     },
     "execution_count": 10,
     "metadata": {},
     "output_type": "execute_result"
    }
   ],
   "source": [
    "type(y_train)"
   ]
  },
  {
   "cell_type": "code",
   "execution_count": 11,
   "metadata": {},
   "outputs": [],
   "source": [
    "# First, we have to convert our dataframes to numpy arrays\n",
    "\n",
    "X_train = X_train.values\n",
    "#y_train = y_train.to_numpy() #conversion to categorical (above) does this for us\n",
    "\n",
    "X_test = X_test.values\n",
    "#y_test = y_test.to_numpy()\n",
    "\n",
    "X_orig = stockdf.values\n",
    "#y_orig = y_orig.to_numpy()"
   ]
  },
  {
   "cell_type": "code",
   "execution_count": 12,
   "metadata": {},
   "outputs": [
    {
     "data": {
      "text/plain": [
       "2371"
      ]
     },
     "execution_count": 12,
     "metadata": {},
     "output_type": "execute_result"
    }
   ],
   "source": [
    "assert(len(X_orig) == len(X_train) + len(X_test))\n",
    "len(X_orig)"
   ]
  },
  {
   "cell_type": "code",
   "execution_count": 13,
   "metadata": {},
   "outputs": [
    {
     "data": {
      "text/plain": [
       "numpy.ndarray"
      ]
     },
     "execution_count": 13,
     "metadata": {},
     "output_type": "execute_result"
    }
   ],
   "source": [
    "type(X_train)\n"
   ]
  },
  {
   "cell_type": "code",
   "execution_count": 14,
   "metadata": {},
   "outputs": [],
   "source": [
    "seq_length = configs['sequence_length']\n",
    "\n",
    "Xtr = []\n",
    "ytr = []\n",
    "Xt = []\n",
    "yt = []\n",
    "Xo= []\n",
    "yo = []\n",
    "for i in range(seq_length, len(X_train)):\n",
    "    Xtr.append(X_train[i -seq_length: i, :X_train.shape[1]])\n",
    "    ytr.append(y_train[i])# starts appending at 0.  Can we use shift() instead? \n",
    "# do the same for Xt, yt\n",
    "for i in range(seq_length, len(X_test)):\n",
    "    Xt.append(X_test[i -seq_length: i, :X_test.shape[1]])\n",
    "    yt.append(y_test[i])\n",
    "for i in range(seq_length, len(X_orig)):\n",
    "    Xo.append(X_orig[i -seq_length: i, :X_orig.shape[1]])\n",
    "    yo.append(y_orig[i])"
   ]
  },
  {
   "cell_type": "code",
   "execution_count": 15,
   "metadata": {},
   "outputs": [],
   "source": [
    "# convert to np arrays again\n",
    "Xtr = np.array(Xtr)\n",
    "ytr = np.array(ytr)\n",
    "Xt = np.array(Xt)\n",
    "yt = np.array(yt)\n",
    "Xo = np.array(Xo)\n",
    "yo = np.array(yo)"
   ]
  },
  {
   "cell_type": "markdown",
   "metadata": {},
   "source": [
    "Okay, so now we have the data in the shape we need  (num_observations, seq_length, num_features)"
   ]
  },
  {
   "cell_type": "code",
   "execution_count": 16,
   "metadata": {},
   "outputs": [
    {
     "name": "stderr",
     "output_type": "stream",
     "text": [
      "2024-07-23 14:56:05.214607: I external/local_xla/xla/stream_executor/cuda/cuda_executor.cc:887] could not open file to read NUMA node: /sys/bus/pci/devices/0000:09:00.0/numa_node\n",
      "Your kernel may have been built without NUMA support.\n",
      "2024-07-23 14:56:05.223417: I external/local_xla/xla/stream_executor/cuda/cuda_executor.cc:887] could not open file to read NUMA node: /sys/bus/pci/devices/0000:09:00.0/numa_node\n",
      "Your kernel may have been built without NUMA support.\n",
      "2024-07-23 14:56:05.223508: I external/local_xla/xla/stream_executor/cuda/cuda_executor.cc:887] could not open file to read NUMA node: /sys/bus/pci/devices/0000:09:00.0/numa_node\n",
      "Your kernel may have been built without NUMA support.\n",
      "2024-07-23 14:56:05.231693: I external/local_xla/xla/stream_executor/cuda/cuda_executor.cc:887] could not open file to read NUMA node: /sys/bus/pci/devices/0000:09:00.0/numa_node\n",
      "Your kernel may have been built without NUMA support.\n",
      "2024-07-23 14:56:05.231805: I external/local_xla/xla/stream_executor/cuda/cuda_executor.cc:887] could not open file to read NUMA node: /sys/bus/pci/devices/0000:09:00.0/numa_node\n",
      "Your kernel may have been built without NUMA support.\n",
      "2024-07-23 14:56:05.231865: I external/local_xla/xla/stream_executor/cuda/cuda_executor.cc:887] could not open file to read NUMA node: /sys/bus/pci/devices/0000:09:00.0/numa_node\n",
      "Your kernel may have been built without NUMA support.\n",
      "2024-07-23 14:56:05.608855: I external/local_xla/xla/stream_executor/cuda/cuda_executor.cc:887] could not open file to read NUMA node: /sys/bus/pci/devices/0000:09:00.0/numa_node\n",
      "Your kernel may have been built without NUMA support.\n",
      "2024-07-23 14:56:05.609447: I external/local_xla/xla/stream_executor/cuda/cuda_executor.cc:887] could not open file to read NUMA node: /sys/bus/pci/devices/0000:09:00.0/numa_node\n",
      "Your kernel may have been built without NUMA support.\n",
      "2024-07-23 14:56:05.609481: I tensorflow/core/common_runtime/gpu/gpu_device.cc:2022] Could not identify NUMA node of platform GPU id 0, defaulting to 0.  Your kernel may not have been built with NUMA support.\n",
      "2024-07-23 14:56:05.609559: I external/local_xla/xla/stream_executor/cuda/cuda_executor.cc:887] could not open file to read NUMA node: /sys/bus/pci/devices/0000:09:00.0/numa_node\n",
      "Your kernel may have been built without NUMA support.\n",
      "2024-07-23 14:56:05.609824: I tensorflow/core/common_runtime/gpu/gpu_device.cc:1929] Created device /job:localhost/replica:0/task:0/device:GPU:0 with 21751 MB memory:  -> device: 0, name: NVIDIA GeForce RTX 3090 Ti, pci bus id: 0000:09:00.0, compute capability: 8.6\n"
     ]
    },
    {
     "name": "stdout",
     "output_type": "stream",
     "text": [
      "Model: \"sequential\"\n",
      "_________________________________________________________________\n",
      " Layer (type)                Output Shape              Param #   \n",
      "=================================================================\n",
      " Where_is_my_mind (LSTM)     (None, 50)                14800     \n",
      "                                                                 \n",
      " Im_So_Dense (Dense)         (None, 1)                 51        \n",
      "                                                                 \n",
      "=================================================================\n",
      "Total params: 14851 (58.01 KB)\n",
      "Trainable params: 14851 (58.01 KB)\n",
      "Non-trainable params: 0 (0.00 Byte)\n",
      "_________________________________________________________________\n"
     ]
    }
   ],
   "source": [
    "from keras.models import Sequential\n",
    "from keras.layers import LSTM, Dense \n",
    "from keras.optimizers import Nadam, Adam\n",
    "\n",
    "optimizer = Nadam(learning_rate=configs['learning_rate'])\n",
    "\n",
    "model = Sequential()\n",
    "model.add(LSTM(50, activation='tanh', input_shape=(Xtr.shape[1], Xtr.shape[2]), name=\"Where_is_my_mind\")) #Pixies lyric references for names!  completely unintentional, but funny!\n",
    "#model.add(Dense(16, activation='sigmoid'))\n",
    "model.add(Dense(configs[\"num_classes\"], activation='sigmoid', name=\"Im_So_Dense\"))\n",
    "model.compile(loss='binary_crossentropy', optimizer=optimizer, metrics=['accuracy'])\n",
    "\n",
    "model.summary()"
   ]
  },
  {
   "cell_type": "code",
   "execution_count": 17,
   "metadata": {},
   "outputs": [
    {
     "data": {
      "image/png": "[encoded data removed]",
      "text/plain": [
       "<IPython.core.display.Image object>"
      ]
     },
     "execution_count": 17,
     "metadata": {},
     "output_type": "execute_result"
    }
   ],
   "source": [
    "from tensorflow.keras.utils import plot_model\n",
    "plot_model(model, to_file=\"StockLSTM_Model.png\")"
   ]
  },
  {
   "cell_type": "markdown",
   "metadata": {},
   "source": [
    "Set up early stopping so we don't go too long"
   ]
  },
  {
   "cell_type": "code",
   "execution_count": 18,
   "metadata": {},
   "outputs": [],
   "source": [
    "from keras.callbacks import EarlyStopping\n",
    "from wandb.integration.keras import WandbMetricsLogger, WandbModelCheckpoint\n",
    "\n",
    "es = EarlyStopping(monitor='accuracy', patience=configs['earlystopping_patience'])\n",
    "\n"
   ]
  },
  {
   "cell_type": "code",
   "execution_count": 19,
   "metadata": {},
   "outputs": [
    {
     "data": {
      "text/html": [
       "wandb version 0.17.5 is available!  To upgrade, please run:\n",
       " $ pip install wandb --upgrade"
      ],
      "text/plain": [
       "<IPython.core.display.HTML object>"
      ]
     },
     "metadata": {},
     "output_type": "display_data"
    },
    {
     "data": {
      "text/html": [
       "Tracking run with wandb version 0.17.4"
      ],
      "text/plain": [
       "<IPython.core.display.HTML object>"
      ]
     },
     "metadata": {},
     "output_type": "display_data"
    },
    {
     "data": {
      "text/html": [
       "Run data is saved locally in <code>/home/candrews/Projects/MyProjects/StockPredictor/notebooks/wandb/run-20240723_145611-dkpvwo4l</code>"
      ],
      "text/plain": [
       "<IPython.core.display.HTML object>"
      ]
     },
     "metadata": {},
     "output_type": "display_data"
    },
    {
     "data": {
      "text/html": [
       "Syncing run <strong><a href='https://wandb.ai/christopherandrews/StockPredictor/runs/dkpvwo4l' target=\"_blank\">LSTMClassifier_TwoStateMajorReversals_1721768171</a></strong> to <a href='https://wandb.ai/christopherandrews/StockPredictor' target=\"_blank\">Weights & Biases</a> (<a href='https://wandb.me/run' target=\"_blank\">docs</a>)<br/>"
      ],
      "text/plain": [
       "<IPython.core.display.HTML object>"
      ]
     },
     "metadata": {},
     "output_type": "display_data"
    },
    {
     "data": {
      "text/html": [
       " View project at <a href='https://wandb.ai/christopherandrews/StockPredictor' target=\"_blank\">https://wandb.ai/christopherandrews/StockPredictor</a>"
      ],
      "text/plain": [
       "<IPython.core.display.HTML object>"
      ]
     },
     "metadata": {},
     "output_type": "display_data"
    },
    {
     "data": {
      "text/html": [
       " View run at <a href='https://wandb.ai/christopherandrews/StockPredictor/runs/dkpvwo4l' target=\"_blank\">https://wandb.ai/christopherandrews/StockPredictor/runs/dkpvwo4l</a>"
      ],
      "text/plain": [
       "<IPython.core.display.HTML object>"
      ]
     },
     "metadata": {},
     "output_type": "display_data"
    }
   ],
   "source": [
    "#log to weights and biases\n",
    "run_name = f\"LSTMClassifier_{targetName}_{int(time.time())}\"\n",
    "run = wandb.init(entity=\"christopherandrews\", project=\"StockPredictor\", name=run_name, save_code=False, settings=wandb.Settings(start_method=\"fork\"), reinit=True, config=configs)\n",
    "\n",
    "callbacks = [es, WandbMetricsLogger(), WandbModelCheckpoint(\"models\")]"
   ]
  },
  {
   "cell_type": "code",
   "execution_count": 20,
   "metadata": {},
   "outputs": [
    {
     "name": "stdout",
     "output_type": "stream",
     "text": [
      "Epoch 1/75\n"
     ]
    },
    {
     "name": "stderr",
     "output_type": "stream",
     "text": [
      "2024-07-23 14:56:29.654491: I external/local_xla/xla/stream_executor/cuda/cuda_dnn.cc:454] Loaded cuDNN version 8902\n",
      "2024-07-23 14:56:30.298376: I external/local_xla/xla/service/service.cc:168] XLA service 0x7efac4ef0ae0 initialized for platform CUDA (this does not guarantee that XLA will be used). Devices:\n",
      "2024-07-23 14:56:30.298432: I external/local_xla/xla/service/service.cc:176]   StreamExecutor device (0): NVIDIA GeForce RTX 3090 Ti, Compute Capability 8.6\n",
      "2024-07-23 14:56:30.329135: I tensorflow/compiler/mlir/tensorflow/utils/dump_mlir_util.cc:269] disabling MLIR crash reproducer, set env var `MLIR_CRASH_REPRODUCER_DIRECTORY` to enable.\n",
      "WARNING: All log messages before absl::InitializeLog() is called are written to STDERR\n",
      "I0000 00:00:1721768190.501645 3168507 device_compiler.h:186] Compiled cluster using XLA!  This line is logged at most once for the lifetime of the process.\n"
     ]
    },
    {
     "name": "stdout",
     "output_type": "stream",
     "text": [
      "118/119 [============================>.] - ETA: 0s - loss: 0.6096 - accuracy: 0.6944INFO:tensorflow:Assets written to: models/assets\n"
     ]
    },
    {
     "name": "stderr",
     "output_type": "stream",
     "text": [
      "INFO:tensorflow:Assets written to: models/assets\n",
      "\u001b[34m\u001b[1mwandb\u001b[0m: Adding directory to artifact (./models)... Done. 0.0s\n"
     ]
    },
    {
     "name": "stdout",
     "output_type": "stream",
     "text": [
      "119/119 [==============================] - 8s 38ms/step - loss: 0.6092 - accuracy: 0.6949 - val_loss: 0.7033 - val_accuracy: 0.5532\n",
      "Epoch 2/75\n",
      "119/119 [==============================] - ETA: 0s - loss: 0.5958 - accuracy: 0.6954INFO:tensorflow:Assets written to: models/assets\n"
     ]
    },
    {
     "name": "stderr",
     "output_type": "stream",
     "text": [
      "INFO:tensorflow:Assets written to: models/assets\n",
      "\u001b[34m\u001b[1mwandb\u001b[0m: Adding directory to artifact (./models)... Done. 0.0s\n"
     ]
    },
    {
     "name": "stdout",
     "output_type": "stream",
     "text": [
      "119/119 [==============================] - 5s 42ms/step - loss: 0.5958 - accuracy: 0.6954 - val_loss: 0.6947 - val_accuracy: 0.5532\n",
      "Epoch 3/75\n",
      "117/119 [============================>.] - ETA: 0s - loss: 0.5866 - accuracy: 0.6955INFO:tensorflow:Assets written to: models/assets\n"
     ]
    },
    {
     "name": "stderr",
     "output_type": "stream",
     "text": [
      "INFO:tensorflow:Assets written to: models/assets\n",
      "\u001b[34m\u001b[1mwandb\u001b[0m: Adding directory to artifact (./models)... Done. 0.0s\n"
     ]
    },
    {
     "name": "stdout",
     "output_type": "stream",
     "text": [
      "119/119 [==============================] - 4s 36ms/step - loss: 0.5858 - accuracy: 0.6965 - val_loss: 0.6949 - val_accuracy: 0.5532\n",
      "Epoch 4/75\n",
      "114/119 [===========================>..] - ETA: 0s - loss: 0.5783 - accuracy: 0.6996INFO:tensorflow:Assets written to: models/assets\n"
     ]
    },
    {
     "name": "stderr",
     "output_type": "stream",
     "text": [
      "INFO:tensorflow:Assets written to: models/assets\n",
      "\u001b[34m\u001b[1mwandb\u001b[0m: Adding directory to artifact (./models)... Done. 0.0s\n"
     ]
    },
    {
     "name": "stdout",
     "output_type": "stream",
     "text": [
      "119/119 [==============================] - 4s 34ms/step - loss: 0.5777 - accuracy: 0.7002 - val_loss: 0.6838 - val_accuracy: 0.5532\n",
      "Epoch 5/75\n",
      "117/119 [============================>.] - ETA: 0s - loss: 0.5675 - accuracy: 0.7041INFO:tensorflow:Assets written to: models/assets\n"
     ]
    },
    {
     "name": "stderr",
     "output_type": "stream",
     "text": [
      "INFO:tensorflow:Assets written to: models/assets\n",
      "\u001b[34m\u001b[1mwandb\u001b[0m: Adding directory to artifact (./models)... Done. 0.0s\n"
     ]
    },
    {
     "name": "stdout",
     "output_type": "stream",
     "text": [
      "119/119 [==============================] - 4s 36ms/step - loss: 0.5662 - accuracy: 0.7060 - val_loss: 0.6920 - val_accuracy: 0.5532\n",
      "Epoch 6/75\n",
      "117/119 [============================>.] - ETA: 0s - loss: 0.5536 - accuracy: 0.7115INFO:tensorflow:Assets written to: models/assets\n"
     ]
    },
    {
     "name": "stderr",
     "output_type": "stream",
     "text": [
      "INFO:tensorflow:Assets written to: models/assets\n",
      "\u001b[34m\u001b[1mwandb\u001b[0m: Adding directory to artifact (./models)... Done. 0.0s\n"
     ]
    },
    {
     "name": "stdout",
     "output_type": "stream",
     "text": [
      "119/119 [==============================] - 5s 38ms/step - loss: 0.5534 - accuracy: 0.7113 - val_loss: 0.6737 - val_accuracy: 0.5553\n",
      "Epoch 7/75\n",
      "115/119 [===========================>..] - ETA: 0s - loss: 0.5276 - accuracy: 0.7342INFO:tensorflow:Assets written to: models/assets\n"
     ]
    },
    {
     "name": "stderr",
     "output_type": "stream",
     "text": [
      "INFO:tensorflow:Assets written to: models/assets\n",
      "\u001b[34m\u001b[1mwandb\u001b[0m: Adding directory to artifact (./models)... Done. 0.0s\n"
     ]
    },
    {
     "name": "stdout",
     "output_type": "stream",
     "text": [
      "119/119 [==============================] - 4s 37ms/step - loss: 0.5284 - accuracy: 0.7329 - val_loss: 0.6570 - val_accuracy: 0.5936\n",
      "Epoch 8/75\n",
      "117/119 [============================>.] - ETA: 0s - loss: 0.5167 - accuracy: 0.7463INFO:tensorflow:Assets written to: models/assets\n"
     ]
    },
    {
     "name": "stderr",
     "output_type": "stream",
     "text": [
      "INFO:tensorflow:Assets written to: models/assets\n",
      "\u001b[34m\u001b[1mwandb\u001b[0m: Adding directory to artifact (./models)... Done. 0.0s\n"
     ]
    },
    {
     "name": "stdout",
     "output_type": "stream",
     "text": [
      "119/119 [==============================] - 5s 38ms/step - loss: 0.5160 - accuracy: 0.7462 - val_loss: 0.6570 - val_accuracy: 0.5468\n",
      "Epoch 9/75\n",
      "118/119 [============================>.] - ETA: 0s - loss: 0.5031 - accuracy: 0.7595INFO:tensorflow:Assets written to: models/assets\n"
     ]
    },
    {
     "name": "stderr",
     "output_type": "stream",
     "text": [
      "INFO:tensorflow:Assets written to: models/assets\n",
      "\u001b[34m\u001b[1mwandb\u001b[0m: Adding directory to artifact (./models)... Done. 0.0s\n"
     ]
    },
    {
     "name": "stdout",
     "output_type": "stream",
     "text": [
      "119/119 [==============================] - 5s 40ms/step - loss: 0.5038 - accuracy: 0.7594 - val_loss: 0.6817 - val_accuracy: 0.5511\n",
      "Epoch 10/75\n",
      "119/119 [==============================] - ETA: 0s - loss: 0.5008 - accuracy: 0.7636INFO:tensorflow:Assets written to: models/assets\n"
     ]
    },
    {
     "name": "stderr",
     "output_type": "stream",
     "text": [
      "INFO:tensorflow:Assets written to: models/assets\n",
      "\u001b[34m\u001b[1mwandb\u001b[0m: Adding directory to artifact (./models)... Done. 0.0s\n"
     ]
    },
    {
     "name": "stdout",
     "output_type": "stream",
     "text": [
      "119/119 [==============================] - 4s 37ms/step - loss: 0.5008 - accuracy: 0.7636 - val_loss: 0.6647 - val_accuracy: 0.5809\n",
      "Epoch 11/75\n",
      "119/119 [==============================] - ETA: 0s - loss: 0.4925 - accuracy: 0.7668INFO:tensorflow:Assets written to: models/assets\n"
     ]
    },
    {
     "name": "stderr",
     "output_type": "stream",
     "text": [
      "INFO:tensorflow:Assets written to: models/assets\n",
      "\u001b[34m\u001b[1mwandb\u001b[0m: Adding directory to artifact (./models)... Done. 0.0s\n"
     ]
    },
    {
     "name": "stdout",
     "output_type": "stream",
     "text": [
      "119/119 [==============================] - 4s 36ms/step - loss: 0.4925 - accuracy: 0.7668 - val_loss: 0.6573 - val_accuracy: 0.5872\n",
      "Epoch 12/75\n",
      "118/119 [============================>.] - ETA: 0s - loss: 0.4893 - accuracy: 0.7691INFO:tensorflow:Assets written to: models/assets\n"
     ]
    },
    {
     "name": "stderr",
     "output_type": "stream",
     "text": [
      "INFO:tensorflow:Assets written to: models/assets\n",
      "\u001b[34m\u001b[1mwandb\u001b[0m: Adding directory to artifact (./models)... Done. 0.0s\n"
     ]
    },
    {
     "name": "stdout",
     "output_type": "stream",
     "text": [
      "119/119 [==============================] - 4s 37ms/step - loss: 0.4890 - accuracy: 0.7694 - val_loss: 0.6508 - val_accuracy: 0.5702\n",
      "Epoch 13/75\n",
      "119/119 [==============================] - ETA: 0s - loss: 0.4871 - accuracy: 0.7784INFO:tensorflow:Assets written to: models/assets\n"
     ]
    },
    {
     "name": "stderr",
     "output_type": "stream",
     "text": [
      "INFO:tensorflow:Assets written to: models/assets\n",
      "\u001b[34m\u001b[1mwandb\u001b[0m: Adding directory to artifact (./models)... Done. 0.0s\n"
     ]
    },
    {
     "name": "stdout",
     "output_type": "stream",
     "text": [
      "119/119 [==============================] - 5s 41ms/step - loss: 0.4871 - accuracy: 0.7784 - val_loss: 0.6401 - val_accuracy: 0.6043\n",
      "Epoch 14/75\n",
      "118/119 [============================>.] - ETA: 0s - loss: 0.4766 - accuracy: 0.7812INFO:tensorflow:Assets written to: models/assets\n"
     ]
    },
    {
     "name": "stderr",
     "output_type": "stream",
     "text": [
      "INFO:tensorflow:Assets written to: models/assets\n",
      "\u001b[34m\u001b[1mwandb\u001b[0m: Adding directory to artifact (./models)... Done. 0.0s\n"
     ]
    },
    {
     "name": "stdout",
     "output_type": "stream",
     "text": [
      "119/119 [==============================] - 5s 40ms/step - loss: 0.4761 - accuracy: 0.7816 - val_loss: 0.6412 - val_accuracy: 0.6064\n",
      "Epoch 15/75\n",
      "118/119 [============================>.] - ETA: 0s - loss: 0.4746 - accuracy: 0.7733INFO:tensorflow:Assets written to: models/assets\n"
     ]
    },
    {
     "name": "stderr",
     "output_type": "stream",
     "text": [
      "INFO:tensorflow:Assets written to: models/assets\n",
      "\u001b[34m\u001b[1mwandb\u001b[0m: Adding directory to artifact (./models)... Done. 0.0s\n"
     ]
    },
    {
     "name": "stdout",
     "output_type": "stream",
     "text": [
      "119/119 [==============================] - 5s 39ms/step - loss: 0.4748 - accuracy: 0.7731 - val_loss: 0.6915 - val_accuracy: 0.5404\n",
      "Epoch 16/75\n",
      "119/119 [==============================] - ETA: 0s - loss: 0.4747 - accuracy: 0.7753INFO:tensorflow:Assets written to: models/assets\n"
     ]
    },
    {
     "name": "stderr",
     "output_type": "stream",
     "text": [
      "INFO:tensorflow:Assets written to: models/assets\n",
      "\u001b[34m\u001b[1mwandb\u001b[0m: Adding directory to artifact (./models)... Done. 0.0s\n"
     ]
    },
    {
     "name": "stdout",
     "output_type": "stream",
     "text": [
      "119/119 [==============================] - 5s 43ms/step - loss: 0.4747 - accuracy: 0.7753 - val_loss: 0.6272 - val_accuracy: 0.6426\n",
      "Epoch 17/75\n",
      "119/119 [==============================] - ETA: 0s - loss: 0.4700 - accuracy: 0.7779INFO:tensorflow:Assets written to: models/assets\n"
     ]
    },
    {
     "name": "stderr",
     "output_type": "stream",
     "text": [
      "INFO:tensorflow:Assets written to: models/assets\n",
      "\u001b[34m\u001b[1mwandb\u001b[0m: Adding directory to artifact (./models)... Done. 0.0s\n"
     ]
    },
    {
     "name": "stdout",
     "output_type": "stream",
     "text": [
      "119/119 [==============================] - 6s 48ms/step - loss: 0.4700 - accuracy: 0.7779 - val_loss: 0.6841 - val_accuracy: 0.5574\n",
      "Epoch 18/75\n",
      "118/119 [============================>.] - ETA: 0s - loss: 0.4572 - accuracy: 0.7940INFO:tensorflow:Assets written to: models/assets\n"
     ]
    },
    {
     "name": "stderr",
     "output_type": "stream",
     "text": [
      "INFO:tensorflow:Assets written to: models/assets\n",
      "\u001b[34m\u001b[1mwandb\u001b[0m: Adding directory to artifact (./models)... Done. 0.0s\n"
     ]
    },
    {
     "name": "stdout",
     "output_type": "stream",
     "text": [
      "119/119 [==============================] - 5s 38ms/step - loss: 0.4576 - accuracy: 0.7932 - val_loss: 0.6611 - val_accuracy: 0.6085\n",
      "Epoch 19/75\n",
      "115/119 [===========================>..] - ETA: 0s - loss: 0.4601 - accuracy: 0.7897INFO:tensorflow:Assets written to: models/assets\n"
     ]
    },
    {
     "name": "stderr",
     "output_type": "stream",
     "text": [
      "INFO:tensorflow:Assets written to: models/assets\n",
      "\u001b[34m\u001b[1mwandb\u001b[0m: Adding directory to artifact (./models)... Done. 0.0s\n"
     ]
    },
    {
     "name": "stdout",
     "output_type": "stream",
     "text": [
      "119/119 [==============================] - 4s 36ms/step - loss: 0.4589 - accuracy: 0.7906 - val_loss: 0.6520 - val_accuracy: 0.6362\n",
      "Epoch 20/75\n",
      "117/119 [============================>.] - ETA: 0s - loss: 0.4560 - accuracy: 0.7949INFO:tensorflow:Assets written to: models/assets\n"
     ]
    },
    {
     "name": "stderr",
     "output_type": "stream",
     "text": [
      "INFO:tensorflow:Assets written to: models/assets\n",
      "\u001b[34m\u001b[1mwandb\u001b[0m: Adding directory to artifact (./models)... Done. 0.0s\n"
     ]
    },
    {
     "name": "stdout",
     "output_type": "stream",
     "text": [
      "119/119 [==============================] - 5s 38ms/step - loss: 0.4557 - accuracy: 0.7948 - val_loss: 0.6547 - val_accuracy: 0.6191\n",
      "Epoch 21/75\n",
      "117/119 [============================>.] - ETA: 0s - loss: 0.4488 - accuracy: 0.7895INFO:tensorflow:Assets written to: models/assets\n"
     ]
    },
    {
     "name": "stderr",
     "output_type": "stream",
     "text": [
      "INFO:tensorflow:Assets written to: models/assets\n",
      "\u001b[34m\u001b[1mwandb\u001b[0m: Adding directory to artifact (./models)... Done. 0.0s\n"
     ]
    },
    {
     "name": "stdout",
     "output_type": "stream",
     "text": [
      "119/119 [==============================] - 5s 41ms/step - loss: 0.4495 - accuracy: 0.7890 - val_loss: 0.6517 - val_accuracy: 0.6447\n",
      "Epoch 22/75\n",
      "117/119 [============================>.] - ETA: 0s - loss: 0.4475 - accuracy: 0.7943INFO:tensorflow:Assets written to: models/assets\n"
     ]
    },
    {
     "name": "stderr",
     "output_type": "stream",
     "text": [
      "INFO:tensorflow:Assets written to: models/assets\n",
      "\u001b[34m\u001b[1mwandb\u001b[0m: Adding directory to artifact (./models)... Done. 0.0s\n"
     ]
    },
    {
     "name": "stdout",
     "output_type": "stream",
     "text": [
      "119/119 [==============================] - 5s 41ms/step - loss: 0.4462 - accuracy: 0.7948 - val_loss: 0.6528 - val_accuracy: 0.6362\n",
      "Epoch 23/75\n",
      "116/119 [============================>.] - ETA: 0s - loss: 0.4413 - accuracy: 0.7904INFO:tensorflow:Assets written to: models/assets\n"
     ]
    },
    {
     "name": "stderr",
     "output_type": "stream",
     "text": [
      "INFO:tensorflow:Assets written to: models/assets\n",
      "\u001b[34m\u001b[1mwandb\u001b[0m: Adding directory to artifact (./models)... Done. 0.0s\n"
     ]
    },
    {
     "name": "stdout",
     "output_type": "stream",
     "text": [
      "119/119 [==============================] - 5s 38ms/step - loss: 0.4407 - accuracy: 0.7911 - val_loss: 0.6433 - val_accuracy: 0.6426\n",
      "Epoch 24/75\n",
      "117/119 [============================>.] - ETA: 0s - loss: 0.4400 - accuracy: 0.7970INFO:tensorflow:Assets written to: models/assets\n"
     ]
    },
    {
     "name": "stderr",
     "output_type": "stream",
     "text": [
      "INFO:tensorflow:Assets written to: models/assets\n",
      "\u001b[34m\u001b[1mwandb\u001b[0m: Adding directory to artifact (./models)... Done. 0.0s\n"
     ]
    },
    {
     "name": "stdout",
     "output_type": "stream",
     "text": [
      "119/119 [==============================] - 4s 34ms/step - loss: 0.4386 - accuracy: 0.7980 - val_loss: 0.6521 - val_accuracy: 0.6106\n",
      "Epoch 25/75\n",
      "118/119 [============================>.] - ETA: 0s - loss: 0.4388 - accuracy: 0.7956INFO:tensorflow:Assets written to: models/assets\n"
     ]
    },
    {
     "name": "stderr",
     "output_type": "stream",
     "text": [
      "INFO:tensorflow:Assets written to: models/assets\n",
      "\u001b[34m\u001b[1mwandb\u001b[0m: Adding directory to artifact (./models)... Done. 0.0s\n"
     ]
    },
    {
     "name": "stdout",
     "output_type": "stream",
     "text": [
      "119/119 [==============================] - 5s 44ms/step - loss: 0.4387 - accuracy: 0.7953 - val_loss: 0.6319 - val_accuracy: 0.6362\n",
      "Epoch 26/75\n",
      "119/119 [==============================] - ETA: 0s - loss: 0.4320 - accuracy: 0.8001INFO:tensorflow:Assets written to: models/assets\n"
     ]
    },
    {
     "name": "stderr",
     "output_type": "stream",
     "text": [
      "INFO:tensorflow:Assets written to: models/assets\n",
      "\u001b[34m\u001b[1mwandb\u001b[0m: Adding directory to artifact (./models)... Done. 0.0s\n"
     ]
    },
    {
     "name": "stdout",
     "output_type": "stream",
     "text": [
      "119/119 [==============================] - 4s 37ms/step - loss: 0.4320 - accuracy: 0.8001 - val_loss: 0.6585 - val_accuracy: 0.6106\n",
      "Epoch 27/75\n",
      "115/119 [===========================>..] - ETA: 0s - loss: 0.4313 - accuracy: 0.7929INFO:tensorflow:Assets written to: models/assets\n"
     ]
    },
    {
     "name": "stderr",
     "output_type": "stream",
     "text": [
      "INFO:tensorflow:Assets written to: models/assets\n",
      "\u001b[34m\u001b[1mwandb\u001b[0m: Adding directory to artifact (./models)... Done. 0.0s\n"
     ]
    },
    {
     "name": "stdout",
     "output_type": "stream",
     "text": [
      "119/119 [==============================] - 4s 37ms/step - loss: 0.4306 - accuracy: 0.7932 - val_loss: 0.6444 - val_accuracy: 0.6043\n",
      "Epoch 28/75\n",
      "119/119 [==============================] - ETA: 0s - loss: 0.4312 - accuracy: 0.8043INFO:tensorflow:Assets written to: models/assets\n"
     ]
    },
    {
     "name": "stderr",
     "output_type": "stream",
     "text": [
      "INFO:tensorflow:Assets written to: models/assets\n",
      "\u001b[34m\u001b[1mwandb\u001b[0m: Adding directory to artifact (./models)... Done. 0.0s\n"
     ]
    },
    {
     "name": "stdout",
     "output_type": "stream",
     "text": [
      "119/119 [==============================] - 5s 40ms/step - loss: 0.4312 - accuracy: 0.8043 - val_loss: 0.6630 - val_accuracy: 0.5872\n",
      "Epoch 29/75\n",
      "118/119 [============================>.] - ETA: 0s - loss: 0.4231 - accuracy: 0.8008INFO:tensorflow:Assets written to: models/assets\n"
     ]
    },
    {
     "name": "stderr",
     "output_type": "stream",
     "text": [
      "INFO:tensorflow:Assets written to: models/assets\n",
      "\u001b[34m\u001b[1mwandb\u001b[0m: Adding directory to artifact (./models)... Done. 0.0s\n"
     ]
    },
    {
     "name": "stdout",
     "output_type": "stream",
     "text": [
      "119/119 [==============================] - 5s 38ms/step - loss: 0.4226 - accuracy: 0.8012 - val_loss: 0.6506 - val_accuracy: 0.6404\n",
      "Epoch 30/75\n",
      "115/119 [===========================>..] - ETA: 0s - loss: 0.4201 - accuracy: 0.8043INFO:tensorflow:Assets written to: models/assets\n"
     ]
    },
    {
     "name": "stderr",
     "output_type": "stream",
     "text": [
      "INFO:tensorflow:Assets written to: models/assets\n",
      "\u001b[34m\u001b[1mwandb\u001b[0m: Adding directory to artifact (./models)... Done. 0.0s\n"
     ]
    },
    {
     "name": "stdout",
     "output_type": "stream",
     "text": [
      "119/119 [==============================] - 4s 38ms/step - loss: 0.4168 - accuracy: 0.8070 - val_loss: 0.6089 - val_accuracy: 0.6766\n",
      "Epoch 31/75\n",
      "118/119 [============================>.] - ETA: 0s - loss: 0.4129 - accuracy: 0.8162INFO:tensorflow:Assets written to: models/assets\n"
     ]
    },
    {
     "name": "stderr",
     "output_type": "stream",
     "text": [
      "INFO:tensorflow:Assets written to: models/assets\n",
      "\u001b[34m\u001b[1mwandb\u001b[0m: Adding directory to artifact (./models)... Done. 0.0s\n"
     ]
    },
    {
     "name": "stdout",
     "output_type": "stream",
     "text": [
      "119/119 [==============================] - 4s 36ms/step - loss: 0.4131 - accuracy: 0.8154 - val_loss: 0.6279 - val_accuracy: 0.5936\n",
      "Epoch 32/75\n",
      "119/119 [==============================] - ETA: 0s - loss: 0.4068 - accuracy: 0.8154INFO:tensorflow:Assets written to: models/assets\n"
     ]
    },
    {
     "name": "stderr",
     "output_type": "stream",
     "text": [
      "INFO:tensorflow:Assets written to: models/assets\n",
      "\u001b[34m\u001b[1mwandb\u001b[0m: Adding directory to artifact (./models)... Done. 0.0s\n"
     ]
    },
    {
     "name": "stdout",
     "output_type": "stream",
     "text": [
      "119/119 [==============================] - 5s 43ms/step - loss: 0.4068 - accuracy: 0.8154 - val_loss: 0.6435 - val_accuracy: 0.6021\n",
      "Epoch 33/75\n",
      "119/119 [==============================] - ETA: 0s - loss: 0.4103 - accuracy: 0.8149INFO:tensorflow:Assets written to: models/assets\n"
     ]
    },
    {
     "name": "stderr",
     "output_type": "stream",
     "text": [
      "INFO:tensorflow:Assets written to: models/assets\n",
      "\u001b[34m\u001b[1mwandb\u001b[0m: Adding directory to artifact (./models)... Done. 0.0s\n"
     ]
    },
    {
     "name": "stdout",
     "output_type": "stream",
     "text": [
      "119/119 [==============================] - 4s 35ms/step - loss: 0.4103 - accuracy: 0.8149 - val_loss: 0.6609 - val_accuracy: 0.5872\n",
      "Epoch 34/75\n",
      "116/119 [============================>.] - ETA: 0s - loss: 0.4089 - accuracy: 0.8120INFO:tensorflow:Assets written to: models/assets\n"
     ]
    },
    {
     "name": "stderr",
     "output_type": "stream",
     "text": [
      "INFO:tensorflow:Assets written to: models/assets\n",
      "\u001b[34m\u001b[1mwandb\u001b[0m: Adding directory to artifact (./models)... Done. 0.0s\n"
     ]
    },
    {
     "name": "stdout",
     "output_type": "stream",
     "text": [
      "119/119 [==============================] - 5s 41ms/step - loss: 0.4064 - accuracy: 0.8133 - val_loss: 0.6452 - val_accuracy: 0.6213\n",
      "Epoch 35/75\n",
      "119/119 [==============================] - ETA: 0s - loss: 0.4048 - accuracy: 0.8065INFO:tensorflow:Assets written to: models/assets\n"
     ]
    },
    {
     "name": "stderr",
     "output_type": "stream",
     "text": [
      "INFO:tensorflow:Assets written to: models/assets\n",
      "\u001b[34m\u001b[1mwandb\u001b[0m: Adding directory to artifact (./models)... Done. 0.0s\n"
     ]
    },
    {
     "name": "stdout",
     "output_type": "stream",
     "text": [
      "119/119 [==============================] - 4s 33ms/step - loss: 0.4048 - accuracy: 0.8065 - val_loss: 0.6566 - val_accuracy: 0.6128\n",
      "Epoch 36/75\n",
      "119/119 [==============================] - ETA: 0s - loss: 0.3965 - accuracy: 0.8107INFO:tensorflow:Assets written to: models/assets\n"
     ]
    },
    {
     "name": "stderr",
     "output_type": "stream",
     "text": [
      "INFO:tensorflow:Assets written to: models/assets\n",
      "\u001b[34m\u001b[1mwandb\u001b[0m: Adding directory to artifact (./models)... Done. 0.0s\n"
     ]
    },
    {
     "name": "stdout",
     "output_type": "stream",
     "text": [
      "119/119 [==============================] - 5s 43ms/step - loss: 0.3965 - accuracy: 0.8107 - val_loss: 0.6530 - val_accuracy: 0.6213\n",
      "Epoch 37/75\n",
      "117/119 [============================>.] - ETA: 0s - loss: 0.3947 - accuracy: 0.8184INFO:tensorflow:Assets written to: models/assets\n"
     ]
    },
    {
     "name": "stderr",
     "output_type": "stream",
     "text": [
      "INFO:tensorflow:Assets written to: models/assets\n",
      "\u001b[34m\u001b[1mwandb\u001b[0m: Adding directory to artifact (./models)... Done. 0.0s\n"
     ]
    },
    {
     "name": "stdout",
     "output_type": "stream",
     "text": [
      "119/119 [==============================] - 5s 38ms/step - loss: 0.3950 - accuracy: 0.8186 - val_loss: 0.6401 - val_accuracy: 0.6191\n",
      "Epoch 38/75\n",
      "116/119 [============================>.] - ETA: 0s - loss: 0.3908 - accuracy: 0.8163INFO:tensorflow:Assets written to: models/assets\n"
     ]
    },
    {
     "name": "stderr",
     "output_type": "stream",
     "text": [
      "INFO:tensorflow:Assets written to: models/assets\n",
      "\u001b[34m\u001b[1mwandb\u001b[0m: Adding directory to artifact (./models)... Done. 0.0s\n"
     ]
    },
    {
     "name": "stdout",
     "output_type": "stream",
     "text": [
      "119/119 [==============================] - 5s 39ms/step - loss: 0.3908 - accuracy: 0.8165 - val_loss: 0.6775 - val_accuracy: 0.5553\n",
      "Epoch 39/75\n",
      "116/119 [============================>.] - ETA: 0s - loss: 0.3885 - accuracy: 0.8217INFO:tensorflow:Assets written to: models/assets\n"
     ]
    },
    {
     "name": "stderr",
     "output_type": "stream",
     "text": [
      "INFO:tensorflow:Assets written to: models/assets\n",
      "\u001b[34m\u001b[1mwandb\u001b[0m: Adding directory to artifact (./models)... Done. 0.0s\n"
     ]
    },
    {
     "name": "stdout",
     "output_type": "stream",
     "text": [
      "119/119 [==============================] - 4s 35ms/step - loss: 0.3884 - accuracy: 0.8234 - val_loss: 0.6475 - val_accuracy: 0.6404\n",
      "Epoch 40/75\n",
      "115/119 [===========================>..] - ETA: 0s - loss: 0.3861 - accuracy: 0.8228INFO:tensorflow:Assets written to: models/assets\n"
     ]
    },
    {
     "name": "stderr",
     "output_type": "stream",
     "text": [
      "INFO:tensorflow:Assets written to: models/assets\n",
      "\u001b[34m\u001b[1mwandb\u001b[0m: Adding directory to artifact (./models)... Done. 0.0s\n"
     ]
    },
    {
     "name": "stdout",
     "output_type": "stream",
     "text": [
      "119/119 [==============================] - 6s 47ms/step - loss: 0.3860 - accuracy: 0.8228 - val_loss: 0.6425 - val_accuracy: 0.6340\n",
      "Epoch 41/75\n",
      "116/119 [============================>.] - ETA: 0s - loss: 0.3803 - accuracy: 0.8227INFO:tensorflow:Assets written to: models/assets\n"
     ]
    },
    {
     "name": "stderr",
     "output_type": "stream",
     "text": [
      "INFO:tensorflow:Assets written to: models/assets\n",
      "\u001b[34m\u001b[1mwandb\u001b[0m: Adding directory to artifact (./models)... Done. 0.0s\n"
     ]
    },
    {
     "name": "stdout",
     "output_type": "stream",
     "text": [
      "119/119 [==============================] - 4s 36ms/step - loss: 0.3815 - accuracy: 0.8223 - val_loss: 0.6361 - val_accuracy: 0.6447\n",
      "Epoch 42/75\n",
      "117/119 [============================>.] - ETA: 0s - loss: 0.3786 - accuracy: 0.8259INFO:tensorflow:Assets written to: models/assets\n"
     ]
    },
    {
     "name": "stderr",
     "output_type": "stream",
     "text": [
      "INFO:tensorflow:Assets written to: models/assets\n",
      "\u001b[34m\u001b[1mwandb\u001b[0m: Adding directory to artifact (./models)... Done. 0.0s\n"
     ]
    },
    {
     "name": "stdout",
     "output_type": "stream",
     "text": [
      "119/119 [==============================] - 5s 44ms/step - loss: 0.3769 - accuracy: 0.8271 - val_loss: 0.6895 - val_accuracy: 0.5447\n",
      "Epoch 43/75\n",
      "119/119 [==============================] - ETA: 0s - loss: 0.3753 - accuracy: 0.8239INFO:tensorflow:Assets written to: models/assets\n"
     ]
    },
    {
     "name": "stderr",
     "output_type": "stream",
     "text": [
      "INFO:tensorflow:Assets written to: models/assets\n",
      "\u001b[34m\u001b[1mwandb\u001b[0m: Adding directory to artifact (./models)... Done. 0.0s\n"
     ]
    },
    {
     "name": "stdout",
     "output_type": "stream",
     "text": [
      "119/119 [==============================] - 5s 39ms/step - loss: 0.3753 - accuracy: 0.8239 - val_loss: 0.6849 - val_accuracy: 0.5660\n",
      "Epoch 44/75\n",
      "116/119 [============================>.] - ETA: 0s - loss: 0.3737 - accuracy: 0.8281INFO:tensorflow:Assets written to: models/assets\n"
     ]
    },
    {
     "name": "stderr",
     "output_type": "stream",
     "text": [
      "INFO:tensorflow:Assets written to: models/assets\n",
      "\u001b[34m\u001b[1mwandb\u001b[0m: Adding directory to artifact (./models)... Done. 0.0s\n"
     ]
    },
    {
     "name": "stdout",
     "output_type": "stream",
     "text": [
      "119/119 [==============================] - 6s 47ms/step - loss: 0.3741 - accuracy: 0.8276 - val_loss: 0.7375 - val_accuracy: 0.5106\n",
      "Epoch 45/75\n",
      "119/119 [==============================] - ETA: 0s - loss: 0.3746 - accuracy: 0.8276INFO:tensorflow:Assets written to: models/assets\n"
     ]
    },
    {
     "name": "stderr",
     "output_type": "stream",
     "text": [
      "INFO:tensorflow:Assets written to: models/assets\n",
      "\u001b[34m\u001b[1mwandb\u001b[0m: Adding directory to artifact (./models)... Done. 0.0s\n"
     ]
    },
    {
     "name": "stdout",
     "output_type": "stream",
     "text": [
      "119/119 [==============================] - 5s 38ms/step - loss: 0.3746 - accuracy: 0.8276 - val_loss: 0.7011 - val_accuracy: 0.5745\n",
      "Epoch 46/75\n",
      "116/119 [============================>.] - ETA: 0s - loss: 0.3663 - accuracy: 0.8330INFO:tensorflow:Assets written to: models/assets\n"
     ]
    },
    {
     "name": "stderr",
     "output_type": "stream",
     "text": [
      "INFO:tensorflow:Assets written to: models/assets\n",
      "\u001b[34m\u001b[1mwandb\u001b[0m: Adding directory to artifact (./models)... Done. 0.0s\n"
     ]
    },
    {
     "name": "stdout",
     "output_type": "stream",
     "text": [
      "119/119 [==============================] - 4s 35ms/step - loss: 0.3670 - accuracy: 0.8324 - val_loss: 0.6916 - val_accuracy: 0.5532\n",
      "Epoch 47/75\n",
      "114/119 [===========================>..] - ETA: 0s - loss: 0.3768 - accuracy: 0.8185INFO:tensorflow:Assets written to: models/assets\n"
     ]
    },
    {
     "name": "stderr",
     "output_type": "stream",
     "text": [
      "INFO:tensorflow:Assets written to: models/assets\n",
      "\u001b[34m\u001b[1mwandb\u001b[0m: Adding directory to artifact (./models)... Done. 0.0s\n"
     ]
    },
    {
     "name": "stdout",
     "output_type": "stream",
     "text": [
      "119/119 [==============================] - 5s 39ms/step - loss: 0.3749 - accuracy: 0.8202 - val_loss: 0.6597 - val_accuracy: 0.6426\n",
      "Epoch 48/75\n",
      "117/119 [============================>.] - ETA: 0s - loss: 0.3706 - accuracy: 0.8259INFO:tensorflow:Assets written to: models/assets\n"
     ]
    },
    {
     "name": "stderr",
     "output_type": "stream",
     "text": [
      "INFO:tensorflow:Assets written to: models/assets\n",
      "\u001b[34m\u001b[1mwandb\u001b[0m: Adding directory to artifact (./models)... Done. 0.0s\n"
     ]
    },
    {
     "name": "stdout",
     "output_type": "stream",
     "text": [
      "119/119 [==============================] - 5s 41ms/step - loss: 0.3706 - accuracy: 0.8265 - val_loss: 0.7163 - val_accuracy: 0.5723\n",
      "Epoch 49/75\n",
      "115/119 [===========================>..] - ETA: 0s - loss: 0.3697 - accuracy: 0.8337INFO:tensorflow:Assets written to: models/assets\n"
     ]
    },
    {
     "name": "stderr",
     "output_type": "stream",
     "text": [
      "INFO:tensorflow:Assets written to: models/assets\n",
      "\u001b[34m\u001b[1mwandb\u001b[0m: Adding directory to artifact (./models)... Done. 0.0s\n"
     ]
    },
    {
     "name": "stdout",
     "output_type": "stream",
     "text": [
      "119/119 [==============================] - 6s 51ms/step - loss: 0.3712 - accuracy: 0.8313 - val_loss: 0.7010 - val_accuracy: 0.5681\n",
      "Epoch 50/75\n",
      "118/119 [============================>.] - ETA: 0s - loss: 0.3632 - accuracy: 0.8294INFO:tensorflow:Assets written to: models/assets\n"
     ]
    },
    {
     "name": "stderr",
     "output_type": "stream",
     "text": [
      "INFO:tensorflow:Assets written to: models/assets\n",
      "\u001b[34m\u001b[1mwandb\u001b[0m: Adding directory to artifact (./models)... Done. 0.0s\n"
     ]
    },
    {
     "name": "stdout",
     "output_type": "stream",
     "text": [
      "119/119 [==============================] - 5s 41ms/step - loss: 0.3631 - accuracy: 0.8297 - val_loss: 0.6376 - val_accuracy: 0.6574\n",
      "Epoch 51/75\n",
      "116/119 [============================>.] - ETA: 0s - loss: 0.3577 - accuracy: 0.8335INFO:tensorflow:Assets written to: models/assets\n"
     ]
    },
    {
     "name": "stderr",
     "output_type": "stream",
     "text": [
      "INFO:tensorflow:Assets written to: models/assets\n",
      "\u001b[34m\u001b[1mwandb\u001b[0m: Adding directory to artifact (./models)... Done. 0.0s\n"
     ]
    },
    {
     "name": "stdout",
     "output_type": "stream",
     "text": [
      "119/119 [==============================] - 5s 40ms/step - loss: 0.3569 - accuracy: 0.8340 - val_loss: 0.6015 - val_accuracy: 0.6553\n",
      "Epoch 52/75\n",
      "115/119 [===========================>..] - ETA: 0s - loss: 0.3559 - accuracy: 0.8413INFO:tensorflow:Assets written to: models/assets\n"
     ]
    },
    {
     "name": "stderr",
     "output_type": "stream",
     "text": [
      "INFO:tensorflow:Assets written to: models/assets\n",
      "\u001b[34m\u001b[1mwandb\u001b[0m: Adding directory to artifact (./models)... Done. 0.0s\n"
     ]
    },
    {
     "name": "stdout",
     "output_type": "stream",
     "text": [
      "119/119 [==============================] - 4s 37ms/step - loss: 0.3559 - accuracy: 0.8403 - val_loss: 0.6407 - val_accuracy: 0.6213\n",
      "Epoch 53/75\n",
      "119/119 [==============================] - ETA: 0s - loss: 0.3555 - accuracy: 0.8345INFO:tensorflow:Assets written to: models/assets\n"
     ]
    },
    {
     "name": "stderr",
     "output_type": "stream",
     "text": [
      "INFO:tensorflow:Assets written to: models/assets\n",
      "\u001b[34m\u001b[1mwandb\u001b[0m: Adding directory to artifact (./models)... Done. 0.0s\n"
     ]
    },
    {
     "name": "stdout",
     "output_type": "stream",
     "text": [
      "119/119 [==============================] - 4s 38ms/step - loss: 0.3555 - accuracy: 0.8345 - val_loss: 0.7390 - val_accuracy: 0.5255\n",
      "Epoch 54/75\n",
      "118/119 [============================>.] - ETA: 0s - loss: 0.3608 - accuracy: 0.8379INFO:tensorflow:Assets written to: models/assets\n"
     ]
    },
    {
     "name": "stderr",
     "output_type": "stream",
     "text": [
      "INFO:tensorflow:Assets written to: models/assets\n",
      "\u001b[34m\u001b[1mwandb\u001b[0m: Adding directory to artifact (./models)... Done. 0.0s\n"
     ]
    },
    {
     "name": "stdout",
     "output_type": "stream",
     "text": [
      "119/119 [==============================] - 5s 41ms/step - loss: 0.3605 - accuracy: 0.8382 - val_loss: 0.6650 - val_accuracy: 0.5851\n",
      "Epoch 55/75\n",
      "116/119 [============================>.] - ETA: 0s - loss: 0.3453 - accuracy: 0.8432INFO:tensorflow:Assets written to: models/assets\n"
     ]
    },
    {
     "name": "stderr",
     "output_type": "stream",
     "text": [
      "INFO:tensorflow:Assets written to: models/assets\n",
      "\u001b[34m\u001b[1mwandb\u001b[0m: Adding directory to artifact (./models)... Done. 0.0s\n"
     ]
    },
    {
     "name": "stdout",
     "output_type": "stream",
     "text": [
      "119/119 [==============================] - 5s 42ms/step - loss: 0.3450 - accuracy: 0.8429 - val_loss: 0.6237 - val_accuracy: 0.6191\n",
      "Epoch 56/75\n",
      "115/119 [===========================>..] - ETA: 0s - loss: 0.3450 - accuracy: 0.8391INFO:tensorflow:Assets written to: models/assets\n"
     ]
    },
    {
     "name": "stderr",
     "output_type": "stream",
     "text": [
      "INFO:tensorflow:Assets written to: models/assets\n",
      "\u001b[34m\u001b[1mwandb\u001b[0m: Adding directory to artifact (./models)... Done. 0.0s\n"
     ]
    },
    {
     "name": "stdout",
     "output_type": "stream",
     "text": [
      "119/119 [==============================] - 4s 34ms/step - loss: 0.3466 - accuracy: 0.8392 - val_loss: 0.6697 - val_accuracy: 0.6000\n",
      "Epoch 57/75\n",
      "115/119 [===========================>..] - ETA: 0s - loss: 0.3459 - accuracy: 0.8533INFO:tensorflow:Assets written to: models/assets\n"
     ]
    },
    {
     "name": "stderr",
     "output_type": "stream",
     "text": [
      "INFO:tensorflow:Assets written to: models/assets\n",
      "\u001b[34m\u001b[1mwandb\u001b[0m: Adding directory to artifact (./models)... Done. 0.0s\n"
     ]
    },
    {
     "name": "stdout",
     "output_type": "stream",
     "text": [
      "119/119 [==============================] - 5s 38ms/step - loss: 0.3468 - accuracy: 0.8514 - val_loss: 0.6032 - val_accuracy: 0.6809\n",
      "Epoch 58/75\n",
      "118/119 [============================>.] - ETA: 0s - loss: 0.3424 - accuracy: 0.8400INFO:tensorflow:Assets written to: models/assets\n"
     ]
    },
    {
     "name": "stderr",
     "output_type": "stream",
     "text": [
      "INFO:tensorflow:Assets written to: models/assets\n",
      "\u001b[34m\u001b[1mwandb\u001b[0m: Adding directory to artifact (./models)... Done. 0.0s\n"
     ]
    },
    {
     "name": "stdout",
     "output_type": "stream",
     "text": [
      "119/119 [==============================] - 4s 36ms/step - loss: 0.3422 - accuracy: 0.8403 - val_loss: 0.7087 - val_accuracy: 0.5723\n",
      "Epoch 59/75\n",
      "118/119 [============================>.] - ETA: 0s - loss: 0.3429 - accuracy: 0.8416INFO:tensorflow:Assets written to: models/assets\n"
     ]
    },
    {
     "name": "stderr",
     "output_type": "stream",
     "text": [
      "INFO:tensorflow:Assets written to: models/assets\n",
      "\u001b[34m\u001b[1mwandb\u001b[0m: Adding directory to artifact (./models)... Done. 0.0s\n"
     ]
    },
    {
     "name": "stdout",
     "output_type": "stream",
     "text": [
      "119/119 [==============================] - 5s 44ms/step - loss: 0.3430 - accuracy: 0.8414 - val_loss: 0.6063 - val_accuracy: 0.6638\n",
      "Epoch 60/75\n",
      "118/119 [============================>.] - ETA: 0s - loss: 0.3372 - accuracy: 0.8443INFO:tensorflow:Assets written to: models/assets\n"
     ]
    },
    {
     "name": "stderr",
     "output_type": "stream",
     "text": [
      "INFO:tensorflow:Assets written to: models/assets\n",
      "\u001b[34m\u001b[1mwandb\u001b[0m: Adding directory to artifact (./models)... Done. 0.0s\n"
     ]
    },
    {
     "name": "stdout",
     "output_type": "stream",
     "text": [
      "119/119 [==============================] - 5s 39ms/step - loss: 0.3370 - accuracy: 0.8445 - val_loss: 0.6722 - val_accuracy: 0.5638\n",
      "Epoch 61/75\n",
      "117/119 [============================>.] - ETA: 0s - loss: 0.3370 - accuracy: 0.8483INFO:tensorflow:Assets written to: models/assets\n"
     ]
    },
    {
     "name": "stderr",
     "output_type": "stream",
     "text": [
      "INFO:tensorflow:Assets written to: models/assets\n",
      "\u001b[34m\u001b[1mwandb\u001b[0m: Adding directory to artifact (./models)... Done. 0.0s\n"
     ]
    },
    {
     "name": "stdout",
     "output_type": "stream",
     "text": [
      "119/119 [==============================] - 4s 35ms/step - loss: 0.3369 - accuracy: 0.8472 - val_loss: 0.6175 - val_accuracy: 0.6383\n",
      "Epoch 62/75\n",
      "117/119 [============================>.] - ETA: 0s - loss: 0.3313 - accuracy: 0.8472INFO:tensorflow:Assets written to: models/assets\n"
     ]
    },
    {
     "name": "stderr",
     "output_type": "stream",
     "text": [
      "INFO:tensorflow:Assets written to: models/assets\n",
      "\u001b[34m\u001b[1mwandb\u001b[0m: Adding directory to artifact (./models)... Done. 0.0s\n"
     ]
    },
    {
     "name": "stdout",
     "output_type": "stream",
     "text": [
      "119/119 [==============================] - 5s 38ms/step - loss: 0.3303 - accuracy: 0.8477 - val_loss: 0.6564 - val_accuracy: 0.6128\n",
      "Epoch 63/75\n",
      "119/119 [==============================] - ETA: 0s - loss: 0.3387 - accuracy: 0.8498INFO:tensorflow:Assets written to: models/assets\n"
     ]
    },
    {
     "name": "stderr",
     "output_type": "stream",
     "text": [
      "INFO:tensorflow:Assets written to: models/assets\n",
      "\u001b[34m\u001b[1mwandb\u001b[0m: Adding directory to artifact (./models)... Done. 0.0s\n",
      "\u001b[34m\u001b[1mwandb\u001b[0m: \u001b[33mWARNING\u001b[0m A graphql request initiated by the public wandb API timed out (timeout=19 sec). Create a new API with an integer timeout larger than 19, e.g., `api = wandb.Api(timeout=29)` to increase the graphql timeout.\n"
     ]
    },
    {
     "name": "stdout",
     "output_type": "stream",
     "text": [
      "119/119 [==============================] - 25s 213ms/step - loss: 0.3387 - accuracy: 0.8498 - val_loss: 0.6623 - val_accuracy: 0.6128\n",
      "Epoch 64/75\n",
      "118/119 [============================>.] - ETA: 0s - loss: 0.3323 - accuracy: 0.8543INFO:tensorflow:Assets written to: models/assets\n"
     ]
    },
    {
     "name": "stderr",
     "output_type": "stream",
     "text": [
      "INFO:tensorflow:Assets written to: models/assets\n",
      "\u001b[34m\u001b[1mwandb\u001b[0m: Adding directory to artifact (./models)... Done. 0.0s\n"
     ]
    },
    {
     "name": "stdout",
     "output_type": "stream",
     "text": [
      "119/119 [==============================] - 6s 49ms/step - loss: 0.3319 - accuracy: 0.8546 - val_loss: 0.6415 - val_accuracy: 0.5851\n",
      "Epoch 65/75\n",
      "118/119 [============================>.] - ETA: 0s - loss: 0.3292 - accuracy: 0.8506INFO:tensorflow:Assets written to: models/assets\n"
     ]
    },
    {
     "name": "stderr",
     "output_type": "stream",
     "text": [
      "INFO:tensorflow:Assets written to: models/assets\n",
      "\u001b[34m\u001b[1mwandb\u001b[0m: Adding directory to artifact (./models)... Done. 0.0s\n"
     ]
    },
    {
     "name": "stdout",
     "output_type": "stream",
     "text": [
      "119/119 [==============================] - 4s 37ms/step - loss: 0.3299 - accuracy: 0.8503 - val_loss: 0.6839 - val_accuracy: 0.5553\n",
      "Epoch 66/75\n",
      "116/119 [============================>.] - ETA: 0s - loss: 0.3171 - accuracy: 0.8615INFO:tensorflow:Assets written to: models/assets\n"
     ]
    },
    {
     "name": "stderr",
     "output_type": "stream",
     "text": [
      "INFO:tensorflow:Assets written to: models/assets\n",
      "\u001b[34m\u001b[1mwandb\u001b[0m: Adding directory to artifact (./models)... Done. 0.0s\n"
     ]
    },
    {
     "name": "stdout",
     "output_type": "stream",
     "text": [
      "119/119 [==============================] - 5s 38ms/step - loss: 0.3193 - accuracy: 0.8604 - val_loss: 0.7173 - val_accuracy: 0.5809\n",
      "Epoch 67/75\n",
      "118/119 [============================>.] - ETA: 0s - loss: 0.3223 - accuracy: 0.8570INFO:tensorflow:Assets written to: models/assets\n"
     ]
    },
    {
     "name": "stderr",
     "output_type": "stream",
     "text": [
      "INFO:tensorflow:Assets written to: models/assets\n",
      "\u001b[34m\u001b[1mwandb\u001b[0m: Adding directory to artifact (./models)... Done. 0.0s\n"
     ]
    },
    {
     "name": "stdout",
     "output_type": "stream",
     "text": [
      "119/119 [==============================] - 5s 42ms/step - loss: 0.3220 - accuracy: 0.8572 - val_loss: 0.6698 - val_accuracy: 0.5851\n",
      "Epoch 68/75\n",
      "118/119 [============================>.] - ETA: 0s - loss: 0.3173 - accuracy: 0.8570INFO:tensorflow:Assets written to: models/assets\n"
     ]
    },
    {
     "name": "stderr",
     "output_type": "stream",
     "text": [
      "INFO:tensorflow:Assets written to: models/assets\n",
      "\u001b[34m\u001b[1mwandb\u001b[0m: Adding directory to artifact (./models)... Done. 0.0s\n"
     ]
    },
    {
     "name": "stdout",
     "output_type": "stream",
     "text": [
      "119/119 [==============================] - 5s 42ms/step - loss: 0.3183 - accuracy: 0.8562 - val_loss: 0.7027 - val_accuracy: 0.5979\n",
      "Epoch 69/75\n",
      "118/119 [============================>.] - ETA: 0s - loss: 0.3206 - accuracy: 0.8607INFO:tensorflow:Assets written to: models/assets\n"
     ]
    },
    {
     "name": "stderr",
     "output_type": "stream",
     "text": [
      "INFO:tensorflow:Assets written to: models/assets\n",
      "\u001b[34m\u001b[1mwandb\u001b[0m: Adding directory to artifact (./models)... Done. 0.0s\n"
     ]
    },
    {
     "name": "stdout",
     "output_type": "stream",
     "text": [
      "119/119 [==============================] - 4s 34ms/step - loss: 0.3201 - accuracy: 0.8609 - val_loss: 0.6312 - val_accuracy: 0.6319\n",
      "Epoch 70/75\n",
      "118/119 [============================>.] - ETA: 0s - loss: 0.3177 - accuracy: 0.8543INFO:tensorflow:Assets written to: models/assets\n"
     ]
    },
    {
     "name": "stderr",
     "output_type": "stream",
     "text": [
      "INFO:tensorflow:Assets written to: models/assets\n",
      "\u001b[34m\u001b[1mwandb\u001b[0m: Adding directory to artifact (./models)... Done. 0.0s\n"
     ]
    },
    {
     "name": "stdout",
     "output_type": "stream",
     "text": [
      "119/119 [==============================] - 5s 38ms/step - loss: 0.3178 - accuracy: 0.8540 - val_loss: 0.6196 - val_accuracy: 0.6489\n",
      "Epoch 71/75\n",
      "117/119 [============================>.] - ETA: 0s - loss: 0.3108 - accuracy: 0.8638INFO:tensorflow:Assets written to: models/assets\n"
     ]
    },
    {
     "name": "stderr",
     "output_type": "stream",
     "text": [
      "INFO:tensorflow:Assets written to: models/assets\n",
      "\u001b[34m\u001b[1mwandb\u001b[0m: Adding directory to artifact (./models)... Done. 0.0s\n"
     ]
    },
    {
     "name": "stdout",
     "output_type": "stream",
     "text": [
      "119/119 [==============================] - 5s 39ms/step - loss: 0.3117 - accuracy: 0.8630 - val_loss: 0.6340 - val_accuracy: 0.5894\n",
      "Epoch 72/75\n",
      "119/119 [==============================] - ETA: 0s - loss: 0.3080 - accuracy: 0.8604INFO:tensorflow:Assets written to: models/assets\n"
     ]
    },
    {
     "name": "stderr",
     "output_type": "stream",
     "text": [
      "INFO:tensorflow:Assets written to: models/assets\n",
      "\u001b[34m\u001b[1mwandb\u001b[0m: Adding directory to artifact (./models)... Done. 0.0s\n"
     ]
    },
    {
     "name": "stdout",
     "output_type": "stream",
     "text": [
      "119/119 [==============================] - 4s 38ms/step - loss: 0.3080 - accuracy: 0.8604 - val_loss: 0.6667 - val_accuracy: 0.5787\n",
      "Epoch 73/75\n",
      "119/119 [==============================] - ETA: 0s - loss: 0.3087 - accuracy: 0.8636INFO:tensorflow:Assets written to: models/assets\n"
     ]
    },
    {
     "name": "stderr",
     "output_type": "stream",
     "text": [
      "INFO:tensorflow:Assets written to: models/assets\n",
      "\u001b[34m\u001b[1mwandb\u001b[0m: Adding directory to artifact (./models)... Done. 0.0s\n"
     ]
    },
    {
     "name": "stdout",
     "output_type": "stream",
     "text": [
      "119/119 [==============================] - 5s 38ms/step - loss: 0.3087 - accuracy: 0.8636 - val_loss: 0.6717 - val_accuracy: 0.5617\n",
      "Epoch 74/75\n",
      "117/119 [============================>.] - ETA: 0s - loss: 0.3094 - accuracy: 0.8579INFO:tensorflow:Assets written to: models/assets\n"
     ]
    },
    {
     "name": "stderr",
     "output_type": "stream",
     "text": [
      "INFO:tensorflow:Assets written to: models/assets\n",
      "\u001b[34m\u001b[1mwandb\u001b[0m: Adding directory to artifact (./models)... Done. 0.0s\n"
     ]
    },
    {
     "name": "stdout",
     "output_type": "stream",
     "text": [
      "119/119 [==============================] - 4s 37ms/step - loss: 0.3081 - accuracy: 0.8593 - val_loss: 0.6660 - val_accuracy: 0.5638\n",
      "Epoch 75/75\n",
      "116/119 [============================>.] - ETA: 0s - loss: 0.3027 - accuracy: 0.8637INFO:tensorflow:Assets written to: models/assets\n"
     ]
    },
    {
     "name": "stderr",
     "output_type": "stream",
     "text": [
      "INFO:tensorflow:Assets written to: models/assets\n",
      "\u001b[34m\u001b[1mwandb\u001b[0m: Adding directory to artifact (./models)... Done. 0.0s\n"
     ]
    },
    {
     "name": "stdout",
     "output_type": "stream",
     "text": [
      "119/119 [==============================] - 6s 47ms/step - loss: 0.3026 - accuracy: 0.8636 - val_loss: 0.6380 - val_accuracy: 0.6021\n"
     ]
    }
   ],
   "source": [
    "history = model.fit(Xtr, \n",
    "                    ytr, \n",
    "                    epochs=configs['epochs'], \n",
    "                    validation_data=(Xt, yt), \n",
    "                    batch_size=configs['batch_size'], \n",
    "                    verbose=1, \n",
    "                    callbacks=callbacks,\n",
    "                    )\n",
    "\n",
    "run.summary[\"Buy And Hold (Base ROI)\"] = bah_ROI\n",
    "run.summary[\"Max ROI\"] = max_ROI\n",
    "\n"
   ]
  },
  {
   "cell_type": "code",
   "execution_count": 21,
   "metadata": {},
   "outputs": [
    {
     "data": {
      "text/plain": [
       "[<matplotlib.lines.Line2D at 0x7efad845ace0>]"
      ]
     },
     "execution_count": 21,
     "metadata": {},
     "output_type": "execute_result"
    },
    {
     "data": {
      "image/png": "[encoded data removed]",
      "text/plain": [
       "<Figure size 640x480 with 1 Axes>"
      ]
     },
     "metadata": {},
     "output_type": "display_data"
    }
   ],
   "source": [
    "plt.figure()\n",
    "plt.plot(history.history['val_accuracy'])"
   ]
  },
  {
   "cell_type": "code",
   "execution_count": 22,
   "metadata": {},
   "outputs": [],
   "source": [
    "Xtp = Xo.copy()"
   ]
  },
  {
   "cell_type": "code",
   "execution_count": 23,
   "metadata": {},
   "outputs": [
    {
     "name": "stdout",
     "output_type": "stream",
     "text": [
      "15/15 [==============================] - 0s 4ms/step\n",
      "60/60 [==============================] - 0s 4ms/step\n",
      "74/74 [==============================] - 0s 4ms/step\n"
     ]
    }
   ],
   "source": [
    "#predictions\n",
    "testPred = model.predict(Xt)\n",
    "trainPred = model.predict(Xtr)\n",
    "fullPred = model.predict(Xo)\n",
    "\n",
    "#pPred = model.predict(Xtp)\n",
    "\n",
    "#pPred = np.c_[pPred, np.zeros(pPred.shape)]"
   ]
  },
  {
   "cell_type": "code",
   "execution_count": 24,
   "metadata": {},
   "outputs": [],
   "source": [
    "testPred = np.round(testPred)\n",
    "trainPred= np.round(trainPred)\n",
    "fullPred = np.round(fullPred)\n",
    "\n"
   ]
  },
  {
   "cell_type": "code",
   "execution_count": 25,
   "metadata": {},
   "outputs": [],
   "source": [
    "y_test_orig = y_test_orig[configs['sequence_length']:]"
   ]
  },
  {
   "cell_type": "code",
   "execution_count": 26,
   "metadata": {},
   "outputs": [
    {
     "name": "stdout",
     "output_type": "stream",
     "text": [
      "Buying 6 shares for 160.01. Remaining Balance: 39.940000000000055\n",
      "Selling all shares for 161.38, cash balance: $1008.22\n",
      "Buying 6 shares for 154.53. Remaining Balance: 81.03999999999996\n",
      "Selling all shares for 155.96, cash balance: $1016.8\n",
      "Buying 6 shares for 154.46. Remaining Balance: 90.03999999999996\n",
      "Selling all shares for 155.31, cash balance: $1021.9\n",
      "Buying 6 shares for 152.37. Remaining Balance: 107.67999999999995\n",
      "Selling all shares for 152.74, cash balance: $1024.12\n",
      "Buying 7 shares for 142.48. Remaining Balance: 26.75999999999999\n",
      "Selling all shares for 138.20, cash balance: $994.1599999999999\n",
      "Buying 6 shares for 146.10. Remaining Balance: 117.55999999999995\n",
      "Selling all shares for 140.09, cash balance: $958.0999999999999\n",
      "Buying 6 shares for 143.86. Remaining Balance: 94.93999999999983\n",
      "Selling all shares for 134.51, cash balance: $901.9999999999998\n",
      "Buying 6 shares for 135.45. Remaining Balance: 89.29999999999984\n",
      "Selling all shares for 129.61, cash balance: $866.9599999999999\n",
      "Buying 6 shares for 129.93. Remaining Balance: 87.37999999999988\n",
      "Selling all shares for 148.50, cash balance: $978.3799999999999\n",
      "Buying 6 shares for 152.99. Remaining Balance: 60.43999999999983\n",
      "Selling all shares for 155.85, cash balance: $995.5399999999997\n",
      "Buying 6 shares for 155.00. Remaining Balance: 65.53999999999974\n",
      "Selling all shares for 168.41, cash balance: $1075.9999999999998\n",
      "Buying 6 shares for 169.68. Remaining Balance: 57.91999999999973\n",
      "Selling all shares for 173.57, cash balance: $1099.3399999999997\n",
      "Buying 6 shares for 173.50. Remaining Balance: 58.33999999999969\n",
      "Selling all shares for 191.17, cash balance: $1205.3599999999997\n",
      "Buying 6 shares for 178.85. Remaining Balance: 132.25999999999976\n",
      "Selling all shares for 178.18, cash balance: $1201.3399999999997\n",
      "Buying 6 shares for 179.36. Remaining Balance: 125.17999999999961\n",
      "Selling all shares for 174.21, cash balance: $1170.4399999999996\n",
      "Buying 6 shares for 175.74. Remaining Balance: 115.99999999999955\n",
      "Selling all shares for 173.93, cash balance: $1159.5799999999995\n",
      "Buying 6 shares for 171.96. Remaining Balance: 127.81999999999948\n",
      "Selling all shares for 170.43, cash balance: $1150.3999999999996\n",
      "Buying 6 shares for 171.21. Remaining Balance: 123.13999999999965\n",
      "Selling all shares for 172.40, cash balance: $1157.5399999999997\n",
      "Buying 6 shares for 179.80. Remaining Balance: 78.73999999999955\n",
      "Selling all shares for 178.85, cash balance: $1151.8399999999995\n",
      "Buying 6 shares for 177.15. Remaining Balance: 88.93999999999937\n",
      "Selling all shares for 175.84, cash balance: $1143.9799999999993\n",
      "Buying 6 shares for 177.57. Remaining Balance: 78.55999999999926\n",
      "Selling all shares for 181.91, cash balance: $1170.0199999999993\n",
      "Buying 5 shares for 195.18. Remaining Balance: 194.1199999999992\n",
      "Buying 1 shares for 192.42. Remaining Balance: 1.6999999999992212\n",
      "Selling all shares for 184.15, cash balance: $1106.5999999999992\n",
      "Buying 6 shares for 183.86. Remaining Balance: 3.439999999999145\n",
      "Selling all shares for 169.58, cash balance: $1020.9199999999992\n",
      "Buying 6 shares for 167.78. Remaining Balance: 14.2399999999991\n",
      "Selling all shares for 175.04, cash balance: $1064.479999999999\n",
      "Buying 6 shares for 169.02. Remaining Balance: 50.35999999999899\n",
      "Selling all shares for 169.30, cash balance: $1066.159999999999\n",
      "Buying 6 shares for 173.50. Remaining Balance: 25.159999999998945\n",
      "Selling all shares for 169.30, cash balance: $1040.9599999999991\n",
      "Buying 5 shares for 183.38. Remaining Balance: 124.05999999999915\n",
      "Selling all shares for 207.15, cash balance: $1159.809999999999\n",
      "Buying 5 shares for 213.07. Remaining Balance: 94.45999999999913\n",
      "Selling all remaining held shares, cash balance: $1165.6599999999992 ***********************\n"
     ]
    }
   ],
   "source": [
    "\n",
    "lstm_preds = pd.DataFrame(data=testPred, columns=[\"Target\"], index=y_test_orig.index.copy())\n",
    "lstm_preds['close'] = other_test['close']\n",
    "run.summary[\"ROI\"] = stockutils.calculate_total_gains_bs(lstm_preds, init_value=1000, init_price=lstm_preds['close'][0])\n"
   ]
  },
  {
   "cell_type": "code",
   "execution_count": 27,
   "metadata": {},
   "outputs": [
    {
     "data": {
      "text/plain": [
       "470"
      ]
     },
     "execution_count": 27,
     "metadata": {},
     "output_type": "execute_result"
    }
   ],
   "source": [
    "y_test_orig_array = pd.Categorical(y_test_orig).codes\n",
    "len(y_test_orig_array)"
   ]
  },
  {
   "cell_type": "code",
   "execution_count": 28,
   "metadata": {},
   "outputs": [],
   "source": [
    "run.summary['accuracy'] = accuracy_score(y_test_orig_array, testPred)\n",
    "wandb.sklearn.plot_confusion_matrix(y_test_orig_array, testPred, [\"BUY\", \"SELL\"])\n",
    "\n"
   ]
  },
  {
   "cell_type": "code",
   "execution_count": 29,
   "metadata": {},
   "outputs": [
    {
     "data": {
      "application/vnd.jupyter.widget-view+json": {
       "model_id": "f8ad1dfa70104e26b8dd376e24d2a534",
       "version_major": 2,
       "version_minor": 0
      },
      "text/plain": [
       "VBox(children=(Label(value='60.550 MB of 60.550 MB uploaded (0.666 MB deduped)\\r'), FloatProgress(value=1.0, m…"
      ]
     },
     "metadata": {},
     "output_type": "display_data"
    },
    {
     "data": {
      "text/html": [
       "W&B sync reduced upload amount by 1.1%             "
      ],
      "text/plain": [
       "<IPython.core.display.HTML object>"
      ]
     },
     "metadata": {},
     "output_type": "display_data"
    },
    {
     "data": {
      "text/html": [
       "<style>\n",
       "    table.wandb td:nth-child(1) { padding: 0 10px; text-align: left ; width: auto;} td:nth-child(2) {text-align: left ; width: 100%}\n",
       "    .wandb-row { display: flex; flex-direction: row; flex-wrap: wrap; justify-content: flex-start; width: 100% }\n",
       "    .wandb-col { display: flex; flex-direction: column; flex-basis: 100%; flex: 1; padding: 10px; }\n",
       "    </style>\n",
       "<div class=\"wandb-row\"><div class=\"wandb-col\"><h3>Run history:</h3><br/><table class=\"wandb\"><tr><td>epoch/accuracy</td><td>▁▁▁▂▃▄▄▅▄▅▅▅▅▅▅▅▆▆▆▆▆▆▆▇▇▆▇▇▇▇▇▇▇▇▇█████</td></tr><tr><td>epoch/epoch</td><td>▁▁▁▁▂▂▂▂▂▃▃▃▃▃▃▄▄▄▄▄▅▅▅▅▅▅▆▆▆▆▆▆▇▇▇▇▇███</td></tr><tr><td>epoch/learning_rate</td><td>▁▁▁▁▁▁▁▁▁▁▁▁▁▁▁▁▁▁▁▁▁▁▁▁▁▁▁▁▁▁▁▁▁▁▁▁▁▁▁▁</td></tr><tr><td>epoch/loss</td><td>██▇▇▆▆▅▅▅▅▅▄▄▄▄▄▄▃▃▃▃▃▃▃▂▃▂▂▂▂▂▂▂▂▂▁▁▁▁▁</td></tr><tr><td>epoch/val_accuracy</td><td>▃▃▃▃▂▄▃▅▆▅▆▇▆▆▅▆▄▄▅▅▃▆▂▁▃▄▇▆▄▅█▇▆▅▃▄▆▄▃▅</td></tr><tr><td>epoch/val_loss</td><td>▆▆▅▅▄▄▃▃▂▄▄▄▃▂▃▃▂▄▄▃▅▃▅█▆▇▃▃▄▄▁▁▂▄▅▄▂▃▅▃</td></tr></table><br/></div><div class=\"wandb-col\"><h3>Run summary:</h3><br/><table class=\"wandb\"><tr><td>Buy And Hold (Base ROI)</td><td>62.64</td></tr><tr><td>Max ROI</td><td>3415.19</td></tr><tr><td>ROI</td><td>165.66</td></tr><tr><td>accuracy</td><td>0.60213</td></tr><tr><td>epoch/accuracy</td><td>0.86356</td></tr><tr><td>epoch/epoch</td><td>74</td></tr><tr><td>epoch/learning_rate</td><td>0.0005</td></tr><tr><td>epoch/loss</td><td>0.30257</td></tr><tr><td>epoch/val_accuracy</td><td>0.60213</td></tr><tr><td>epoch/val_loss</td><td>0.63803</td></tr></table><br/></div></div>"
      ],
      "text/plain": [
       "<IPython.core.display.HTML object>"
      ]
     },
     "metadata": {},
     "output_type": "display_data"
    },
    {
     "data": {
      "text/html": [
       " View run <strong style=\"color:#cdcd00\">LSTMClassifier_TwoStateMajorReversals_1721768171</strong> at: <a href='https://wandb.ai/christopherandrews/StockPredictor/runs/dkpvwo4l' target=\"_blank\">https://wandb.ai/christopherandrews/StockPredictor/runs/dkpvwo4l</a><br/> View project at: <a href='https://wandb.ai/christopherandrews/StockPredictor' target=\"_blank\">https://wandb.ai/christopherandrews/StockPredictor</a><br/>Synced 5 W&B file(s), 1 media file(s), 376 artifact file(s) and 0 other file(s)"
      ],
      "text/plain": [
       "<IPython.core.display.HTML object>"
      ]
     },
     "metadata": {},
     "output_type": "display_data"
    },
    {
     "data": {
      "text/html": [
       "Find logs at: <code>./wandb/run-20240723_145611-dkpvwo4l/logs</code>"
      ],
      "text/plain": [
       "<IPython.core.display.HTML object>"
      ]
     },
     "metadata": {},
     "output_type": "display_data"
    },
    {
     "data": {
      "text/html": [
       "The new W&B backend becomes opt-out in version 0.18.0; try it out with `wandb.require(\"core\")`! See https://wandb.me/wandb-core for more information."
      ],
      "text/plain": [
       "<IPython.core.display.HTML object>"
      ]
     },
     "metadata": {},
     "output_type": "display_data"
    }
   ],
   "source": [
    "run.finish()"
   ]
  },
  {
   "cell_type": "code",
   "execution_count": 30,
   "metadata": {},
   "outputs": [
    {
     "data": {
      "text/plain": [
       "<matplotlib.legend.Legend at 0x7efafc2762f0>"
      ]
     },
     "execution_count": 30,
     "metadata": {},
     "output_type": "execute_result"
    },
    {
     "data": {
      "image/png": "[encoded data removed]",
      "text/plain": [
       "<Figure size 1170x827 with 1 Axes>"
      ]
     },
     "metadata": {},
     "output_type": "display_data"
    }
   ],
   "source": [
    "a4_dims = (11.7, 8.27)\n",
    "fig, ax = plt.subplots(figsize=a4_dims)\n",
    "\n",
    "xshift = np.linspace(start=len(trainPred), stop=len(trainPred)+len(testPred),num=len(testPred))\n",
    "\n",
    "plt.plot(fullPred, 'g', label=\"actual\")\n",
    "plt.plot(trainPred, \"b\", label=\"Training Pred\")\n",
    "plt.plot(xshift, testPred, 'r',label=\"Test Pred\")\n",
    "#plt.plot(xshift, pPred, 'k',label=\"REAL Pred\")\n",
    "\n",
    "#plt.plot(epochs, val_loss, \"r\", label=\"Validation loss\")\n",
    "plt.title(\"stocks\")\n",
    "plt.xlabel(\"time\")\n",
    "plt.ylabel(\"price\")\n",
    "plt.legend()"
   ]
  },
  {
   "cell_type": "code",
   "execution_count": 31,
   "metadata": {},
   "outputs": [],
   "source": [
    "lstm_predictions = targetdf.copy()\n",
    "lstm_predictions['close'] = otherdf['close']\n",
    "\n",
    "lstm_predictions = lstm_predictions[configs['sequence_length']:]"
   ]
  },
  {
   "cell_type": "code",
   "execution_count": 32,
   "metadata": {},
   "outputs": [
    {
     "data": {
      "text/html": [
       "<div>\n",
       "<style scoped>\n",
       "    .dataframe tbody tr th:only-of-type {\n",
       "        vertical-align: middle;\n",
       "    }\n",
       "\n",
       "    .dataframe tbody tr th {\n",
       "        vertical-align: top;\n",
       "    }\n",
       "\n",
       "    .dataframe thead th {\n",
       "        text-align: right;\n",
       "    }\n",
       "</style>\n",
       "<table border=\"1\" class=\"dataframe\">\n",
       "  <thead>\n",
       "    <tr style=\"text-align: right;\">\n",
       "      <th></th>\n",
       "      <th>Target</th>\n",
       "      <th>close</th>\n",
       "    </tr>\n",
       "    <tr>\n",
       "      <th>date</th>\n",
       "      <th></th>\n",
       "      <th></th>\n",
       "    </tr>\n",
       "  </thead>\n",
       "  <tbody>\n",
       "    <tr>\n",
       "      <th>1/21/2015</th>\n",
       "      <td>0.0</td>\n",
       "      <td>27.3875</td>\n",
       "    </tr>\n",
       "    <tr>\n",
       "      <th>1/22/2015</th>\n",
       "      <td>0.0</td>\n",
       "      <td>28.1000</td>\n",
       "    </tr>\n",
       "    <tr>\n",
       "      <th>1/23/2015</th>\n",
       "      <td>0.0</td>\n",
       "      <td>28.2450</td>\n",
       "    </tr>\n",
       "    <tr>\n",
       "      <th>1/26/2015</th>\n",
       "      <td>0.0</td>\n",
       "      <td>28.2750</td>\n",
       "    </tr>\n",
       "    <tr>\n",
       "      <th>1/27/2015</th>\n",
       "      <td>0.0</td>\n",
       "      <td>27.2850</td>\n",
       "    </tr>\n",
       "  </tbody>\n",
       "</table>\n",
       "</div>"
      ],
      "text/plain": [
       "           Target    close\n",
       "date                      \n",
       "1/21/2015     0.0  27.3875\n",
       "1/22/2015     0.0  28.1000\n",
       "1/23/2015     0.0  28.2450\n",
       "1/26/2015     0.0  28.2750\n",
       "1/27/2015     0.0  27.2850"
      ]
     },
     "execution_count": 32,
     "metadata": {},
     "output_type": "execute_result"
    }
   ],
   "source": [
    "\n",
    "lstm_predictions['Target'] = fullPred\n",
    "\n",
    "lstm_predictions.head()"
   ]
  },
  {
   "cell_type": "code",
   "execution_count": 33,
   "metadata": {},
   "outputs": [
    {
     "name": "stdout",
     "output_type": "stream",
     "text": [
      "Buying 36 shares for 27.39. Remaining Balance: 14.050000000000068\n",
      "Selling all shares for 33.02, cash balance: $1202.6799999999998\n",
      "Buying 43 shares for 27.39. Remaining Balance: 24.694999999999936\n",
      "Selling all shares for 28.09, cash balance: $1232.35\n",
      "Buying 41 shares for 29.72. Remaining Balance: 13.829999999999927\n",
      "Selling all shares for 29.57, cash balance: $1226.405\n",
      "Buying 41 shares for 29.57. Remaining Balance: 14.034999999999854\n",
      "Selling all shares for 29.04, cash balance: $1204.7775\n",
      "Buying 49 shares for 24.16. Remaining Balance: 20.9375\n",
      "Selling all shares for 24.19, cash balance: $1206.2475000000002\n",
      "Buying 49 shares for 24.23. Remaining Balance: 19.100000000000136\n",
      "Selling all shares for 25.13, cash balance: $1250.5925000000002\n",
      "Buying 49 shares for 25.19. Remaining Balance: 16.4050000000002\n",
      "Selling all shares for 25.26, cash balance: $1254.0225000000003\n",
      "Buying 47 shares for 26.14. Remaining Balance: 25.20750000000021\n",
      "Selling all shares for 26.78, cash balance: $1283.9850000000001\n",
      "Buying 56 shares for 22.59. Remaining Balance: 19.225000000000136\n",
      "Selling all shares for 24.66, cash balance: $1400.045\n",
      "Buying 56 shares for 24.71. Remaining Balance: 16.425000000000182\n",
      "Selling all shares for 24.34, cash balance: $1379.1850000000002\n",
      "Buying 59 shares for 23.01. Remaining Balance: 21.595000000000027\n",
      "Selling all shares for 29.56, cash balance: $1765.7825\n",
      "Buying 66 shares for 26.43. Remaining Balance: 21.56750000000011\n",
      "Selling all shares for 38.84, cash balance: $2585.1725\n",
      "Buying 71 shares for 35.93. Remaining Balance: 33.965000000000146\n",
      "Selling all shares for 36.46, cash balance: $2622.4475\n",
      "Buying 73 shares for 35.92. Remaining Balance: 0.28749999999990905\n",
      "Selling all shares for 36.01, cash balance: $2628.6525\n",
      "Buying 73 shares for 35.88. Remaining Balance: 9.777500000000146\n",
      "Selling all shares for 40.31, cash balance: $2952.7725\n",
      "Buying 74 shares for 39.66. Remaining Balance: 18.11750000000029\n",
      "Selling all shares for 40.38, cash balance: $3005.8675000000003\n",
      "Buying 74 shares for 40.22. Remaining Balance: 29.957499999999982\n",
      "Selling all shares for 39.91, cash balance: $2983.4825\n",
      "Buying 77 shares for 38.53. Remaining Balance: 16.672500000000127\n",
      "Selling all shares for 41.86, cash balance: $3239.7000000000003\n",
      "Buying 83 shares for 38.79. Remaining Balance: 20.33750000000009\n",
      "Selling all shares for 41.23, cash balance: $3442.8425\n",
      "Buying 81 shares for 42.09. Remaining Balance: 33.14750000000049\n",
      "Selling all shares for 41.31, cash balance: $3379.2575000000006\n",
      "Buying 83 shares for 40.58. Remaining Balance: 11.117500000000746\n",
      "Selling all shares for 53.61, cash balance: $4460.955\n",
      "Buying 80 shares for 55.30. Remaining Balance: 37.154999999999745\n",
      "Selling all shares for 55.16, cash balance: $4450.155\n",
      "Buying 85 shares for 51.87. Remaining Balance: 41.20499999999993\n",
      "Selling all shares for 50.40, cash balance: $4324.9925\n",
      "Buying 121 shares for 35.55. Remaining Balance: 23.7450000000008\n",
      "Selling all shares for 47.16, cash balance: $5730.710000000001\n",
      "Buying 120 shares for 47.54. Remaining Balance: 26.210000000000946\n",
      "Selling all shares for 49.25, cash balance: $5936.210000000001\n",
      "Buying 119 shares for 49.76. Remaining Balance: 14.770000000001346\n",
      "Selling all shares for 72.02, cash balance: $8585.150000000001\n",
      "Buying 153 shares for 56.09. Remaining Balance: 2.9975000000013097\n",
      "Selling all shares for 111.81, cash balance: $17109.9275\n",
      "Buying 159 shares for 107.12. Remaining Balance: 77.84749999999985\n",
      "Selling all shares for 108.22, cash balance: $17284.8275\n",
      "Buying 150 shares for 114.96. Remaining Balance: 40.82749999999942\n",
      "Selling all shares for 115.32, cash balance: $17338.8275\n",
      "Buying 159 shares for 108.86. Remaining Balance: 30.087499999997817\n",
      "Selling all shares for 108.77, cash balance: $17324.517499999998\n",
      "Buying 150 shares for 114.95. Remaining Balance: 82.01749999999811\n",
      "Selling all shares for 137.09, cash balance: $20645.517499999998\n",
      "Buying 154 shares for 133.94. Remaining Balance: 18.75749999999971\n",
      "Selling all shares for 125.86, cash balance: $19401.1975\n",
      "Buying 160 shares for 121.03. Remaining Balance: 36.39749999999913\n",
      "Selling all shares for 122.77, cash balance: $19679.5975\n",
      "Buying 157 shares for 124.69. Remaining Balance: 103.26750000000175\n",
      "Selling all shares for 125.43, cash balance: $19795.777500000004\n",
      "Buying 158 shares for 125.28. Remaining Balance: 1.5375000000021828\n",
      "Selling all shares for 146.36, cash balance: $23126.417500000003\n",
      "Buying 154 shares for 149.71. Remaining Balance: 71.07750000000306\n",
      "Selling all shares for 143.43, cash balance: $22159.297500000004\n",
      "Buying 151 shares for 145.85. Remaining Balance: 135.94750000000568\n",
      "Selling all shares for 142.83, cash balance: $21703.277500000007\n",
      "Buying 151 shares for 142.90. Remaining Balance: 125.37750000000597\n",
      "Selling all shares for 160.24, cash balance: $24321.617500000008\n",
      "Buying 147 shares for 165.30. Remaining Balance: 22.517500000005384\n",
      "Selling all shares for 172.00, cash balance: $25306.517500000005\n",
      "Buying 144 shares for 174.78. Remaining Balance: 138.19750000000568\n",
      "Selling all shares for 172.39, cash balance: $24962.357500000002\n",
      "Buying 145 shares for 171.66. Remaining Balance: 71.65750000000116\n",
      "Selling all shares for 168.64, cash balance: $24524.4575\n",
      "Buying 142 shares for 172.55. Remaining Balance: 22.357499999998254\n",
      "Selling all shares for 167.30, cash balance: $23778.9575\n",
      "Buying 144 shares for 165.12. Remaining Balance: 1.6775000000016007\n",
      "Selling all shares for 163.20, cash balance: $23502.4775\n",
      "Buying 144 shares for 163.17. Remaining Balance: 5.99750000000131\n",
      "Selling all shares for 159.30, cash balance: $22945.197500000002\n",
      "Buying 144 shares for 158.52. Remaining Balance: 118.31750000000102\n",
      "Selling all shares for 150.62, cash balance: $21807.5975\n",
      "Buying 136 shares for 159.59. Remaining Balance: 103.35749999999825\n",
      "Selling all shares for 178.44, cash balance: $24371.1975\n",
      "Buying 139 shares for 175.06. Remaining Balance: 37.857499999998254\n",
      "Selling all shares for 171.83, cash balance: $23922.2275\n",
      "Buying 138 shares for 172.14. Remaining Balance: 166.90750000000116\n",
      "Buying 1 shares for 165.75. Remaining Balance: 1.1575000000011642\n",
      "Selling all shares for 165.07, cash balance: $22945.8875\n",
      "Buying 143 shares for 159.48. Remaining Balance: 140.2475000000013\n",
      "Selling all shares for 157.28, cash balance: $22631.287500000002\n",
      "Buying 155 shares for 145.54. Remaining Balance: 72.5875000000051\n",
      "Selling all shares for 149.24, cash balance: $23204.787500000006\n",
      "Buying 164 shares for 140.82. Remaining Balance: 110.30750000000626\n",
      "Selling all shares for 137.35, cash balance: $22635.707500000004\n",
      "Buying 151 shares for 149.64. Remaining Balance: 40.06750000000466\n",
      "Selling all shares for 131.88, cash balance: $19953.947500000006\n",
      "Buying 153 shares for 130.06. Remaining Balance: 54.767500000005384\n",
      "Selling all shares for 131.56, cash balance: $20183.447500000006\n",
      "Buying 148 shares for 135.87. Remaining Balance: 74.68750000000364\n",
      "Selling all shares for 161.38, cash balance: $23958.9275\n",
      "Buying 155 shares for 154.53. Remaining Balance: 6.7775000000001455\n",
      "Selling all shares for 155.96, cash balance: $24180.577500000003\n",
      "Buying 156 shares for 154.46. Remaining Balance: 84.81750000000102\n",
      "Selling all shares for 155.31, cash balance: $24313.1775\n",
      "Buying 159 shares for 152.37. Remaining Balance: 86.34749999999985\n",
      "Selling all shares for 152.74, cash balance: $24372.0075\n",
      "Buying 171 shares for 142.48. Remaining Balance: 7.927500000001601\n",
      "Selling all shares for 138.20, cash balance: $23640.1275\n",
      "Buying 161 shares for 146.10. Remaining Balance: 118.02750000000015\n",
      "Selling all shares for 140.09, cash balance: $22672.5175\n",
      "Buying 157 shares for 143.86. Remaining Balance: 86.49750000000131\n",
      "Selling all shares for 134.51, cash balance: $21204.5675\n",
      "Buying 156 shares for 135.45. Remaining Balance: 74.36750000000393\n",
      "Selling all shares for 129.61, cash balance: $20293.527500000007\n",
      "Buying 156 shares for 129.93. Remaining Balance: 24.447500000005675\n",
      "Selling all shares for 148.50, cash balance: $23190.447500000006\n",
      "Buying 151 shares for 152.99. Remaining Balance: 88.95750000000407\n",
      "Selling all shares for 155.85, cash balance: $23622.307500000003\n",
      "Buying 152 shares for 155.00. Remaining Balance: 62.30750000000262\n",
      "Selling all shares for 168.41, cash balance: $25660.627500000002\n",
      "Buying 151 shares for 169.68. Remaining Balance: 38.94750000000204\n",
      "Selling all shares for 173.57, cash balance: $26248.0175\n",
      "Buying 151 shares for 173.50. Remaining Balance: 49.517500000001746\n",
      "Selling all shares for 191.17, cash balance: $28916.1875\n",
      "Buying 161 shares for 178.85. Remaining Balance: 121.33750000000146\n",
      "Selling all shares for 178.18, cash balance: $28808.3175\n",
      "Buying 160 shares for 179.36. Remaining Balance: 110.71749999999884\n",
      "Selling all shares for 174.21, cash balance: $27984.3175\n",
      "Buying 159 shares for 175.74. Remaining Balance: 41.657500000001164\n",
      "Selling all shares for 173.93, cash balance: $27696.527500000004\n",
      "Buying 161 shares for 171.96. Remaining Balance: 10.967500000002474\n",
      "Selling all shares for 170.43, cash balance: $27450.197500000002\n",
      "Buying 160 shares for 171.21. Remaining Balance: 56.597499999999854\n",
      "Selling all shares for 172.40, cash balance: $27640.5975\n",
      "Buying 153 shares for 179.80. Remaining Balance: 131.1974999999984\n",
      "Selling all shares for 178.85, cash balance: $27495.247499999998\n",
      "Buying 155 shares for 177.15. Remaining Balance: 36.99749999999767\n",
      "Selling all shares for 175.84, cash balance: $27292.1975\n",
      "Buying 153 shares for 177.57. Remaining Balance: 123.98749999999927\n",
      "Selling all shares for 181.91, cash balance: $27956.2175\n",
      "Buying 143 shares for 195.18. Remaining Balance: 45.477499999997235\n",
      "Selling all shares for 184.15, cash balance: $26378.927499999998\n",
      "Buying 143 shares for 183.86. Remaining Balance: 86.94749999999476\n",
      "Selling all shares for 169.58, cash balance: $24336.887499999997\n",
      "Buying 145 shares for 167.78. Remaining Balance: 8.787499999998545\n",
      "Selling all shares for 175.04, cash balance: $25389.587499999998\n",
      "Buying 150 shares for 169.02. Remaining Balance: 36.58749999999782\n",
      "Selling all shares for 169.30, cash balance: $25431.587499999998\n",
      "Buying 146 shares for 173.50. Remaining Balance: 100.58749999999782\n",
      "Selling all shares for 169.30, cash balance: $24818.3875\n",
      "Buying 135 shares for 183.38. Remaining Balance: 62.087500000001455\n",
      "Selling all shares for 207.15, cash balance: $28027.3375\n",
      "Buying 131 shares for 213.07. Remaining Balance: 115.1675000000032\n",
      "Selling all remaining held shares, cash balance: $28180.607500000006 ***********************\n"
     ]
    },
    {
     "data": {
      "text/plain": [
       "27180.607500000006"
      ]
     },
     "execution_count": 33,
     "metadata": {},
     "output_type": "execute_result"
    }
   ],
   "source": [
    "stockutils.calculate_total_gains_bs(lstm_predictions, init_value=1000, init_price=lstm_predictions['close'][0])"
   ]
  },
  {
   "cell_type": "code",
   "execution_count": 34,
   "metadata": {},
   "outputs": [
    {
     "data": {
      "text/plain": [
       "<Axes: xlabel='date', ylabel='close'>"
      ]
     },
     "execution_count": 34,
     "metadata": {},
     "output_type": "execute_result"
    },
    {
     "data": {
      "image/png": "[encoded data removed]",
      "text/plain": [
       "<Figure size 1600x1000 with 1 Axes>"
      ]
     },
     "metadata": {},
     "output_type": "display_data"
    }
   ],
   "source": [
    "a4_dims = (16,10)\n",
    "fig, ax = plt.subplots(figsize=a4_dims)\n",
    "#plot the actual close line\n",
    "ax=sns.lineplot(data=otherdf, x=otherdf.index, y='close', c='black', alpha=0.4)\n",
    "# plot the predicted values\n",
    "sns.scatterplot(data=lstm_predictions, x=lstm_predictions.index, y='close', hue='Target',s=20)\n"
   ]
  },
  {
   "cell_type": "markdown",
   "metadata": {},
   "source": [
    "If we were predicting price, based on price, we run into a problem where we need to convert our test data to be predictions based on the training data, and compare that to reality.  For Buy/Sell signals, there is no dependency on previous buy/sell signals (there still is price, but test dat is real data with no dependency on buy/sell signals)"
   ]
  },
  {
   "cell_type": "markdown",
   "metadata": {},
   "source": [
    "# LSTM Stacked Model - more than one layer of LSTM"
   ]
  },
  {
   "cell_type": "code",
   "execution_count": 35,
   "metadata": {},
   "outputs": [
    {
     "name": "stdout",
     "output_type": "stream",
     "text": [
      "Model: \"sequential_1\"\n",
      "_________________________________________________________________\n",
      " Layer (type)                Output Shape              Param #   \n",
      "=================================================================\n",
      " LSTM_1 (LSTM)               (None, 5, 92)             42688     \n",
      "                                                                 \n",
      " LSTM_4 (LSTM)               (None, 46)                25576     \n",
      "                                                                 \n",
      " Dense_Layer (Dense)         (None, 1)                 47        \n",
      "                                                                 \n",
      "=================================================================\n",
      "Total params: 68311 (266.84 KB)\n",
      "Trainable params: 68311 (266.84 KB)\n",
      "Non-trainable params: 0 (0.00 Byte)\n",
      "_________________________________________________________________\n"
     ]
    }
   ],
   "source": [
    "# LSTM Stacked model \n",
    "\n",
    "from keras.models import Sequential\n",
    "from keras.layers import LSTM, Dense, Dropout, Softmax, BatchNormalization\n",
    "from keras.optimizers import Adam, Nadam\n",
    "\n",
    "samples = Xtr.shape[0]\n",
    "timesteps = Xtr.shape[1]\n",
    "features = Xtr.shape[2]\n",
    "\n",
    "optimizer = Nadam(learning_rate=configs['learning_rate'])\n",
    "\n",
    "model = Sequential()\n",
    "#model.add(LSTM(50, activation='tanh', input_shape=(timesteps, features), name=\"LSTM_0\", return_sequences=True)) \n",
    "# model.add(Dropout(0.2))\n",
    "model.add(LSTM(features*4, activation='tanh', input_shape=(timesteps, features), name=\"LSTM_1\", return_sequences=True)) \n",
    "# model.add(Dropout(0.2))\n",
    "# model.add(LSTM(100, activation='tanh', input_shape=(timesteps, features), name=\"LSTM_2\", return_sequences=True)) \n",
    "# model.add(Dropout(0.2))\n",
    "# model.add(BatchNormalization())\n",
    "# model.add(LSTM(50, activation='tanh', input_shape=(timesteps, features), name=\"LSTM_3\", return_sequences=True)) \n",
    "# model.add(Dropout(0.2))\n",
    "\n",
    "model.add(LSTM(features*2, activation='tanh', input_shape=(timesteps, features), name=\"LSTM_4\")) \n",
    "#model.add(Dense(8, activation='ReLU', name=\"Features\"))\n",
    "model.add(Dense(configs['num_classes'], activation='sigmoid', name=\"Dense_Layer\"))\n",
    "#model.add(Softmax()) #this kills any learning, apparently\n",
    "\n",
    "model.compile(loss='binary_crossentropy', optimizer=optimizer, metrics=['accuracy'])\n",
    "\n",
    "model.summary()"
   ]
  },
  {
   "cell_type": "code",
   "execution_count": 36,
   "metadata": {},
   "outputs": [
    {
     "data": {
      "text/html": [
       "wandb version 0.17.5 is available!  To upgrade, please run:\n",
       " $ pip install wandb --upgrade"
      ],
      "text/plain": [
       "<IPython.core.display.HTML object>"
      ]
     },
     "metadata": {},
     "output_type": "display_data"
    },
    {
     "data": {
      "text/html": [
       "Tracking run with wandb version 0.17.4"
      ],
      "text/plain": [
       "<IPython.core.display.HTML object>"
      ]
     },
     "metadata": {},
     "output_type": "display_data"
    },
    {
     "data": {
      "text/html": [
       "Run data is saved locally in <code>/home/candrews/Projects/MyProjects/StockPredictor/notebooks/wandb/run-20240723_150303-6ql6trft</code>"
      ],
      "text/plain": [
       "<IPython.core.display.HTML object>"
      ]
     },
     "metadata": {},
     "output_type": "display_data"
    },
    {
     "data": {
      "text/html": [
       "Syncing run <strong><a href='https://wandb.ai/christopherandrews/StockPredictor/runs/6ql6trft' target=\"_blank\">StackedLSTMClassifier_TwoStateMajorReversals_1721768583</a></strong> to <a href='https://wandb.ai/christopherandrews/StockPredictor' target=\"_blank\">Weights & Biases</a> (<a href='https://wandb.me/run' target=\"_blank\">docs</a>)<br/>"
      ],
      "text/plain": [
       "<IPython.core.display.HTML object>"
      ]
     },
     "metadata": {},
     "output_type": "display_data"
    },
    {
     "data": {
      "text/html": [
       " View project at <a href='https://wandb.ai/christopherandrews/StockPredictor' target=\"_blank\">https://wandb.ai/christopherandrews/StockPredictor</a>"
      ],
      "text/plain": [
       "<IPython.core.display.HTML object>"
      ]
     },
     "metadata": {},
     "output_type": "display_data"
    },
    {
     "data": {
      "text/html": [
       " View run at <a href='https://wandb.ai/christopherandrews/StockPredictor/runs/6ql6trft' target=\"_blank\">https://wandb.ai/christopherandrews/StockPredictor/runs/6ql6trft</a>"
      ],
      "text/plain": [
       "<IPython.core.display.HTML object>"
      ]
     },
     "metadata": {},
     "output_type": "display_data"
    }
   ],
   "source": [
    "run_name = f\"StackedLSTMClassifier_{targetName}_{int(time.time())}\"\n",
    "run = wandb.init(entity=\"christopherandrews\", project=\"StockPredictor\", name=run_name, save_code=False, settings=wandb.Settings(start_method=\"fork\"), reinit=True, config=configs)\n",
    "\n",
    "callbacks = [es, WandbMetricsLogger(), WandbModelCheckpoint(\"models\")]"
   ]
  },
  {
   "cell_type": "code",
   "execution_count": 37,
   "metadata": {},
   "outputs": [
    {
     "name": "stdout",
     "output_type": "stream",
     "text": [
      "Epoch 1/75\n",
      "118/119 [============================>.] - ETA: 0s - loss: 0.6022 - accuracy: 0.6917INFO:tensorflow:Assets written to: models/assets\n"
     ]
    },
    {
     "name": "stderr",
     "output_type": "stream",
     "text": [
      "INFO:tensorflow:Assets written to: models/assets\n",
      "\u001b[34m\u001b[1mwandb\u001b[0m: Adding directory to artifact (./models)... Done. 0.0s\n"
     ]
    },
    {
     "name": "stdout",
     "output_type": "stream",
     "text": [
      "119/119 [==============================] - 12s 64ms/step - loss: 0.6020 - accuracy: 0.6917 - val_loss: 0.6817 - val_accuracy: 0.5915\n",
      "Epoch 2/75\n",
      "117/119 [============================>.] - ETA: 0s - loss: 0.5684 - accuracy: 0.6971INFO:tensorflow:Assets written to: models/assets\n"
     ]
    },
    {
     "name": "stderr",
     "output_type": "stream",
     "text": [
      "INFO:tensorflow:Assets written to: models/assets\n",
      "\u001b[34m\u001b[1mwandb\u001b[0m: Adding directory to artifact (./models)... Done. 0.0s\n"
     ]
    },
    {
     "name": "stdout",
     "output_type": "stream",
     "text": [
      "119/119 [==============================] - 42s 155ms/step - loss: 0.5667 - accuracy: 0.6986 - val_loss: 0.6696 - val_accuracy: 0.5532\n",
      "Epoch 3/75\n",
      "117/119 [============================>.] - ETA: 0s - loss: 0.5383 - accuracy: 0.7361INFO:tensorflow:Assets written to: models/assets\n"
     ]
    },
    {
     "name": "stderr",
     "output_type": "stream",
     "text": [
      "INFO:tensorflow:Assets written to: models/assets\n",
      "\u001b[34m\u001b[1mwandb\u001b[0m: Adding directory to artifact (./models)... Done. 0.0s\n"
     ]
    },
    {
     "name": "stdout",
     "output_type": "stream",
     "text": [
      "119/119 [==============================] - 45s 379ms/step - loss: 0.5380 - accuracy: 0.7356 - val_loss: 0.6685 - val_accuracy: 0.5340\n",
      "Epoch 4/75\n",
      "119/119 [==============================] - ETA: 0s - loss: 0.5179 - accuracy: 0.7509INFO:tensorflow:Assets written to: models/assets\n"
     ]
    },
    {
     "name": "stderr",
     "output_type": "stream",
     "text": [
      "INFO:tensorflow:Assets written to: models/assets\n",
      "\u001b[34m\u001b[1mwandb\u001b[0m: Adding directory to artifact (./models)... Done. 0.0s\n"
     ]
    },
    {
     "name": "stdout",
     "output_type": "stream",
     "text": [
      "119/119 [==============================] - 7s 58ms/step - loss: 0.5179 - accuracy: 0.7509 - val_loss: 0.6573 - val_accuracy: 0.6702\n",
      "Epoch 5/75\n",
      "119/119 [==============================] - ETA: 0s - loss: 0.5069 - accuracy: 0.7599INFO:tensorflow:Assets written to: models/assets\n"
     ]
    },
    {
     "name": "stderr",
     "output_type": "stream",
     "text": [
      "INFO:tensorflow:Assets written to: models/assets\n",
      "\u001b[34m\u001b[1mwandb\u001b[0m: Adding directory to artifact (./models)... Done. 0.0s\n"
     ]
    },
    {
     "name": "stdout",
     "output_type": "stream",
     "text": [
      "119/119 [==============================] - 8s 69ms/step - loss: 0.5069 - accuracy: 0.7599 - val_loss: 0.6481 - val_accuracy: 0.5660\n",
      "Epoch 6/75\n",
      "116/119 [============================>.] - ETA: 0s - loss: 0.4966 - accuracy: 0.7565INFO:tensorflow:Assets written to: models/assets\n"
     ]
    },
    {
     "name": "stderr",
     "output_type": "stream",
     "text": [
      "INFO:tensorflow:Assets written to: models/assets\n",
      "\u001b[34m\u001b[1mwandb\u001b[0m: Adding directory to artifact (./models)... Done. 0.0s\n"
     ]
    },
    {
     "name": "stdout",
     "output_type": "stream",
     "text": [
      "119/119 [==============================] - 7s 58ms/step - loss: 0.4954 - accuracy: 0.7578 - val_loss: 0.6471 - val_accuracy: 0.6000\n",
      "Epoch 7/75\n",
      "116/119 [============================>.] - ETA: 0s - loss: 0.4907 - accuracy: 0.7759INFO:tensorflow:Assets written to: models/assets\n"
     ]
    },
    {
     "name": "stderr",
     "output_type": "stream",
     "text": [
      "INFO:tensorflow:Assets written to: models/assets\n",
      "\u001b[34m\u001b[1mwandb\u001b[0m: Adding directory to artifact (./models)... Done. 0.0s\n"
     ]
    },
    {
     "name": "stdout",
     "output_type": "stream",
     "text": [
      "119/119 [==============================] - 7s 63ms/step - loss: 0.4906 - accuracy: 0.7747 - val_loss: 0.6384 - val_accuracy: 0.6426\n",
      "Epoch 8/75\n",
      "118/119 [============================>.] - ETA: 0s - loss: 0.4808 - accuracy: 0.7717INFO:tensorflow:Assets written to: models/assets\n"
     ]
    },
    {
     "name": "stderr",
     "output_type": "stream",
     "text": [
      "INFO:tensorflow:Assets written to: models/assets\n",
      "\u001b[34m\u001b[1mwandb\u001b[0m: Adding directory to artifact (./models)... Done. 0.0s\n"
     ]
    },
    {
     "name": "stdout",
     "output_type": "stream",
     "text": [
      "119/119 [==============================] - 9s 73ms/step - loss: 0.4812 - accuracy: 0.7715 - val_loss: 0.6493 - val_accuracy: 0.6447\n",
      "Epoch 9/75\n",
      "118/119 [============================>.] - ETA: 0s - loss: 0.4765 - accuracy: 0.7781INFO:tensorflow:Assets written to: models/assets\n"
     ]
    },
    {
     "name": "stderr",
     "output_type": "stream",
     "text": [
      "INFO:tensorflow:Assets written to: models/assets\n",
      "\u001b[34m\u001b[1mwandb\u001b[0m: Adding directory to artifact (./models)... Done. 0.0s\n"
     ]
    },
    {
     "name": "stdout",
     "output_type": "stream",
     "text": [
      "119/119 [==============================] - 11s 94ms/step - loss: 0.4762 - accuracy: 0.7784 - val_loss: 0.6444 - val_accuracy: 0.6213\n",
      "Epoch 10/75\n",
      "117/119 [============================>.] - ETA: 0s - loss: 0.4674 - accuracy: 0.7911INFO:tensorflow:Assets written to: models/assets\n"
     ]
    },
    {
     "name": "stderr",
     "output_type": "stream",
     "text": [
      "INFO:tensorflow:Assets written to: models/assets\n",
      "\u001b[34m\u001b[1mwandb\u001b[0m: Adding directory to artifact (./models)... Done. 0.0s\n"
     ]
    },
    {
     "name": "stdout",
     "output_type": "stream",
     "text": [
      "119/119 [==============================] - 7s 56ms/step - loss: 0.4677 - accuracy: 0.7911 - val_loss: 0.7012 - val_accuracy: 0.5106\n",
      "Epoch 11/75\n",
      "116/119 [============================>.] - ETA: 0s - loss: 0.4543 - accuracy: 0.7909INFO:tensorflow:Assets written to: models/assets\n"
     ]
    },
    {
     "name": "stderr",
     "output_type": "stream",
     "text": [
      "INFO:tensorflow:Assets written to: models/assets\n",
      "\u001b[34m\u001b[1mwandb\u001b[0m: Adding directory to artifact (./models)... Done. 0.0s\n"
     ]
    },
    {
     "name": "stdout",
     "output_type": "stream",
     "text": [
      "119/119 [==============================] - 8s 72ms/step - loss: 0.4558 - accuracy: 0.7890 - val_loss: 0.6299 - val_accuracy: 0.6489\n",
      "Epoch 12/75\n",
      "117/119 [============================>.] - ETA: 0s - loss: 0.4597 - accuracy: 0.7837INFO:tensorflow:Assets written to: models/assets\n"
     ]
    },
    {
     "name": "stderr",
     "output_type": "stream",
     "text": [
      "INFO:tensorflow:Assets written to: models/assets\n",
      "\u001b[34m\u001b[1mwandb\u001b[0m: Adding directory to artifact (./models)... Done. 0.0s\n"
     ]
    },
    {
     "name": "stdout",
     "output_type": "stream",
     "text": [
      "119/119 [==============================] - 7s 57ms/step - loss: 0.4600 - accuracy: 0.7832 - val_loss: 0.6588 - val_accuracy: 0.6213\n",
      "Epoch 13/75\n",
      "117/119 [============================>.] - ETA: 0s - loss: 0.4594 - accuracy: 0.7794INFO:tensorflow:Assets written to: models/assets\n"
     ]
    },
    {
     "name": "stderr",
     "output_type": "stream",
     "text": [
      "INFO:tensorflow:Assets written to: models/assets\n",
      "\u001b[34m\u001b[1mwandb\u001b[0m: Adding directory to artifact (./models)... Done. 0.0s\n"
     ]
    },
    {
     "name": "stdout",
     "output_type": "stream",
     "text": [
      "119/119 [==============================] - 7s 60ms/step - loss: 0.4575 - accuracy: 0.7811 - val_loss: 0.6343 - val_accuracy: 0.6213\n",
      "Epoch 14/75\n",
      "119/119 [==============================] - ETA: 0s - loss: 0.4471 - accuracy: 0.7890INFO:tensorflow:Assets written to: models/assets\n"
     ]
    },
    {
     "name": "stderr",
     "output_type": "stream",
     "text": [
      "INFO:tensorflow:Assets written to: models/assets\n",
      "\u001b[34m\u001b[1mwandb\u001b[0m: Adding directory to artifact (./models)... Done. 0.0s\n"
     ]
    },
    {
     "name": "stdout",
     "output_type": "stream",
     "text": [
      "119/119 [==============================] - 9s 77ms/step - loss: 0.4471 - accuracy: 0.7890 - val_loss: 0.6686 - val_accuracy: 0.5468\n",
      "Epoch 15/75\n",
      "116/119 [============================>.] - ETA: 0s - loss: 0.4426 - accuracy: 0.7947INFO:tensorflow:Assets written to: models/assets\n"
     ]
    },
    {
     "name": "stderr",
     "output_type": "stream",
     "text": [
      "INFO:tensorflow:Assets written to: models/assets\n",
      "\u001b[34m\u001b[1mwandb\u001b[0m: Adding directory to artifact (./models)... Done. 0.0s\n"
     ]
    },
    {
     "name": "stdout",
     "output_type": "stream",
     "text": [
      "119/119 [==============================] - 8s 64ms/step - loss: 0.4419 - accuracy: 0.7959 - val_loss: 0.6357 - val_accuracy: 0.6404\n",
      "Epoch 16/75\n",
      "118/119 [============================>.] - ETA: 0s - loss: 0.4344 - accuracy: 0.8008INFO:tensorflow:Assets written to: models/assets\n"
     ]
    },
    {
     "name": "stderr",
     "output_type": "stream",
     "text": [
      "INFO:tensorflow:Assets written to: models/assets\n",
      "\u001b[34m\u001b[1mwandb\u001b[0m: Adding directory to artifact (./models)... Done. 0.0s\n"
     ]
    },
    {
     "name": "stdout",
     "output_type": "stream",
     "text": [
      "119/119 [==============================] - 8s 63ms/step - loss: 0.4343 - accuracy: 0.8012 - val_loss: 0.6354 - val_accuracy: 0.6681\n",
      "Epoch 17/75\n",
      "115/119 [===========================>..] - ETA: 0s - loss: 0.4277 - accuracy: 0.8016INFO:tensorflow:Assets written to: models/assets\n"
     ]
    },
    {
     "name": "stderr",
     "output_type": "stream",
     "text": [
      "INFO:tensorflow:Assets written to: models/assets\n",
      "\u001b[34m\u001b[1mwandb\u001b[0m: Adding directory to artifact (./models)... Done. 0.0s\n"
     ]
    },
    {
     "name": "stdout",
     "output_type": "stream",
     "text": [
      "119/119 [==============================] - 9s 74ms/step - loss: 0.4280 - accuracy: 0.8012 - val_loss: 0.6588 - val_accuracy: 0.5660\n",
      "Epoch 18/75\n",
      "117/119 [============================>.] - ETA: 0s - loss: 0.4331 - accuracy: 0.7943INFO:tensorflow:Assets written to: models/assets\n"
     ]
    },
    {
     "name": "stderr",
     "output_type": "stream",
     "text": [
      "INFO:tensorflow:Assets written to: models/assets\n",
      "\u001b[34m\u001b[1mwandb\u001b[0m: Adding directory to artifact (./models)... Done. 0.0s\n"
     ]
    },
    {
     "name": "stdout",
     "output_type": "stream",
     "text": [
      "119/119 [==============================] - 7s 62ms/step - loss: 0.4323 - accuracy: 0.7948 - val_loss: 0.6409 - val_accuracy: 0.6426\n",
      "Epoch 19/75\n",
      "116/119 [============================>.] - ETA: 0s - loss: 0.4272 - accuracy: 0.7942INFO:tensorflow:Assets written to: models/assets\n"
     ]
    },
    {
     "name": "stderr",
     "output_type": "stream",
     "text": [
      "INFO:tensorflow:Assets written to: models/assets\n",
      "\u001b[34m\u001b[1mwandb\u001b[0m: Adding directory to artifact (./models)... Done. 0.0s\n"
     ]
    },
    {
     "name": "stdout",
     "output_type": "stream",
     "text": [
      "119/119 [==============================] - 7s 62ms/step - loss: 0.4269 - accuracy: 0.7943 - val_loss: 0.7075 - val_accuracy: 0.5532\n",
      "Epoch 20/75\n",
      "117/119 [============================>.] - ETA: 0s - loss: 0.4203 - accuracy: 0.7970INFO:tensorflow:Assets written to: models/assets\n"
     ]
    },
    {
     "name": "stderr",
     "output_type": "stream",
     "text": [
      "INFO:tensorflow:Assets written to: models/assets\n",
      "\u001b[34m\u001b[1mwandb\u001b[0m: Adding directory to artifact (./models)... Done. 0.0s\n"
     ]
    },
    {
     "name": "stdout",
     "output_type": "stream",
     "text": [
      "119/119 [==============================] - 8s 67ms/step - loss: 0.4217 - accuracy: 0.7948 - val_loss: 0.6491 - val_accuracy: 0.6149\n",
      "Epoch 21/75\n",
      "119/119 [==============================] - ETA: 0s - loss: 0.4083 - accuracy: 0.8149INFO:tensorflow:Assets written to: models/assets\n"
     ]
    },
    {
     "name": "stderr",
     "output_type": "stream",
     "text": [
      "INFO:tensorflow:Assets written to: models/assets\n",
      "\u001b[34m\u001b[1mwandb\u001b[0m: Adding directory to artifact (./models)... Done. 0.0s\n"
     ]
    },
    {
     "name": "stdout",
     "output_type": "stream",
     "text": [
      "119/119 [==============================] - 8s 69ms/step - loss: 0.4083 - accuracy: 0.8149 - val_loss: 0.6317 - val_accuracy: 0.6255\n",
      "Epoch 22/75\n",
      "118/119 [============================>.] - ETA: 0s - loss: 0.4062 - accuracy: 0.8077INFO:tensorflow:Assets written to: models/assets\n"
     ]
    },
    {
     "name": "stderr",
     "output_type": "stream",
     "text": [
      "INFO:tensorflow:Assets written to: models/assets\n",
      "\u001b[34m\u001b[1mwandb\u001b[0m: Adding directory to artifact (./models)... Done. 0.0s\n"
     ]
    },
    {
     "name": "stdout",
     "output_type": "stream",
     "text": [
      "119/119 [==============================] - 7s 61ms/step - loss: 0.4061 - accuracy: 0.8075 - val_loss: 0.6462 - val_accuracy: 0.6064\n",
      "Epoch 23/75\n",
      "119/119 [==============================] - ETA: 0s - loss: 0.4077 - accuracy: 0.8117INFO:tensorflow:Assets written to: models/assets\n"
     ]
    },
    {
     "name": "stderr",
     "output_type": "stream",
     "text": [
      "INFO:tensorflow:Assets written to: models/assets\n",
      "\u001b[34m\u001b[1mwandb\u001b[0m: Adding directory to artifact (./models)... Done. 0.0s\n"
     ]
    },
    {
     "name": "stdout",
     "output_type": "stream",
     "text": [
      "119/119 [==============================] - 8s 64ms/step - loss: 0.4077 - accuracy: 0.8117 - val_loss: 0.6712 - val_accuracy: 0.5426\n",
      "Epoch 24/75\n",
      "118/119 [============================>.] - ETA: 0s - loss: 0.3980 - accuracy: 0.8162INFO:tensorflow:Assets written to: models/assets\n"
     ]
    },
    {
     "name": "stderr",
     "output_type": "stream",
     "text": [
      "INFO:tensorflow:Assets written to: models/assets\n",
      "\u001b[34m\u001b[1mwandb\u001b[0m: Adding directory to artifact (./models)... Done. 0.0s\n"
     ]
    },
    {
     "name": "stdout",
     "output_type": "stream",
     "text": [
      "119/119 [==============================] - 8s 70ms/step - loss: 0.3980 - accuracy: 0.8165 - val_loss: 0.6507 - val_accuracy: 0.6170\n",
      "Epoch 25/75\n",
      "116/119 [============================>.] - ETA: 0s - loss: 0.4028 - accuracy: 0.8098INFO:tensorflow:Assets written to: models/assets\n"
     ]
    },
    {
     "name": "stderr",
     "output_type": "stream",
     "text": [
      "INFO:tensorflow:Assets written to: models/assets\n",
      "\u001b[34m\u001b[1mwandb\u001b[0m: Adding directory to artifact (./models)... Done. 0.0s\n"
     ]
    },
    {
     "name": "stdout",
     "output_type": "stream",
     "text": [
      "119/119 [==============================] - 7s 62ms/step - loss: 0.4018 - accuracy: 0.8107 - val_loss: 0.6536 - val_accuracy: 0.6149\n",
      "Epoch 26/75\n",
      "119/119 [==============================] - ETA: 0s - loss: 0.4000 - accuracy: 0.8154INFO:tensorflow:Assets written to: models/assets\n"
     ]
    },
    {
     "name": "stderr",
     "output_type": "stream",
     "text": [
      "INFO:tensorflow:Assets written to: models/assets\n",
      "\u001b[34m\u001b[1mwandb\u001b[0m: Adding directory to artifact (./models)... Done. 0.0s\n"
     ]
    },
    {
     "name": "stdout",
     "output_type": "stream",
     "text": [
      "119/119 [==============================] - 9s 77ms/step - loss: 0.4000 - accuracy: 0.8154 - val_loss: 0.6841 - val_accuracy: 0.5851\n",
      "Epoch 27/75\n",
      "117/119 [============================>.] - ETA: 0s - loss: 0.3923 - accuracy: 0.8194INFO:tensorflow:Assets written to: models/assets\n"
     ]
    },
    {
     "name": "stderr",
     "output_type": "stream",
     "text": [
      "INFO:tensorflow:Assets written to: models/assets\n",
      "\u001b[34m\u001b[1mwandb\u001b[0m: Adding directory to artifact (./models)... Done. 0.0s\n"
     ]
    },
    {
     "name": "stdout",
     "output_type": "stream",
     "text": [
      "119/119 [==============================] - 9s 74ms/step - loss: 0.3924 - accuracy: 0.8191 - val_loss: 0.6760 - val_accuracy: 0.5894\n",
      "Epoch 28/75\n",
      "118/119 [============================>.] - ETA: 0s - loss: 0.3924 - accuracy: 0.8114INFO:tensorflow:Assets written to: models/assets\n"
     ]
    },
    {
     "name": "stderr",
     "output_type": "stream",
     "text": [
      "INFO:tensorflow:Assets written to: models/assets\n",
      "\u001b[34m\u001b[1mwandb\u001b[0m: Adding directory to artifact (./models)... Done. 0.0s\n"
     ]
    },
    {
     "name": "stdout",
     "output_type": "stream",
     "text": [
      "119/119 [==============================] - 19s 159ms/step - loss: 0.3922 - accuracy: 0.8112 - val_loss: 0.6525 - val_accuracy: 0.5787\n",
      "Epoch 29/75\n",
      "117/119 [============================>.] - ETA: 0s - loss: 0.3846 - accuracy: 0.8226INFO:tensorflow:Assets written to: models/assets\n"
     ]
    },
    {
     "name": "stderr",
     "output_type": "stream",
     "text": [
      "INFO:tensorflow:Assets written to: models/assets\n",
      "\u001b[34m\u001b[1mwandb\u001b[0m: Adding directory to artifact (./models)... Done. 0.0s\n"
     ]
    },
    {
     "name": "stdout",
     "output_type": "stream",
     "text": [
      "119/119 [==============================] - 7s 63ms/step - loss: 0.3838 - accuracy: 0.8234 - val_loss: 0.6537 - val_accuracy: 0.6149\n",
      "Epoch 30/75\n",
      "116/119 [============================>.] - ETA: 0s - loss: 0.3885 - accuracy: 0.8168INFO:tensorflow:Assets written to: models/assets\n"
     ]
    },
    {
     "name": "stderr",
     "output_type": "stream",
     "text": [
      "INFO:tensorflow:Assets written to: models/assets\n",
      "\u001b[34m\u001b[1mwandb\u001b[0m: Adding directory to artifact (./models)... Done. 0.0s\n"
     ]
    },
    {
     "name": "stdout",
     "output_type": "stream",
     "text": [
      "119/119 [==============================] - 8s 68ms/step - loss: 0.3879 - accuracy: 0.8170 - val_loss: 0.6415 - val_accuracy: 0.6106\n",
      "Epoch 31/75\n",
      "116/119 [============================>.] - ETA: 0s - loss: 0.3825 - accuracy: 0.8147INFO:tensorflow:Assets written to: models/assets\n"
     ]
    },
    {
     "name": "stderr",
     "output_type": "stream",
     "text": [
      "INFO:tensorflow:Assets written to: models/assets\n",
      "\u001b[34m\u001b[1mwandb\u001b[0m: Adding directory to artifact (./models)... Done. 0.0s\n"
     ]
    },
    {
     "name": "stdout",
     "output_type": "stream",
     "text": [
      "119/119 [==============================] - 7s 60ms/step - loss: 0.3808 - accuracy: 0.8160 - val_loss: 0.6459 - val_accuracy: 0.6532\n",
      "Epoch 32/75\n",
      "118/119 [============================>.] - ETA: 0s - loss: 0.3682 - accuracy: 0.8226INFO:tensorflow:Assets written to: models/assets\n"
     ]
    },
    {
     "name": "stderr",
     "output_type": "stream",
     "text": [
      "INFO:tensorflow:Assets written to: models/assets\n",
      "\u001b[34m\u001b[1mwandb\u001b[0m: Adding directory to artifact (./models)... Done. 0.0s\n"
     ]
    },
    {
     "name": "stdout",
     "output_type": "stream",
     "text": [
      "119/119 [==============================] - 19s 157ms/step - loss: 0.3683 - accuracy: 0.8223 - val_loss: 0.6763 - val_accuracy: 0.5660\n",
      "Epoch 33/75\n",
      "116/119 [============================>.] - ETA: 0s - loss: 0.3683 - accuracy: 0.8281INFO:tensorflow:Assets written to: models/assets\n"
     ]
    },
    {
     "name": "stderr",
     "output_type": "stream",
     "text": [
      "INFO:tensorflow:Assets written to: models/assets\n",
      "\u001b[34m\u001b[1mwandb\u001b[0m: Adding directory to artifact (./models)... Done. 0.0s\n"
     ]
    },
    {
     "name": "stdout",
     "output_type": "stream",
     "text": [
      "119/119 [==============================] - 9s 79ms/step - loss: 0.3658 - accuracy: 0.8302 - val_loss: 0.6427 - val_accuracy: 0.6128\n",
      "Epoch 34/75\n",
      "117/119 [============================>.] - ETA: 0s - loss: 0.3692 - accuracy: 0.8232INFO:tensorflow:Assets written to: models/assets\n"
     ]
    },
    {
     "name": "stderr",
     "output_type": "stream",
     "text": [
      "INFO:tensorflow:Assets written to: models/assets\n",
      "\u001b[34m\u001b[1mwandb\u001b[0m: Adding directory to artifact (./models)... Done. 0.0s\n"
     ]
    },
    {
     "name": "stdout",
     "output_type": "stream",
     "text": [
      "119/119 [==============================] - 9s 74ms/step - loss: 0.3691 - accuracy: 0.8234 - val_loss: 0.6272 - val_accuracy: 0.6489\n",
      "Epoch 35/75\n",
      "117/119 [============================>.] - ETA: 0s - loss: 0.3718 - accuracy: 0.8243INFO:tensorflow:Assets written to: models/assets\n"
     ]
    },
    {
     "name": "stderr",
     "output_type": "stream",
     "text": [
      "INFO:tensorflow:Assets written to: models/assets\n",
      "\u001b[34m\u001b[1mwandb\u001b[0m: Adding directory to artifact (./models)... Done. 0.0s\n"
     ]
    },
    {
     "name": "stdout",
     "output_type": "stream",
     "text": [
      "119/119 [==============================] - 8s 70ms/step - loss: 0.3707 - accuracy: 0.8255 - val_loss: 0.6631 - val_accuracy: 0.6277\n",
      "Epoch 36/75\n",
      "119/119 [==============================] - ETA: 0s - loss: 0.3551 - accuracy: 0.8318INFO:tensorflow:Assets written to: models/assets\n"
     ]
    },
    {
     "name": "stderr",
     "output_type": "stream",
     "text": [
      "INFO:tensorflow:Assets written to: models/assets\n",
      "\u001b[34m\u001b[1mwandb\u001b[0m: Adding directory to artifact (./models)... Done. 0.0s\n"
     ]
    },
    {
     "name": "stdout",
     "output_type": "stream",
     "text": [
      "119/119 [==============================] - 8s 66ms/step - loss: 0.3551 - accuracy: 0.8318 - val_loss: 0.6642 - val_accuracy: 0.6106\n",
      "Epoch 37/75\n",
      "116/119 [============================>.] - ETA: 0s - loss: 0.3456 - accuracy: 0.8373INFO:tensorflow:Assets written to: models/assets\n"
     ]
    },
    {
     "name": "stderr",
     "output_type": "stream",
     "text": [
      "INFO:tensorflow:Assets written to: models/assets\n",
      "\u001b[34m\u001b[1mwandb\u001b[0m: Adding directory to artifact (./models)... Done. 0.0s\n"
     ]
    },
    {
     "name": "stdout",
     "output_type": "stream",
     "text": [
      "119/119 [==============================] - 7s 57ms/step - loss: 0.3435 - accuracy: 0.8382 - val_loss: 0.6360 - val_accuracy: 0.6170\n",
      "Epoch 38/75\n",
      "116/119 [============================>.] - ETA: 0s - loss: 0.3416 - accuracy: 0.8405INFO:tensorflow:Assets written to: models/assets\n"
     ]
    },
    {
     "name": "stderr",
     "output_type": "stream",
     "text": [
      "INFO:tensorflow:Assets written to: models/assets\n",
      "\u001b[34m\u001b[1mwandb\u001b[0m: Adding directory to artifact (./models)... Done. 0.0s\n"
     ]
    },
    {
     "name": "stdout",
     "output_type": "stream",
     "text": [
      "119/119 [==============================] - 9s 78ms/step - loss: 0.3415 - accuracy: 0.8414 - val_loss: 0.7347 - val_accuracy: 0.5660\n",
      "Epoch 39/75\n",
      "118/119 [============================>.] - ETA: 0s - loss: 0.3456 - accuracy: 0.8342INFO:tensorflow:Assets written to: models/assets\n"
     ]
    },
    {
     "name": "stderr",
     "output_type": "stream",
     "text": [
      "INFO:tensorflow:Assets written to: models/assets\n",
      "\u001b[34m\u001b[1mwandb\u001b[0m: Adding directory to artifact (./models)... Done. 0.0s\n"
     ]
    },
    {
     "name": "stdout",
     "output_type": "stream",
     "text": [
      "119/119 [==============================] - 8s 67ms/step - loss: 0.3461 - accuracy: 0.8340 - val_loss: 0.6803 - val_accuracy: 0.5766\n",
      "Epoch 40/75\n",
      "118/119 [============================>.] - ETA: 0s - loss: 0.3407 - accuracy: 0.8400INFO:tensorflow:Assets written to: models/assets\n"
     ]
    },
    {
     "name": "stderr",
     "output_type": "stream",
     "text": [
      "INFO:tensorflow:Assets written to: models/assets\n",
      "\u001b[34m\u001b[1mwandb\u001b[0m: Adding directory to artifact (./models)... Done. 0.0s\n"
     ]
    },
    {
     "name": "stdout",
     "output_type": "stream",
     "text": [
      "119/119 [==============================] - 7s 58ms/step - loss: 0.3412 - accuracy: 0.8398 - val_loss: 0.6737 - val_accuracy: 0.5723\n",
      "Epoch 41/75\n",
      "119/119 [==============================] - ETA: 0s - loss: 0.3381 - accuracy: 0.8429INFO:tensorflow:Assets written to: models/assets\n"
     ]
    },
    {
     "name": "stderr",
     "output_type": "stream",
     "text": [
      "INFO:tensorflow:Assets written to: models/assets\n",
      "\u001b[34m\u001b[1mwandb\u001b[0m: Adding directory to artifact (./models)... Done. 0.0s\n"
     ]
    },
    {
     "name": "stdout",
     "output_type": "stream",
     "text": [
      "119/119 [==============================] - 7s 63ms/step - loss: 0.3381 - accuracy: 0.8429 - val_loss: 0.6532 - val_accuracy: 0.5787\n",
      "Epoch 42/75\n",
      "119/119 [==============================] - ETA: 0s - loss: 0.3249 - accuracy: 0.8456INFO:tensorflow:Assets written to: models/assets\n"
     ]
    },
    {
     "name": "stderr",
     "output_type": "stream",
     "text": [
      "INFO:tensorflow:Assets written to: models/assets\n",
      "\u001b[34m\u001b[1mwandb\u001b[0m: Adding directory to artifact (./models)... Done. 0.0s\n"
     ]
    },
    {
     "name": "stdout",
     "output_type": "stream",
     "text": [
      "119/119 [==============================] - 7s 61ms/step - loss: 0.3249 - accuracy: 0.8456 - val_loss: 0.6628 - val_accuracy: 0.6191\n",
      "Epoch 43/75\n",
      "117/119 [============================>.] - ETA: 0s - loss: 0.3361 - accuracy: 0.8435INFO:tensorflow:Assets written to: models/assets\n"
     ]
    },
    {
     "name": "stderr",
     "output_type": "stream",
     "text": [
      "INFO:tensorflow:Assets written to: models/assets\n",
      "\u001b[34m\u001b[1mwandb\u001b[0m: Adding directory to artifact (./models)... Done. 0.0s\n"
     ]
    },
    {
     "name": "stdout",
     "output_type": "stream",
     "text": [
      "119/119 [==============================] - 7s 57ms/step - loss: 0.3358 - accuracy: 0.8435 - val_loss: 0.6475 - val_accuracy: 0.5766\n",
      "Epoch 44/75\n",
      "116/119 [============================>.] - ETA: 0s - loss: 0.3205 - accuracy: 0.8475INFO:tensorflow:Assets written to: models/assets\n"
     ]
    },
    {
     "name": "stderr",
     "output_type": "stream",
     "text": [
      "INFO:tensorflow:Assets written to: models/assets\n",
      "\u001b[34m\u001b[1mwandb\u001b[0m: Adding directory to artifact (./models)... Done. 0.0s\n"
     ]
    },
    {
     "name": "stdout",
     "output_type": "stream",
     "text": [
      "119/119 [==============================] - 7s 61ms/step - loss: 0.3198 - accuracy: 0.8477 - val_loss: 0.6478 - val_accuracy: 0.5851\n",
      "Epoch 45/75\n",
      "116/119 [============================>.] - ETA: 0s - loss: 0.3171 - accuracy: 0.8486INFO:tensorflow:Assets written to: models/assets\n"
     ]
    },
    {
     "name": "stderr",
     "output_type": "stream",
     "text": [
      "INFO:tensorflow:Assets written to: models/assets\n",
      "\u001b[34m\u001b[1mwandb\u001b[0m: Adding directory to artifact (./models)... Done. 0.0s\n"
     ]
    },
    {
     "name": "stdout",
     "output_type": "stream",
     "text": [
      "119/119 [==============================] - 8s 64ms/step - loss: 0.3159 - accuracy: 0.8488 - val_loss: 0.6519 - val_accuracy: 0.6043\n",
      "Epoch 46/75\n",
      "119/119 [==============================] - ETA: 0s - loss: 0.3067 - accuracy: 0.8556INFO:tensorflow:Assets written to: models/assets\n"
     ]
    },
    {
     "name": "stderr",
     "output_type": "stream",
     "text": [
      "INFO:tensorflow:Assets written to: models/assets\n",
      "\u001b[34m\u001b[1mwandb\u001b[0m: Adding directory to artifact (./models)... Done. 0.0s\n"
     ]
    },
    {
     "name": "stdout",
     "output_type": "stream",
     "text": [
      "119/119 [==============================] - 7s 56ms/step - loss: 0.3067 - accuracy: 0.8556 - val_loss: 0.6916 - val_accuracy: 0.5872\n",
      "Epoch 47/75\n",
      "118/119 [============================>.] - ETA: 0s - loss: 0.3117 - accuracy: 0.8559INFO:tensorflow:Assets written to: models/assets\n"
     ]
    },
    {
     "name": "stderr",
     "output_type": "stream",
     "text": [
      "INFO:tensorflow:Assets written to: models/assets\n",
      "\u001b[34m\u001b[1mwandb\u001b[0m: Adding directory to artifact (./models)... Done. 0.0s\n"
     ]
    },
    {
     "name": "stdout",
     "output_type": "stream",
     "text": [
      "119/119 [==============================] - 7s 57ms/step - loss: 0.3112 - accuracy: 0.8562 - val_loss: 0.6666 - val_accuracy: 0.5681\n",
      "Epoch 48/75\n",
      "116/119 [============================>.] - ETA: 0s - loss: 0.3025 - accuracy: 0.8578INFO:tensorflow:Assets written to: models/assets\n"
     ]
    },
    {
     "name": "stderr",
     "output_type": "stream",
     "text": [
      "INFO:tensorflow:Assets written to: models/assets\n",
      "\u001b[34m\u001b[1mwandb\u001b[0m: Adding directory to artifact (./models)... Done. 0.0s\n"
     ]
    },
    {
     "name": "stdout",
     "output_type": "stream",
     "text": [
      "119/119 [==============================] - 8s 63ms/step - loss: 0.3024 - accuracy: 0.8577 - val_loss: 0.6704 - val_accuracy: 0.5766\n",
      "Epoch 49/75\n",
      "119/119 [==============================] - ETA: 0s - loss: 0.2975 - accuracy: 0.8657INFO:tensorflow:Assets written to: models/assets\n"
     ]
    },
    {
     "name": "stderr",
     "output_type": "stream",
     "text": [
      "INFO:tensorflow:Assets written to: models/assets\n",
      "\u001b[34m\u001b[1mwandb\u001b[0m: Adding directory to artifact (./models)... Done. 0.0s\n"
     ]
    },
    {
     "name": "stdout",
     "output_type": "stream",
     "text": [
      "119/119 [==============================] - 7s 63ms/step - loss: 0.2975 - accuracy: 0.8657 - val_loss: 0.6752 - val_accuracy: 0.5596\n",
      "Epoch 50/75\n",
      "117/119 [============================>.] - ETA: 0s - loss: 0.2842 - accuracy: 0.8686INFO:tensorflow:Assets written to: models/assets\n"
     ]
    },
    {
     "name": "stderr",
     "output_type": "stream",
     "text": [
      "INFO:tensorflow:Assets written to: models/assets\n",
      "\u001b[34m\u001b[1mwandb\u001b[0m: Adding directory to artifact (./models)... Done. 0.0s\n"
     ]
    },
    {
     "name": "stdout",
     "output_type": "stream",
     "text": [
      "119/119 [==============================] - 8s 64ms/step - loss: 0.2862 - accuracy: 0.8683 - val_loss: 0.6783 - val_accuracy: 0.5638\n",
      "Epoch 51/75\n",
      "118/119 [============================>.] - ETA: 0s - loss: 0.2914 - accuracy: 0.8655INFO:tensorflow:Assets written to: models/assets\n"
     ]
    },
    {
     "name": "stderr",
     "output_type": "stream",
     "text": [
      "INFO:tensorflow:Assets written to: models/assets\n",
      "\u001b[34m\u001b[1mwandb\u001b[0m: Adding directory to artifact (./models)... Done. 0.0s\n"
     ]
    },
    {
     "name": "stdout",
     "output_type": "stream",
     "text": [
      "119/119 [==============================] - 7s 56ms/step - loss: 0.2911 - accuracy: 0.8657 - val_loss: 0.6557 - val_accuracy: 0.6106\n",
      "Epoch 52/75\n",
      "119/119 [==============================] - ETA: 0s - loss: 0.2747 - accuracy: 0.8736INFO:tensorflow:Assets written to: models/assets\n"
     ]
    },
    {
     "name": "stderr",
     "output_type": "stream",
     "text": [
      "INFO:tensorflow:Assets written to: models/assets\n",
      "\u001b[34m\u001b[1mwandb\u001b[0m: Adding directory to artifact (./models)... Done. 0.0s\n"
     ]
    },
    {
     "name": "stdout",
     "output_type": "stream",
     "text": [
      "119/119 [==============================] - 7s 57ms/step - loss: 0.2747 - accuracy: 0.8736 - val_loss: 0.7382 - val_accuracy: 0.5979\n",
      "Epoch 53/75\n",
      "119/119 [==============================] - ETA: 0s - loss: 0.2909 - accuracy: 0.8689INFO:tensorflow:Assets written to: models/assets\n"
     ]
    },
    {
     "name": "stderr",
     "output_type": "stream",
     "text": [
      "INFO:tensorflow:Assets written to: models/assets\n",
      "\u001b[34m\u001b[1mwandb\u001b[0m: Adding directory to artifact (./models)... Done. 0.0s\n"
     ]
    },
    {
     "name": "stdout",
     "output_type": "stream",
     "text": [
      "119/119 [==============================] - 7s 60ms/step - loss: 0.2909 - accuracy: 0.8689 - val_loss: 0.7208 - val_accuracy: 0.6043\n",
      "Epoch 54/75\n",
      "119/119 [==============================] - ETA: 0s - loss: 0.2750 - accuracy: 0.8704INFO:tensorflow:Assets written to: models/assets\n"
     ]
    },
    {
     "name": "stderr",
     "output_type": "stream",
     "text": [
      "INFO:tensorflow:Assets written to: models/assets\n",
      "\u001b[34m\u001b[1mwandb\u001b[0m: Adding directory to artifact (./models)... Done. 0.0s\n"
     ]
    },
    {
     "name": "stdout",
     "output_type": "stream",
     "text": [
      "119/119 [==============================] - 9s 73ms/step - loss: 0.2750 - accuracy: 0.8704 - val_loss: 0.6776 - val_accuracy: 0.5979\n",
      "Epoch 55/75\n",
      "117/119 [============================>.] - ETA: 0s - loss: 0.2698 - accuracy: 0.8734INFO:tensorflow:Assets written to: models/assets\n"
     ]
    },
    {
     "name": "stderr",
     "output_type": "stream",
     "text": [
      "INFO:tensorflow:Assets written to: models/assets\n",
      "\u001b[34m\u001b[1mwandb\u001b[0m: Adding directory to artifact (./models)... Done. 0.0s\n"
     ]
    },
    {
     "name": "stdout",
     "output_type": "stream",
     "text": [
      "119/119 [==============================] - 7s 55ms/step - loss: 0.2696 - accuracy: 0.8736 - val_loss: 0.7334 - val_accuracy: 0.6000\n",
      "Epoch 56/75\n",
      "119/119 [==============================] - ETA: 0s - loss: 0.2652 - accuracy: 0.8821INFO:tensorflow:Assets written to: models/assets\n"
     ]
    },
    {
     "name": "stderr",
     "output_type": "stream",
     "text": [
      "INFO:tensorflow:Assets written to: models/assets\n",
      "\u001b[34m\u001b[1mwandb\u001b[0m: Adding directory to artifact (./models)... Done. 0.0s\n"
     ]
    },
    {
     "name": "stdout",
     "output_type": "stream",
     "text": [
      "119/119 [==============================] - 8s 68ms/step - loss: 0.2652 - accuracy: 0.8821 - val_loss: 0.7803 - val_accuracy: 0.5872\n",
      "Epoch 57/75\n",
      "119/119 [==============================] - ETA: 0s - loss: 0.2511 - accuracy: 0.8879INFO:tensorflow:Assets written to: models/assets\n"
     ]
    },
    {
     "name": "stderr",
     "output_type": "stream",
     "text": [
      "INFO:tensorflow:Assets written to: models/assets\n",
      "\u001b[34m\u001b[1mwandb\u001b[0m: Adding directory to artifact (./models)... Done. 0.0s\n"
     ]
    },
    {
     "name": "stdout",
     "output_type": "stream",
     "text": [
      "119/119 [==============================] - 7s 62ms/step - loss: 0.2511 - accuracy: 0.8879 - val_loss: 0.9107 - val_accuracy: 0.5447\n",
      "Epoch 58/75\n",
      "117/119 [============================>.] - ETA: 0s - loss: 0.2497 - accuracy: 0.8787INFO:tensorflow:Assets written to: models/assets\n"
     ]
    },
    {
     "name": "stderr",
     "output_type": "stream",
     "text": [
      "INFO:tensorflow:Assets written to: models/assets\n",
      "\u001b[34m\u001b[1mwandb\u001b[0m: Adding directory to artifact (./models)... Done. 0.0s\n"
     ]
    },
    {
     "name": "stdout",
     "output_type": "stream",
     "text": [
      "119/119 [==============================] - 7s 55ms/step - loss: 0.2509 - accuracy: 0.8784 - val_loss: 0.7255 - val_accuracy: 0.5979\n",
      "Epoch 59/75\n",
      "119/119 [==============================] - ETA: 0s - loss: 0.2496 - accuracy: 0.8937INFO:tensorflow:Assets written to: models/assets\n"
     ]
    },
    {
     "name": "stderr",
     "output_type": "stream",
     "text": [
      "INFO:tensorflow:Assets written to: models/assets\n",
      "\u001b[34m\u001b[1mwandb\u001b[0m: Adding directory to artifact (./models)... Done. 0.0s\n"
     ]
    },
    {
     "name": "stdout",
     "output_type": "stream",
     "text": [
      "119/119 [==============================] - 7s 62ms/step - loss: 0.2496 - accuracy: 0.8937 - val_loss: 0.8287 - val_accuracy: 0.5277\n",
      "Epoch 60/75\n",
      "116/119 [============================>.] - ETA: 0s - loss: 0.2657 - accuracy: 0.8820INFO:tensorflow:Assets written to: models/assets\n"
     ]
    },
    {
     "name": "stderr",
     "output_type": "stream",
     "text": [
      "INFO:tensorflow:Assets written to: models/assets\n",
      "\u001b[34m\u001b[1mwandb\u001b[0m: Adding directory to artifact (./models)... Done. 0.0s\n"
     ]
    },
    {
     "name": "stdout",
     "output_type": "stream",
     "text": [
      "119/119 [==============================] - 8s 65ms/step - loss: 0.2641 - accuracy: 0.8821 - val_loss: 0.8418 - val_accuracy: 0.5553\n",
      "Epoch 61/75\n",
      "117/119 [============================>.] - ETA: 0s - loss: 0.2380 - accuracy: 0.8916INFO:tensorflow:Assets written to: models/assets\n"
     ]
    },
    {
     "name": "stderr",
     "output_type": "stream",
     "text": [
      "INFO:tensorflow:Assets written to: models/assets\n",
      "\u001b[34m\u001b[1mwandb\u001b[0m: Adding directory to artifact (./models)... Done. 0.0s\n"
     ]
    },
    {
     "name": "stdout",
     "output_type": "stream",
     "text": [
      "119/119 [==============================] - 7s 62ms/step - loss: 0.2389 - accuracy: 0.8911 - val_loss: 0.8113 - val_accuracy: 0.5277\n",
      "Epoch 62/75\n",
      "117/119 [============================>.] - ETA: 0s - loss: 0.2351 - accuracy: 0.8900INFO:tensorflow:Assets written to: models/assets\n"
     ]
    },
    {
     "name": "stderr",
     "output_type": "stream",
     "text": [
      "INFO:tensorflow:Assets written to: models/assets\n",
      "\u001b[34m\u001b[1mwandb\u001b[0m: Adding directory to artifact (./models)... Done. 0.0s\n"
     ]
    },
    {
     "name": "stdout",
     "output_type": "stream",
     "text": [
      "119/119 [==============================] - 8s 70ms/step - loss: 0.2383 - accuracy: 0.8879 - val_loss: 0.7546 - val_accuracy: 0.6021\n",
      "Epoch 63/75\n",
      "118/119 [============================>.] - ETA: 0s - loss: 0.2538 - accuracy: 0.8856INFO:tensorflow:Assets written to: models/assets\n"
     ]
    },
    {
     "name": "stderr",
     "output_type": "stream",
     "text": [
      "INFO:tensorflow:Assets written to: models/assets\n",
      "\u001b[34m\u001b[1mwandb\u001b[0m: Adding directory to artifact (./models)... Done. 0.0s\n"
     ]
    },
    {
     "name": "stdout",
     "output_type": "stream",
     "text": [
      "119/119 [==============================] - 7s 58ms/step - loss: 0.2535 - accuracy: 0.8858 - val_loss: 0.7416 - val_accuracy: 0.6043\n",
      "Epoch 64/75\n",
      "118/119 [============================>.] - ETA: 0s - loss: 0.2236 - accuracy: 0.8967INFO:tensorflow:Assets written to: models/assets\n"
     ]
    },
    {
     "name": "stderr",
     "output_type": "stream",
     "text": [
      "INFO:tensorflow:Assets written to: models/assets\n",
      "\u001b[34m\u001b[1mwandb\u001b[0m: Adding directory to artifact (./models)... Done. 0.0s\n"
     ]
    },
    {
     "name": "stdout",
     "output_type": "stream",
     "text": [
      "119/119 [==============================] - 7s 58ms/step - loss: 0.2235 - accuracy: 0.8969 - val_loss: 0.8807 - val_accuracy: 0.5553\n",
      "Epoch 65/75\n",
      "118/119 [============================>.] - ETA: 0s - loss: 0.2233 - accuracy: 0.9010INFO:tensorflow:Assets written to: models/assets\n"
     ]
    },
    {
     "name": "stderr",
     "output_type": "stream",
     "text": [
      "INFO:tensorflow:Assets written to: models/assets\n",
      "\u001b[34m\u001b[1mwandb\u001b[0m: Adding directory to artifact (./models)... Done. 0.0s\n"
     ]
    },
    {
     "name": "stdout",
     "output_type": "stream",
     "text": [
      "119/119 [==============================] - 9s 73ms/step - loss: 0.2232 - accuracy: 0.9011 - val_loss: 0.7499 - val_accuracy: 0.6191\n",
      "Epoch 66/75\n",
      "117/119 [============================>.] - ETA: 0s - loss: 0.2112 - accuracy: 0.9060INFO:tensorflow:Assets written to: models/assets\n"
     ]
    },
    {
     "name": "stderr",
     "output_type": "stream",
     "text": [
      "INFO:tensorflow:Assets written to: models/assets\n",
      "\u001b[34m\u001b[1mwandb\u001b[0m: Adding directory to artifact (./models)... Done. 0.0s\n"
     ]
    },
    {
     "name": "stdout",
     "output_type": "stream",
     "text": [
      "119/119 [==============================] - 8s 69ms/step - loss: 0.2120 - accuracy: 0.9059 - val_loss: 0.7256 - val_accuracy: 0.5809\n",
      "Epoch 67/75\n",
      "116/119 [============================>.] - ETA: 0s - loss: 0.2057 - accuracy: 0.9154INFO:tensorflow:Assets written to: models/assets\n"
     ]
    },
    {
     "name": "stderr",
     "output_type": "stream",
     "text": [
      "INFO:tensorflow:Assets written to: models/assets\n",
      "\u001b[34m\u001b[1mwandb\u001b[0m: Adding directory to artifact (./models)... Done. 0.0s\n"
     ]
    },
    {
     "name": "stdout",
     "output_type": "stream",
     "text": [
      "119/119 [==============================] - 7s 59ms/step - loss: 0.2062 - accuracy: 0.9154 - val_loss: 1.1157 - val_accuracy: 0.5128\n",
      "Epoch 68/75\n",
      "118/119 [============================>.] - ETA: 0s - loss: 0.2061 - accuracy: 0.9089INFO:tensorflow:Assets written to: models/assets\n"
     ]
    },
    {
     "name": "stderr",
     "output_type": "stream",
     "text": [
      "INFO:tensorflow:Assets written to: models/assets\n",
      "\u001b[34m\u001b[1mwandb\u001b[0m: Adding directory to artifact (./models)... Done. 0.0s\n"
     ]
    },
    {
     "name": "stdout",
     "output_type": "stream",
     "text": [
      "119/119 [==============================] - 7s 63ms/step - loss: 0.2059 - accuracy: 0.9090 - val_loss: 0.7180 - val_accuracy: 0.5872\n",
      "Epoch 69/75\n",
      "117/119 [============================>.] - ETA: 0s - loss: 0.2115 - accuracy: 0.9012INFO:tensorflow:Assets written to: models/assets\n"
     ]
    },
    {
     "name": "stderr",
     "output_type": "stream",
     "text": [
      "INFO:tensorflow:Assets written to: models/assets\n",
      "\u001b[34m\u001b[1mwandb\u001b[0m: Adding directory to artifact (./models)... Done. 0.0s\n"
     ]
    },
    {
     "name": "stdout",
     "output_type": "stream",
     "text": [
      "119/119 [==============================] - 7s 61ms/step - loss: 0.2108 - accuracy: 0.9016 - val_loss: 0.7767 - val_accuracy: 0.5979\n",
      "Epoch 70/75\n",
      "118/119 [============================>.] - ETA: 0s - loss: 0.2163 - accuracy: 0.9020INFO:tensorflow:Assets written to: models/assets\n"
     ]
    },
    {
     "name": "stderr",
     "output_type": "stream",
     "text": [
      "INFO:tensorflow:Assets written to: models/assets\n",
      "\u001b[34m\u001b[1mwandb\u001b[0m: Adding directory to artifact (./models)... Done. 0.0s\n"
     ]
    },
    {
     "name": "stdout",
     "output_type": "stream",
     "text": [
      "119/119 [==============================] - 7s 59ms/step - loss: 0.2160 - accuracy: 0.9022 - val_loss: 0.7681 - val_accuracy: 0.5574\n",
      "Epoch 71/75\n",
      "115/119 [===========================>..] - ETA: 0s - loss: 0.1913 - accuracy: 0.9174INFO:tensorflow:Assets written to: models/assets\n"
     ]
    },
    {
     "name": "stderr",
     "output_type": "stream",
     "text": [
      "INFO:tensorflow:Assets written to: models/assets\n",
      "\u001b[34m\u001b[1mwandb\u001b[0m: Adding directory to artifact (./models)... Done. 0.0s\n"
     ]
    },
    {
     "name": "stdout",
     "output_type": "stream",
     "text": [
      "119/119 [==============================] - 7s 56ms/step - loss: 0.1911 - accuracy: 0.9175 - val_loss: 0.8400 - val_accuracy: 0.5596\n",
      "Epoch 72/75\n",
      "117/119 [============================>.] - ETA: 0s - loss: 0.1952 - accuracy: 0.9161INFO:tensorflow:Assets written to: models/assets\n"
     ]
    },
    {
     "name": "stderr",
     "output_type": "stream",
     "text": [
      "INFO:tensorflow:Assets written to: models/assets\n",
      "\u001b[34m\u001b[1mwandb\u001b[0m: Adding directory to artifact (./models)... Done. 0.0s\n"
     ]
    },
    {
     "name": "stdout",
     "output_type": "stream",
     "text": [
      "119/119 [==============================] - 9s 73ms/step - loss: 0.1959 - accuracy: 0.9154 - val_loss: 0.7428 - val_accuracy: 0.5638\n",
      "Epoch 73/75\n",
      "119/119 [==============================] - ETA: 0s - loss: 0.1977 - accuracy: 0.9149INFO:tensorflow:Assets written to: models/assets\n"
     ]
    },
    {
     "name": "stderr",
     "output_type": "stream",
     "text": [
      "INFO:tensorflow:Assets written to: models/assets\n",
      "\u001b[34m\u001b[1mwandb\u001b[0m: Adding directory to artifact (./models)... Done. 0.0s\n"
     ]
    },
    {
     "name": "stdout",
     "output_type": "stream",
     "text": [
      "119/119 [==============================] - 7s 56ms/step - loss: 0.1977 - accuracy: 0.9149 - val_loss: 0.7549 - val_accuracy: 0.6064\n",
      "Epoch 74/75\n",
      "117/119 [============================>.] - ETA: 0s - loss: 0.1947 - accuracy: 0.9135INFO:tensorflow:Assets written to: models/assets\n"
     ]
    },
    {
     "name": "stderr",
     "output_type": "stream",
     "text": [
      "INFO:tensorflow:Assets written to: models/assets\n",
      "\u001b[34m\u001b[1mwandb\u001b[0m: Adding directory to artifact (./models)... Done. 0.0s\n"
     ]
    },
    {
     "name": "stdout",
     "output_type": "stream",
     "text": [
      "119/119 [==============================] - 8s 66ms/step - loss: 0.1935 - accuracy: 0.9143 - val_loss: 0.8908 - val_accuracy: 0.5553\n",
      "Epoch 75/75\n",
      "118/119 [============================>.] - ETA: 0s - loss: 0.1812 - accuracy: 0.9206INFO:tensorflow:Assets written to: models/assets\n"
     ]
    },
    {
     "name": "stderr",
     "output_type": "stream",
     "text": [
      "INFO:tensorflow:Assets written to: models/assets\n",
      "\u001b[34m\u001b[1mwandb\u001b[0m: Adding directory to artifact (./models)... Done. 0.0s\n"
     ]
    },
    {
     "name": "stdout",
     "output_type": "stream",
     "text": [
      "119/119 [==============================] - 7s 56ms/step - loss: 0.1811 - accuracy: 0.9207 - val_loss: 1.0681 - val_accuracy: 0.5617\n"
     ]
    }
   ],
   "source": [
    "history = model.fit(Xtr, \n",
    "                    ytr, \n",
    "                    epochs=configs['epochs'], \n",
    "                    validation_data=(Xt, yt), \n",
    "                    batch_size=configs['batch_size'], \n",
    "                    verbose=1, \n",
    "                    callbacks=callbacks,\n",
    "                    )\n",
    "\n",
    "run.summary[\"Buy And Hold (Base ROI)\"] = bah_ROI\n",
    "run.summary[\"Max ROI\"] = max_ROI"
   ]
  },
  {
   "cell_type": "code",
   "execution_count": 38,
   "metadata": {},
   "outputs": [
    {
     "name": "stdout",
     "output_type": "stream",
     "text": [
      "15/15 [==============================] - 1s 5ms/step\n",
      "60/60 [==============================] - 0s 4ms/step\n",
      "74/74 [==============================] - 0s 4ms/step\n"
     ]
    }
   ],
   "source": [
    "#predictions\n",
    "testPred = model.predict(Xt)\n",
    "trainPred = model.predict(Xtr)\n",
    "fullPred = model.predict(Xo)"
   ]
  },
  {
   "cell_type": "code",
   "execution_count": 39,
   "metadata": {},
   "outputs": [],
   "source": [
    "testPred = np.round(testPred)\n",
    "trainPred= np.round(trainPred)\n",
    "fullPred = np.round(fullPred)\n"
   ]
  },
  {
   "cell_type": "code",
   "execution_count": 40,
   "metadata": {},
   "outputs": [],
   "source": [
    "#this should have been done above\n",
    "#y_test_orig = y_test_orig[configs['sequence_length']:]"
   ]
  },
  {
   "cell_type": "code",
   "execution_count": 41,
   "metadata": {},
   "outputs": [
    {
     "name": "stdout",
     "output_type": "stream",
     "text": [
      "Buying 6 shares for 160.01. Remaining Balance: 39.940000000000055\n",
      "Selling all shares for 161.38, cash balance: $1008.22\n",
      "Buying 6 shares for 153.84. Remaining Balance: 85.18000000000006\n",
      "Selling all shares for 155.31, cash balance: $1017.0400000000001"
     ]
    },
    {
     "name": "stdout",
     "output_type": "stream",
     "text": [
      "\n",
      "Buying 6 shares for 154.48. Remaining Balance: 90.1600000000002\n",
      "Selling all shares for 150.77, cash balance: $994.7800000000003\n",
      "Buying 6 shares for 149.35. Remaining Balance: 98.6800000000004\n",
      "Selling all shares for 146.87, cash balance: $979.9000000000004\n",
      "Buying 6 shares for 149.70. Remaining Balance: 81.7000000000005\n",
      "Selling all shares for 148.28, cash balance: $971.3800000000006\n",
      "Buying 6 shares for 150.18. Remaining Balance: 70.30000000000052\n",
      "Selling all shares for 142.91, cash balance: $927.7600000000006\n",
      "Buying 7 shares for 132.30. Remaining Balance: 1.660000000000423\n",
      "Selling all shares for 148.91, cash balance: $1044.0300000000002\n",
      "Buying 7 shares for 147.41. Remaining Balance: 12.16000000000031\n",
      "Selling all shares for 153.83, cash balance: $1088.9700000000005\n",
      "Buying 7 shares for 152.99. Remaining Balance: 18.04000000000042\n",
      "Selling all shares for 164.66, cash balance: $1170.6600000000003\n",
      "Buying 6 shares for 173.50. Remaining Balance: 129.6600000000003\n",
      "Selling all shares for 177.30, cash balance: $1193.4600000000005\n",
      "Buying 6 shares for 183.31. Remaining Balance: 93.60000000000036\n",
      "Selling all shares for 188.06, cash balance: $1221.9600000000005\n",
      "Buying 6 shares for 179.80. Remaining Balance: 143.1600000000003\n",
      "Selling all shares for 177.79, cash balance: $1209.9000000000003\n",
      "Buying 6 shares for 175.74. Remaining Balance: 155.46000000000026\n",
      "Selling all shares for 174.79, cash balance: $1204.2000000000003\n",
      "Buying 6 shares for 179.23. Remaining Balance: 128.8200000000004\n",
      "Selling all shares for 190.40, cash balance: $1271.2200000000005\n",
      "Buying 6 shares for 189.30. Remaining Balance: 135.4200000000003\n",
      "Selling all shares for 185.04, cash balance: $1245.6600000000003\n",
      "Buying 7 shares for 176.08. Remaining Balance: 13.100000000000136\n",
      "Selling all shares for 170.85, cash balance: $1209.0500000000002\n",
      "Buying 6 shares for 181.71. Remaining Balance: 118.79000000000019\n",
      "Selling all shares for 183.05, cash balance: $1217.0900000000004\n",
      "Buying 6 shares for 189.72. Remaining Balance: 78.77000000000044\n",
      "Selling all shares for 194.35, cash balance: $1244.8700000000003\n",
      "Selling all remaining held shares, cash balance: $1244.8700000000003 ***********************\n"
     ]
    }
   ],
   "source": [
    "lstm_preds = pd.DataFrame(data=testPred, columns=[\"Target\"], index=y_test_orig.index.copy())\n",
    "lstm_preds['close'] = other_test['close']\n",
    "run.summary[\"ROI\"] = stockutils.calculate_total_gains_bs(lstm_preds, init_value=1000, init_price=lstm_preds['close'][0])\n"
   ]
  },
  {
   "cell_type": "code",
   "execution_count": 42,
   "metadata": {},
   "outputs": [],
   "source": [
    "# Again, this shoudl have been done above\n",
    "\n",
    "#y_test_orig_array = pd.Categorical(y_test_orig).codes\n",
    "#len(y_test_orig_array)"
   ]
  },
  {
   "cell_type": "code",
   "execution_count": 43,
   "metadata": {},
   "outputs": [],
   "source": [
    "run.summary['accuracy'] = accuracy_score(y_test_orig_array, testPred)\n",
    "wandb.sklearn.plot_confusion_matrix(y_test_orig_array, testPred, [\"BUY\", \"SELL\"])"
   ]
  },
  {
   "cell_type": "code",
   "execution_count": 44,
   "metadata": {},
   "outputs": [
    {
     "data": {
      "application/vnd.jupyter.widget-view+json": {
       "model_id": "f2f407fd5ac74ce8a983484e88c710eb",
       "version_major": 2,
       "version_minor": 0
      },
      "text/plain": [
       "VBox(children=(Label(value='149.274 MB of 149.274 MB uploaded (0.995 MB deduped)\\r'), FloatProgress(value=1.0,…"
      ]
     },
     "metadata": {},
     "output_type": "display_data"
    },
    {
     "data": {
      "text/html": [
       "<style>\n",
       "    table.wandb td:nth-child(1) { padding: 0 10px; text-align: left ; width: auto;} td:nth-child(2) {text-align: left ; width: 100%}\n",
       "    .wandb-row { display: flex; flex-direction: row; flex-wrap: wrap; justify-content: flex-start; width: 100% }\n",
       "    .wandb-col { display: flex; flex-direction: column; flex-basis: 100%; flex: 1; padding: 10px; }\n",
       "    </style>\n",
       "<div class=\"wandb-row\"><div class=\"wandb-col\"><h3>Run history:</h3><br/><table class=\"wandb\"><tr><td>epoch/accuracy</td><td>▁▁▃▃▃▄▄▄▄▄▄▅▅▅▅▅▅▅▅▅▆▆▆▆▆▆▆▇▆▇▇▇▇▇▇█▇███</td></tr><tr><td>epoch/epoch</td><td>▁▁▁▁▂▂▂▂▂▃▃▃▃▃▃▄▄▄▄▄▅▅▅▅▅▅▆▆▆▆▆▆▇▇▇▇▇███</td></tr><tr><td>epoch/learning_rate</td><td>▁▁▁▁▁▁▁▁▁▁▁▁▁▁▁▁▁▁▁▁▁▁▁▁▁▁▁▁▁▁▁▁▁▁▁▁▁▁▁▁</td></tr><tr><td>epoch/loss</td><td>█▇▇▆▆▆▆▅▅▅▅▅▅▅▅▄▄▄▄▄▄▄▃▃▃▃▃▃▃▂▂▂▂▂▂▁▁▁▁▁</td></tr><tr><td>epoch/val_accuracy</td><td>▅▃█▅▇▁▆▃█▇▃▆▂▆▄▆▇▅▆▆▃▄▆▄▄▄▃▅▅▄▂▂▂▅▆▁▅▃▅▃</td></tr><tr><td>epoch/val_loss</td><td>▂▂▁▁▁▂▁▂▁▁▂▁▂▁▂▁▁▁▁▁▂▂▁▁▂▂▂▃▂▃▅▄▄▃▃█▃▄▃▇</td></tr></table><br/></div><div class=\"wandb-col\"><h3>Run summary:</h3><br/><table class=\"wandb\"><tr><td>Buy And Hold (Base ROI)</td><td>62.64</td></tr><tr><td>Max ROI</td><td>3415.19</td></tr><tr><td>ROI</td><td>244.87</td></tr><tr><td>accuracy</td><td>0.5617</td></tr><tr><td>epoch/accuracy</td><td>0.92068</td></tr><tr><td>epoch/epoch</td><td>74</td></tr><tr><td>epoch/learning_rate</td><td>0.0005</td></tr><tr><td>epoch/loss</td><td>0.1811</td></tr><tr><td>epoch/val_accuracy</td><td>0.5617</td></tr><tr><td>epoch/val_loss</td><td>1.06811</td></tr></table><br/></div></div>"
      ],
      "text/plain": [
       "<IPython.core.display.HTML object>"
      ]
     },
     "metadata": {},
     "output_type": "display_data"
    },
    {
     "data": {
      "text/html": [
       " View run <strong style=\"color:#cdcd00\">StackedLSTMClassifier_TwoStateMajorReversals_1721768583</strong> at: <a href='https://wandb.ai/christopherandrews/StockPredictor/runs/6ql6trft' target=\"_blank\">https://wandb.ai/christopherandrews/StockPredictor/runs/6ql6trft</a><br/> View project at: <a href='https://wandb.ai/christopherandrews/StockPredictor' target=\"_blank\">https://wandb.ai/christopherandrews/StockPredictor</a><br/>Synced 5 W&B file(s), 1 media file(s), 376 artifact file(s) and 0 other file(s)"
      ],
      "text/plain": [
       "<IPython.core.display.HTML object>"
      ]
     },
     "metadata": {},
     "output_type": "display_data"
    },
    {
     "data": {
      "text/html": [
       "Find logs at: <code>./wandb/run-20240723_150303-6ql6trft/logs</code>"
      ],
      "text/plain": [
       "<IPython.core.display.HTML object>"
      ]
     },
     "metadata": {},
     "output_type": "display_data"
    },
    {
     "data": {
      "text/html": [
       "The new W&B backend becomes opt-out in version 0.18.0; try it out with `wandb.require(\"core\")`! See https://wandb.me/wandb-core for more information."
      ],
      "text/plain": [
       "<IPython.core.display.HTML object>"
      ]
     },
     "metadata": {},
     "output_type": "display_data"
    }
   ],
   "source": [
    "run.finish()"
   ]
  },
  {
   "cell_type": "code",
   "execution_count": 45,
   "metadata": {},
   "outputs": [],
   "source": [
    "lstm_predictions = targetdf.copy()\n",
    "lstm_predictions['close'] = otherdf['close']\n",
    "\n",
    "lstm_predictions = lstm_predictions[configs['sequence_length']:]"
   ]
  },
  {
   "cell_type": "code",
   "execution_count": 46,
   "metadata": {},
   "outputs": [
    {
     "data": {
      "text/html": [
       "<div>\n",
       "<style scoped>\n",
       "    .dataframe tbody tr th:only-of-type {\n",
       "        vertical-align: middle;\n",
       "    }\n",
       "\n",
       "    .dataframe tbody tr th {\n",
       "        vertical-align: top;\n",
       "    }\n",
       "\n",
       "    .dataframe thead th {\n",
       "        text-align: right;\n",
       "    }\n",
       "</style>\n",
       "<table border=\"1\" class=\"dataframe\">\n",
       "  <thead>\n",
       "    <tr style=\"text-align: right;\">\n",
       "      <th></th>\n",
       "      <th>Target</th>\n",
       "      <th>close</th>\n",
       "    </tr>\n",
       "    <tr>\n",
       "      <th>date</th>\n",
       "      <th></th>\n",
       "      <th></th>\n",
       "    </tr>\n",
       "  </thead>\n",
       "  <tbody>\n",
       "    <tr>\n",
       "      <th>1/21/2015</th>\n",
       "      <td>0.0</td>\n",
       "      <td>27.3875</td>\n",
       "    </tr>\n",
       "    <tr>\n",
       "      <th>1/22/2015</th>\n",
       "      <td>0.0</td>\n",
       "      <td>28.1000</td>\n",
       "    </tr>\n",
       "    <tr>\n",
       "      <th>1/23/2015</th>\n",
       "      <td>0.0</td>\n",
       "      <td>28.2450</td>\n",
       "    </tr>\n",
       "    <tr>\n",
       "      <th>1/26/2015</th>\n",
       "      <td>0.0</td>\n",
       "      <td>28.2750</td>\n",
       "    </tr>\n",
       "    <tr>\n",
       "      <th>1/27/2015</th>\n",
       "      <td>0.0</td>\n",
       "      <td>27.2850</td>\n",
       "    </tr>\n",
       "  </tbody>\n",
       "</table>\n",
       "</div>"
      ],
      "text/plain": [
       "           Target    close\n",
       "date                      \n",
       "1/21/2015     0.0  27.3875\n",
       "1/22/2015     0.0  28.1000\n",
       "1/23/2015     0.0  28.2450\n",
       "1/26/2015     0.0  28.2750\n",
       "1/27/2015     0.0  27.2850"
      ]
     },
     "execution_count": 46,
     "metadata": {},
     "output_type": "execute_result"
    }
   ],
   "source": [
    "lstm_predictions['Target'] = fullPred\n",
    "\n",
    "lstm_predictions.head()"
   ]
  },
  {
   "cell_type": "code",
   "execution_count": 47,
   "metadata": {},
   "outputs": [
    {
     "name": "stdout",
     "output_type": "stream",
     "text": [
      "Buying 36 shares for 27.39. Remaining Balance: 14.050000000000068\n",
      "Selling all shares for 33.16, cash balance: $1207.9\n",
      "Buying 37 shares for 32.64. Remaining Balance: 0.22000000000002728\n",
      "Selling all shares for 33.02, cash balance: $1221.8675\n",
      "Buying 44 shares for 27.59. Remaining Balance: 7.687500000000227\n",
      "Selling all shares for 30.64, cash balance: $1355.9575000000002\n",
      "Buying 44 shares for 30.14. Remaining Balance: 29.687500000000227\n",
      "Selling all shares for 29.19, cash balance: $1314.1575000000003\n",
      "Buying 45 shares for 28.93. Remaining Balance: 12.307500000000346\n",
      "Selling all shares for 28.09, cash balance: $1276.1325000000004\n",
      "Buying 54 shares for 23.43. Remaining Balance: 11.182500000000346\n",
      "Selling all shares for 28.02, cash balance: $1524.5325000000003\n",
      "Buying 65 shares for 23.13. Remaining Balance: 21.24500000000012\n",
      "Selling all shares for 25.10, cash balance: $1652.9075\n",
      "Buying 71 shares for 23.01. Remaining Balance: 19.19749999999999\n",
      "Selling all shares for 29.56, cash balance: $2118.135\n",
      "Buying 80 shares for 26.43. Remaining Balance: 3.9350000000004\n",
      "Selling all shares for 38.84, cash balance: $3111.3350000000005\n",
      "Buying 87 shares for 35.68. Remaining Balance: 6.957500000000891\n",
      "Selling all shares for 40.48, cash balance: $3528.500000000001\n",
      "Buying 87 shares for 40.38. Remaining Balance: 15.87500000000091\n",
      "Selling all shares for 39.91, cash balance: $3488.262500000001\n",
      "Buying 90 shares for 38.53. Remaining Balance: 20.56250000000091\n",
      "Selling all shares for 44.81, cash balance: $4053.912500000001\n",
      "Buying 104 shares for 38.79. Remaining Balance: 20.012500000000728\n",
      "Selling all shares for 45.43, cash balance: $4744.732500000001\n",
      "Buying 106 shares for 44.66. Remaining Balance: 10.507500000000618\n",
      "Selling all shares for 44.51, cash balance: $4728.037500000001\n",
      "Buying 108 shares for 43.68. Remaining Balance: 10.327500000001237\n",
      "Selling all shares for 43.95, cash balance: $4757.467500000001\n",
      "Buying 115 shares for 41.31. Remaining Balance: 6.2425000000012005\n",
      "Selling all shares for 55.94, cash balance: $6439.630000000002\n",
      "Buying 119 shares for 54.01. Remaining Balance: 13.035000000001673\n",
      "Selling all shares for 54.83, cash balance: $6537.5075000000015\n",
      "Buying 147 shares for 44.17. Remaining Balance: 44.150000000001455\n",
      "Selling all shares for 43.68, cash balance: $6465.1100000000015\n",
      "Buying 181 shares for 35.55. Remaining Balance: 31.012500000001637\n",
      "Selling all shares for 52.12, cash balance: $9464.732500000002\n",
      "Buying 186 shares for 50.72. Remaining Balance: 31.74250000000211\n",
      "Selling all shares for 50.73, cash balance: $9466.592500000002\n",
      "Buying 203 shares for 46.43. Remaining Balance: 41.30250000000342\n",
      "Selling all shares for 47.16, cash balance: $9615.797500000002\n",
      "Buying 210 shares for 45.63. Remaining Balance: 32.44750000000204\n",
      "Selling all shares for 50.44, cash balance: $10623.797500000002\n",
      "Buying 205 shares for 51.62. Remaining Balance: 40.6725000000024\n",
      "Selling all shares for 79.90, cash balance: $16420.685000000005\n",
      "Buying 292 shares for 56.09. Remaining Balance: 41.67500000000473\n",
      "Selling all shares for 124.81, cash balance: $36485.465000000004\n",
      "Buying 316 shares for 115.36. Remaining Balance: 33.28500000000349\n",
      "Selling all shares for 112.13, cash balance: $35466.365000000005\n",
      "Buying 308 shares for 114.96. Remaining Balance: 58.68500000000495\n",
      "Selling all shares for 119.02, cash balance: $36716.845\n",
      "Buying 312 shares for 117.51. Remaining Balance: 53.724999999998545\n",
      "Selling all shares for 116.60, cash balance: $36432.924999999996\n",
      "Buying 329 shares for 110.44. Remaining Balance: 98.1649999999936\n",
      "Selling all shares for 137.09, cash balance: $45200.774999999994\n",
      "Buying 330 shares for 136.91. Remaining Balance: 20.474999999998545\n",
      "Selling all shares for 130.84, cash balance: $43197.675\n",
      "Buying 355 shares for 121.39. Remaining Balance: 104.22500000000582\n",
      "Selling all shares for 131.46, cash balance: $46772.52500000001\n",
      "Buying 371 shares for 125.90. Remaining Balance: 63.625000000007276\n",
      "Selling all shares for 127.35, cash balance: $47310.475000000006\n",
      "Buying 353 shares for 133.98. Remaining Balance: 15.535000000010768\n",
      "Selling all shares for 146.15, cash balance: $51606.485000000015\n",
      "Buying 354 shares for 145.40. Remaining Balance: 134.8850000000166\n",
      "Selling all shares for 147.06, cash balance: $52194.125000000015\n",
      "Buying 357 shares for 146.09. Remaining Balance: 39.995000000009895\n",
      "Selling all shares for 146.70, cash balance: $52411.895000000004\n",
      "Buying 355 shares for 147.54. Remaining Balance: 35.195000000006985\n",
      "Selling all shares for 148.60, cash balance: $52788.19500000001\n",
      "Buying 344 shares for 153.12. Remaining Balance: 114.91500000000815\n",
      "Selling all shares for 152.51, cash balance: $52578.355\n",
      "Buying 352 shares for 149.26. Remaining Balance: 38.8350000000064\n",
      "Selling all shares for 149.99, cash balance: $52835.31500000001\n",
      "Buying 352 shares for 150.00. Remaining Balance: 35.315000000009604\n",
      "Selling all shares for 151.00, cash balance: $53187.31500000001\n",
      "Buying 346 shares for 153.49. Remaining Balance: 79.77500000000873\n",
      "Selling all shares for 160.24, cash balance: $55522.81500000001\n",
      "Buying 335 shares for 165.30. Remaining Balance: 147.31500000000233\n",
      "Selling all shares for 164.77, cash balance: $55345.26500000001\n",
      "Buying 334 shares for 165.32. Remaining Balance: 128.3850000000093\n",
      "Selling all shares for 171.18, cash balance: $57302.50500000001\n",
      "Buying 327 shares for 175.08. Remaining Balance: 51.34500000000844\n",
      "Selling all shares for 176.28, cash balance: $57694.905000000006\n",
      "Buying 330 shares for 174.61. Remaining Balance: 73.6050000000032\n",
      "Selling all shares for 172.39, cash balance: $56962.305\n",
      "Buying 378 shares for 150.62. Remaining Balance: 27.94499999999971\n",
      "Selling all shares for 155.09, cash balance: $58651.965000000004\n",
      "Buying 367 shares for 159.59. Remaining Balance: 82.43500000000495\n",
      "Selling all shares for 174.72, cash balance: $64204.675\n",
      "Buying 493 shares for 130.06. Remaining Balance: 85.09500000000116\n",
      "Selling all shares for 131.56, cash balance: $64944.175\n",
      "Buying 477 shares for 135.87. Remaining Balance: 134.18499999999767\n",
      "Selling all shares for 138.93, cash balance: $66403.795\n",
      "Buying 453 shares for 146.35. Remaining Balance: 107.24499999999534\n",
      "Selling all shares for 151.00, cash balance: $68510.245\n",
      "Buying 447 shares for 153.04. Remaining Balance: 101.36500000000524\n",
      "Selling all shares for 161.38, cash balance: $72238.225\n",
      "Buying 469 shares for 153.84. Remaining Balance: 87.26499999999942\n",
      "Selling all shares for 155.31, cash balance: $72927.655\n",
      "Buying 472 shares for 154.48. Remaining Balance: 13.095000000001164\n",
      "Selling all shares for 150.77, cash balance: $71176.535\n",
      "Buying 476 shares for 149.35. Remaining Balance: 85.93500000001222\n",
      "Selling all shares for 146.87, cash balance: $69996.05500000001\n",
      "Buying 467 shares for 149.70. Remaining Balance: 86.15500000001339\n",
      "Selling all shares for 148.28, cash balance: $69332.91500000001\n",
      "Buying 461 shares for 150.18. Remaining Balance: 99.93500000001222\n",
      "Selling all shares for 142.91, cash balance: $65981.445\n",
      "Buying 498 shares for 132.30. Remaining Balance: 96.04499999999825\n",
      "Selling all shares for 148.91, cash balance: $74253.22499999999\n",
      "Buying 503 shares for 147.41. Remaining Balance: 105.99499999999534\n",
      "Selling all shares for 153.83, cash balance: $77482.485\n",
      "Buying 506 shares for 152.99. Remaining Balance: 69.54499999999825\n",
      "Selling all shares for 164.66, cash balance: $83387.50499999999\n",
      "Buying 480 shares for 173.50. Remaining Balance: 107.5049999999901\n",
      "Selling all shares for 177.30, cash balance: $85211.50499999999\n",
      "Buying 464 shares for 183.31. Remaining Balance: 155.6649999999936\n",
      "Selling all shares for 188.06, cash balance: $87415.50499999999\n",
      "Buying 486 shares for 179.80. Remaining Balance: 32.704999999987194\n",
      "Selling all shares for 177.79, cash balance: $86438.64499999999\n",
      "Buying 491 shares for 175.74. Remaining Balance: 150.30499999997846\n",
      "Selling all shares for 174.79, cash balance: $85972.19499999998\n",
      "Buying 479 shares for 179.23. Remaining Balance: 121.02499999997963\n",
      "Selling all shares for 190.40, cash balance: $91322.62499999999\n",
      "Buying 482 shares for 189.30. Remaining Balance: 80.02499999997963\n",
      "Selling all shares for 185.04, cash balance: $89269.30499999998\n",
      "Buying 506 shares for 176.08. Remaining Balance: 172.82499999996799\n",
      "Buying 1 shares for 171.37. Remaining Balance: 1.4549999999679812\n",
      "Selling all shares for 170.85, cash balance: $86622.40499999997\n",
      "Buying 476 shares for 181.71. Remaining Balance: 128.44499999996333\n",
      "Selling all shares for 183.05, cash balance: $87260.24499999997\n",
      "Buying 459 shares for 189.72. Remaining Balance: 178.7649999999703\n",
      "Selling all shares for 194.35, cash balance: $89385.41499999996\n",
      "Selling all remaining held shares, cash balance: $89385.41499999996 ***********************\n"
     ]
    },
    {
     "data": {
      "text/plain": [
       "88385.41499999996"
      ]
     },
     "execution_count": 47,
     "metadata": {},
     "output_type": "execute_result"
    }
   ],
   "source": [
    "stockutils.calculate_total_gains_bs(lstm_predictions, init_value=1000, init_price=lstm_predictions['close'][0])"
   ]
  },
  {
   "cell_type": "code",
   "execution_count": 48,
   "metadata": {},
   "outputs": [
    {
     "data": {
      "text/plain": [
       "<Axes: xlabel='date', ylabel='close'>"
      ]
     },
     "execution_count": 48,
     "metadata": {},
     "output_type": "execute_result"
    },
    {
     "data": {
      "image/png": "[encoded data removed]",
      "text/plain": [
       "<Figure size 1600x1000 with 1 Axes>"
      ]
     },
     "metadata": {},
     "output_type": "display_data"
    }
   ],
   "source": [
    "a4_dims = (16,10)\n",
    "fig, ax = plt.subplots(figsize=a4_dims)\n",
    "#plot the actual close line\n",
    "ax=sns.lineplot(data=otherdf, x=otherdf.index, y='close', c='black', alpha=0.4)\n",
    "# plot the predicted values\n",
    "sns.scatterplot(data=lstm_predictions, x=lstm_predictions.index, y='close', hue='Target',s=20)"
   ]
  },
  {
   "cell_type": "code",
   "execution_count": null,
   "metadata": {},
   "outputs": [],
   "source": []
  }
 ],
 "metadata": {
  "kernelspec": {
   "display_name": "Python 3",
   "language": "python",
   "name": "python3"
  },
  "language_info": {
   "codemirror_mode": {
    "name": "ipython",
    "version": 3
   },
   "file_extension": ".py",
   "mimetype": "text/x-python",
   "name": "python",
   "nbconvert_exporter": "python",
   "pygments_lexer": "ipython3",
   "version": "3.10.14"
  }
 },
 "nbformat": 4,
 "nbformat_minor": 2
}
