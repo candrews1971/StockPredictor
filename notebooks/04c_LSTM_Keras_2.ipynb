{
 "cells": [
  {
   "cell_type": "code",
   "execution_count": 111,
   "metadata": {},
   "outputs": [],
   "source": [
    "import pandas as pd\n",
    "import os\n",
    "import numpy as np\n",
    "import matplotlib.pyplot as plt\n",
    "import seaborn as sns\n",
    "import time\n",
    "\n",
    "import stockutils\n",
    "\n",
    "\n",
    "from sklearn.metrics import confusion_matrix\n",
    "from sklearn.model_selection import train_test_split\n",
    "from sklearn.metrics import accuracy_score, precision_score, recall_score, roc_auc_score\n",
    "from sklearn.tree import export_graphviz\n",
    "from graphviz import Source\n",
    "\n",
    "from keras.models import Sequential\n",
    "from keras.layers import LSTM, Dense, Flatten\n",
    "from keras.optimizers import Nadam, Adam\n",
    "\n",
    "from torch.utils.tensorboard import SummaryWriter\n",
    "\n",
    "#track experiments\n",
    "import wandb\n",
    "from wandb.integration.xgboost import WandbCallback\n",
    "\n",
    "# Where to save the figures\n",
    "PROJECT_ROOT_DIR = \"..\"\n",
    "CHAPTER_ID = \"exploratory_models\"\n",
    "IMAGES_PATH = os.path.join(PROJECT_ROOT_DIR, \"images\", CHAPTER_ID)\n",
    "os.makedirs(IMAGES_PATH, exist_ok=True)\n",
    "\n",
    "#targetName = \"TwoStDayAfterMajRev\"\n",
    "targetName = \"TwoStateMajorReversals\""
   ]
  },
  {
   "cell_type": "code",
   "execution_count": 112,
   "metadata": {},
   "outputs": [
    {
     "name": "stdout",
     "output_type": "stream",
     "text": [
      "(2371,)\n"
     ]
    }
   ],
   "source": [
    "stockdf, targetdf, otherdf = stockutils.import_stock_csv(\"AAPL_Advanced.csv\", target=targetName)\n",
    "y_orig = targetdf[\"Target\"]\n",
    "print(y_orig.shape)"
   ]
  },
  {
   "cell_type": "code",
   "execution_count": 57,
   "metadata": {},
   "outputs": [],
   "source": [
    "#y_cat = pd.Categorical(targetdf['Target']).codes"
   ]
  },
  {
   "cell_type": "code",
   "execution_count": 58,
   "metadata": {},
   "outputs": [
    {
     "data": {
      "text/plain": [
       "(2371, 23)"
      ]
     },
     "execution_count": 58,
     "metadata": {},
     "output_type": "execute_result"
    }
   ],
   "source": [
    "stockdf.shape"
   ]
  },
  {
   "cell_type": "code",
   "execution_count": null,
   "metadata": {},
   "outputs": [],
   "source": []
  },
  {
   "cell_type": "code",
   "execution_count": 113,
   "metadata": {},
   "outputs": [],
   "source": [
    "import numpy as np\n",
    "import pandas as pd\n",
    "from sklearn.preprocessing import LabelEncoder\n",
    "from keras.utils import to_categorical\n",
    "\n",
    "# Example data\n",
    "#data = pd.read_csv('../data/raw/AAPL_Advanced.csv')  # Load your data\n",
    "#prices = data['close'].values  # Assuming your data has a 'price' column\n",
    "\n",
    "sequence_length = 10  # Length of input sequences\n",
    "prediction_horizon = 10  # Predict 10 days ahead\n",
    "\n",
    "#NOTE I cannot get this to work unless the sequence length == prediction_horizon\n",
    "\n",
    "def create_sequences(X_data, y_data, seq_length, pred_horizon):\n",
    "    xs, ys = [], []\n",
    "    # we will chop off seq_length + pred_horizon samples from the end of our y data\n",
    "    for i in range(len(X_data) - seq_length - pred_horizon):\n",
    "        #This slice represents one input sequence for the LSTM model. copying seq_length future steps to each x, (so we get a list at each x index)\n",
    "        x = X_data[i:(i + seq_length)]\n",
    "        # for y, we copy the  'pred_horizon' targets to each y, offset from x by seq_length (these are the actual BUY or SELL signals), and extends to the prediction horizon\n",
    "        y = y_data[(i + seq_length):(i + seq_length + pred_horizon)] \n",
    "        xs.append(x)\n",
    "        ys.append(y)\n",
    "    return np.array(xs), np.array(ys)\n",
    "\n",
    "\n",
    "# Create sequences and labels\n",
    "#X, y = create_sequences(stockdf.values, y_cat, sequence_length, prediction_horizon)\n",
    "X, y = create_sequences(stockdf.values, targetdf.values, sequence_length, prediction_horizon)\n",
    "\n",
    "\n",
    "\n",
    "\n",
    "\n"
   ]
  },
  {
   "cell_type": "code",
   "execution_count": 114,
   "metadata": {},
   "outputs": [
    {
     "data": {
      "text/plain": [
       "((2351, 10, 23), (2351, 10, 1))"
      ]
     },
     "execution_count": 114,
     "metadata": {},
     "output_type": "execute_result"
    }
   ],
   "source": [
    "X.shape, y.shape"
   ]
  },
  {
   "cell_type": "code",
   "execution_count": 95,
   "metadata": {},
   "outputs": [],
   "source": [
    "# Reshape X to fit LSTM input shape [samples, time steps, features]  - Its really already there\n",
    "X = X.reshape((X.shape[0], X.shape[1], X.shape[2]))"
   ]
  },
  {
   "cell_type": "code",
   "execution_count": 96,
   "metadata": {},
   "outputs": [
    {
     "data": {
      "text/plain": [
       "(2351, 10, 23)"
      ]
     },
     "execution_count": 96,
     "metadata": {},
     "output_type": "execute_result"
    }
   ],
   "source": [
    "X.shape"
   ]
  },
  {
   "cell_type": "code",
   "execution_count": 97,
   "metadata": {},
   "outputs": [
    {
     "data": {
      "text/plain": [
       "(2351, 10, 1)"
      ]
     },
     "execution_count": 97,
     "metadata": {},
     "output_type": "execute_result"
    }
   ],
   "source": [
    "y.shape"
   ]
  },
  {
   "cell_type": "markdown",
   "metadata": {},
   "source": [
    "We need y in numeric terms, one-hot encode them"
   ]
  },
  {
   "cell_type": "code",
   "execution_count": 98,
   "metadata": {},
   "outputs": [],
   "source": [
    "# Reshape y to match the expected output shape [samples, time steps, classes]\n",
    "y_flat = y.flatten()\n",
    "label_encoder = LabelEncoder()\n",
    "y_encoded = label_encoder.fit_transform(y_flat)\n",
    "y_categorical = to_categorical(y_encoded)\n",
    "\n",
    "# Reshape y back to match the model output shape\n",
    "y_cat = y_categorical.reshape(y.shape[0], y.shape[1], -1)"
   ]
  },
  {
   "cell_type": "code",
   "execution_count": 99,
   "metadata": {},
   "outputs": [
    {
     "data": {
      "text/plain": [
       "array([[[1., 0.],\n",
       "        [1., 0.],\n",
       "        [1., 0.],\n",
       "        ...,\n",
       "        [1., 0.],\n",
       "        [1., 0.],\n",
       "        [1., 0.]],\n",
       "\n",
       "       [[1., 0.],\n",
       "        [1., 0.],\n",
       "        [1., 0.],\n",
       "        ...,\n",
       "        [1., 0.],\n",
       "        [1., 0.],\n",
       "        [1., 0.]],\n",
       "\n",
       "       [[1., 0.],\n",
       "        [1., 0.],\n",
       "        [1., 0.],\n",
       "        ...,\n",
       "        [1., 0.],\n",
       "        [1., 0.],\n",
       "        [1., 0.]],\n",
       "\n",
       "       ...,\n",
       "\n",
       "       [[1., 0.],\n",
       "        [1., 0.],\n",
       "        [1., 0.],\n",
       "        ...,\n",
       "        [1., 0.],\n",
       "        [1., 0.],\n",
       "        [1., 0.]],\n",
       "\n",
       "       [[1., 0.],\n",
       "        [1., 0.],\n",
       "        [1., 0.],\n",
       "        ...,\n",
       "        [1., 0.],\n",
       "        [1., 0.],\n",
       "        [1., 0.]],\n",
       "\n",
       "       [[1., 0.],\n",
       "        [1., 0.],\n",
       "        [1., 0.],\n",
       "        ...,\n",
       "        [1., 0.],\n",
       "        [1., 0.],\n",
       "        [1., 0.]]], dtype=float32)"
      ]
     },
     "execution_count": 99,
     "metadata": {},
     "output_type": "execute_result"
    }
   ],
   "source": [
    "y_cat"
   ]
  },
  {
   "cell_type": "code",
   "execution_count": 100,
   "metadata": {},
   "outputs": [
    {
     "data": {
      "text/plain": [
       "(2351, 10, 2)"
      ]
     },
     "execution_count": 100,
     "metadata": {},
     "output_type": "execute_result"
    }
   ],
   "source": [
    "y_cat.shape"
   ]
  },
  {
   "cell_type": "code",
   "execution_count": 101,
   "metadata": {},
   "outputs": [
    {
     "data": {
      "text/plain": [
       "10"
      ]
     },
     "execution_count": 101,
     "metadata": {},
     "output_type": "execute_result"
    }
   ],
   "source": [
    "# now each y is a sequence of length 10\n",
    "len(y_cat[232])\n"
   ]
  },
  {
   "cell_type": "code",
   "execution_count": 115,
   "metadata": {},
   "outputs": [
    {
     "name": "stdout",
     "output_type": "stream",
     "text": [
      "WARNING:tensorflow:Layer lstm_10 will not use cuDNN kernels since it doesn't meet the criteria. It will use a generic GPU kernel as fallback when running on GPU.\n"
     ]
    },
    {
     "name": "stdout",
     "output_type": "stream",
     "text": [
      "WARNING:tensorflow:Layer lstm_11 will not use cuDNN kernels since it doesn't meet the criteria. It will use a generic GPU kernel as fallback when running on GPU.\n"
     ]
    }
   ],
   "source": [
    "from keras.models import Sequential\n",
    "from keras.layers import LSTM, Dense, TimeDistributed\n",
    "\n",
    "num_features = 23  \n",
    "num_classes = 2  # Binary classification: BUY or SELL\n",
    "\n",
    "model = Sequential()\n",
    "model.add(LSTM(50, activation='relu', input_shape=(sequence_length, num_features), return_sequences=True))\n",
    "model.add(LSTM(50, activation='relu', return_sequences=True))\n",
    "model.add(TimeDistributed(Dense(num_classes, activation='softmax')))\n",
    "\n",
    "model.compile(optimizer='adam', loss='categorical_crossentropy', metrics=['accuracy'])\n"
   ]
  },
  {
   "cell_type": "code",
   "execution_count": 116,
   "metadata": {},
   "outputs": [],
   "source": [
    "from sklearn.model_selection import train_test_split\n",
    "from keras.utils import to_categorical\n",
    "\n",
    "# Convert labels to categorical (one-hot encoding)\n",
    "#y = to_categorical(y, num_classes=num_classes)\n",
    "\n",
    "# Split the data into training and testing sets\n",
    "X_train, X_test, y_train, y_test = train_test_split(X, y_cat, test_size=0.2, random_state=42, shuffle=False)"
   ]
  },
  {
   "cell_type": "code",
   "execution_count": 117,
   "metadata": {},
   "outputs": [
    {
     "name": "stdout",
     "output_type": "stream",
     "text": [
      "Epoch 1/20\n",
      "59/59 [==============================] - 10s 114ms/step - loss: 0.7470 - accuracy: 0.6618 - val_loss: 0.8020 - val_accuracy: 0.5454\n",
      "Epoch 2/20\n",
      "59/59 [==============================] - 6s 99ms/step - loss: 0.6120 - accuracy: 0.6936 - val_loss: 0.7422 - val_accuracy: 0.5119\n",
      "Epoch 3/20\n",
      "59/59 [==============================] - 6s 95ms/step - loss: 0.6010 - accuracy: 0.6962 - val_loss: 0.7312 - val_accuracy: 0.4730\n",
      "Epoch 4/20\n",
      "59/59 [==============================] - 5s 92ms/step - loss: 0.5959 - accuracy: 0.6969 - val_loss: 0.7304 - val_accuracy: 0.5342\n",
      "Epoch 5/20\n",
      "59/59 [==============================] - 5s 93ms/step - loss: 0.5866 - accuracy: 0.7003 - val_loss: 0.7294 - val_accuracy: 0.4955\n",
      "Epoch 6/20\n",
      "59/59 [==============================] - 5s 91ms/step - loss: 0.5852 - accuracy: 0.7032 - val_loss: 0.8358 - val_accuracy: 0.5234\n",
      "Epoch 7/20\n",
      "59/59 [==============================] - 5s 92ms/step - loss: 0.5741 - accuracy: 0.6990 - val_loss: 0.7586 - val_accuracy: 0.4620\n",
      "Epoch 8/20\n",
      "59/59 [==============================] - 5s 92ms/step - loss: 0.5695 - accuracy: 0.7061 - val_loss: 0.7106 - val_accuracy: 0.5059\n",
      "Epoch 9/20\n",
      "59/59 [==============================] - 5s 91ms/step - loss: 0.5665 - accuracy: 0.7039 - val_loss: 0.7096 - val_accuracy: 0.5200\n",
      "Epoch 10/20\n",
      "59/59 [==============================] - 5s 88ms/step - loss: 0.5603 - accuracy: 0.7094 - val_loss: 0.7431 - val_accuracy: 0.4773\n",
      "Epoch 11/20\n",
      "59/59 [==============================] - 5s 90ms/step - loss: 0.5568 - accuracy: 0.7120 - val_loss: 0.6859 - val_accuracy: 0.5389\n",
      "Epoch 12/20\n",
      "59/59 [==============================] - 5s 89ms/step - loss: 0.5625 - accuracy: 0.7099 - val_loss: 0.6913 - val_accuracy: 0.5563\n",
      "Epoch 13/20\n",
      "59/59 [==============================] - 5s 92ms/step - loss: 0.5671 - accuracy: 0.7077 - val_loss: 0.7056 - val_accuracy: 0.5246\n",
      "Epoch 14/20\n",
      "59/59 [==============================] - 6s 95ms/step - loss: 0.5435 - accuracy: 0.7218 - val_loss: 0.7104 - val_accuracy: 0.4909\n",
      "Epoch 15/20\n",
      "59/59 [==============================] - 6s 96ms/step - loss: 0.5407 - accuracy: 0.7214 - val_loss: 0.6969 - val_accuracy: 0.5030\n",
      "Epoch 16/20\n",
      "59/59 [==============================] - 6s 108ms/step - loss: 0.5485 - accuracy: 0.7181 - val_loss: 0.7538 - val_accuracy: 0.5127\n",
      "Epoch 17/20\n",
      "59/59 [==============================] - 5s 93ms/step - loss: 0.5367 - accuracy: 0.7228 - val_loss: 0.7680 - val_accuracy: 0.4764\n",
      "Epoch 18/20\n",
      "59/59 [==============================] - 6s 96ms/step - loss: 0.5256 - accuracy: 0.7378 - val_loss: 0.7180 - val_accuracy: 0.4936\n",
      "Epoch 19/20\n",
      "59/59 [==============================] - 6s 94ms/step - loss: 0.5373 - accuracy: 0.7231 - val_loss: 0.7341 - val_accuracy: 0.5433\n",
      "Epoch 20/20\n",
      "59/59 [==============================] - 5s 92ms/step - loss: 0.5322 - accuracy: 0.7221 - val_loss: 0.6939 - val_accuracy: 0.5028\n",
      "15/15 [==============================] - 0s 21ms/step - loss: 0.6939 - accuracy: 0.5028\n",
      "Test Loss: 0.6939494013786316, Test Accuracy: 0.502760112285614\n"
     ]
    }
   ],
   "source": [
    "\n",
    "\n",
    "# Train the model\n",
    "model.fit(X_train, y_train, epochs=20, batch_size=32, validation_data=(X_test, y_test))\n",
    "\n",
    "# Evaluate the model\n",
    "loss, accuracy = model.evaluate(X_test, y_test)\n",
    "print(f'Test Loss: {loss}, Test Accuracy: {accuracy}')\n"
   ]
  },
  {
   "cell_type": "code",
   "execution_count": 105,
   "metadata": {},
   "outputs": [
    {
     "name": "stdout",
     "output_type": "stream",
     "text": [
      "15/15 [==============================] - 1s 25ms/step\n"
     ]
    }
   ],
   "source": [
    "import numpy as np\n",
    "\n",
    "# Make predictions on the test data\n",
    "y_pred = model.predict(X_test)\n",
    "\n",
    "# Convert predictions from one-hot encoded format to label indices\n",
    "y_pred_labels = np.argmax(y_pred, axis=-1)\n"
   ]
  },
  {
   "cell_type": "code",
   "execution_count": 106,
   "metadata": {},
   "outputs": [],
   "source": [
    "# Decode predictions back to original labels\n",
    "y_pred_decoded = label_encoder.inverse_transform(y_pred_labels.flatten())\n",
    "\n",
    "# Reshape to match the original shape of the test labels\n",
    "y_pred_decoded = y_pred_decoded.reshape(y_pred_labels.shape)\n"
   ]
  },
  {
   "cell_type": "code",
   "execution_count": 107,
   "metadata": {},
   "outputs": [
    {
     "data": {
      "text/plain": [
       "array([['BUY', 'BUY', 'BUY', ..., 'BUY', 'BUY', 'SELL'],\n",
       "       ['BUY', 'BUY', 'BUY', ..., 'BUY', 'BUY', 'SELL'],\n",
       "       ['BUY', 'BUY', 'BUY', ..., 'BUY', 'BUY', 'SELL'],\n",
       "       ...,\n",
       "       ['BUY', 'BUY', 'SELL', ..., 'SELL', 'BUY', 'BUY'],\n",
       "       ['BUY', 'BUY', 'SELL', ..., 'SELL', 'BUY', 'BUY'],\n",
       "       ['BUY', 'BUY', 'SELL', ..., 'SELL', 'BUY', 'SELL']], dtype=object)"
      ]
     },
     "execution_count": 107,
     "metadata": {},
     "output_type": "execute_result"
    }
   ],
   "source": [
    "y_pred_decoded"
   ]
  },
  {
   "cell_type": "code",
   "execution_count": 108,
   "metadata": {},
   "outputs": [],
   "source": [
    "import pandas as pd\n",
    "\n",
    "# Split the dates to match the test set\n",
    "dates = otherdf.index[-len(y_pred_labels):]\n",
    "\n",
    "# Create a DataFrame with dates and predictions\n",
    "predictions_df = pd.DataFrame(data=y_pred_decoded, index=dates)\n",
    "\n",
    "# Flatten the DataFrame to have one signal per date\n",
    "predictions_df = predictions_df.apply(lambda x: x[0], axis=1)\n"
   ]
  },
  {
   "cell_type": "code",
   "execution_count": 118,
   "metadata": {},
   "outputs": [
    {
     "data": {
      "text/plain": [
       "Index(['8/1/2022', '8/2/2022', '8/3/2022', '8/4/2022', '8/5/2022', '8/8/2022',\n",
       "       '8/9/2022', '8/10/2022', '8/11/2022', '8/12/2022',\n",
       "       ...\n",
       "       '5/31/2024', '6/3/2024', '6/4/2024', '6/5/2024', '6/6/2024', '6/7/2024',\n",
       "       '6/10/2024', '6/11/2024', '6/12/2024', '6/13/2024'],\n",
       "      dtype='object', name='date', length=471)"
      ]
     },
     "execution_count": 118,
     "metadata": {},
     "output_type": "execute_result"
    }
   ],
   "source": [
    "dates"
   ]
  },
  {
   "cell_type": "code",
   "execution_count": 109,
   "metadata": {},
   "outputs": [
    {
     "data": {
      "text/plain": [
       "date\n",
       "8/1/2022    BUY\n",
       "8/2/2022    BUY\n",
       "8/3/2022    BUY\n",
       "8/4/2022    BUY\n",
       "8/5/2022    BUY\n",
       "dtype: object"
      ]
     },
     "execution_count": 109,
     "metadata": {},
     "output_type": "execute_result"
    }
   ],
   "source": [
    "predictions_df.head()"
   ]
  },
  {
   "cell_type": "code",
   "execution_count": 110,
   "metadata": {},
   "outputs": [
    {
     "data": {
      "image/png": "[encoded data removed]",
      "text/plain": [
       "<Figure size 1400x700 with 1 Axes>"
      ]
     },
     "metadata": {},
     "output_type": "display_data"
    }
   ],
   "source": [
    "import matplotlib.pyplot as plt\n",
    "\n",
    "# Plot the prices\n",
    "plt.figure(figsize=(14, 7))\n",
    "#plt.plot(otherdf.index, otherdf['close'], label='Price')\n",
    "\n",
    "# Plot BUY signals\n",
    "buy_signals = predictions_df[predictions_df == 'BUY'].index\n",
    "plt.scatter(buy_signals, otherdf.loc[buy_signals, 'close'], marker='^', color='g', label='BUY Signal', alpha=1)\n",
    "\n",
    "# Plot SELL signals\n",
    "sell_signals = predictions_df[predictions_df == 'SELL'].index\n",
    "plt.scatter(sell_signals, otherdf.loc[sell_signals, 'close'], marker='v', color='r', label='SELL Signal', alpha=1)\n",
    "\n",
    "# Optionally, plot HOLD signals (if needed)\n",
    "hold_signals = predictions_df[predictions_df == 'HOLD'].index\n",
    "plt.scatter(hold_signals, otherdf.loc[hold_signals, 'close'], marker='o', color='y', label='HOLD Signal', alpha=1)\n",
    "\n",
    "# Add labels and legend\n",
    "plt.xlabel('Date')\n",
    "plt.ylabel('Price')\n",
    "plt.title('Stock Price with BUY and SELL Signals')\n",
    "plt.legend()\n",
    "plt.grid()\n",
    "plt.show()\n"
   ]
  },
  {
   "cell_type": "code",
   "execution_count": 79,
   "metadata": {},
   "outputs": [
    {
     "data": {
      "text/plain": [
       "Index(['8/1/2022', '8/2/2022', '8/3/2022', '8/4/2022', '8/5/2022', '8/8/2022',\n",
       "       '8/9/2022', '8/10/2022', '8/11/2022', '8/12/2022',\n",
       "       ...\n",
       "       '4/10/2024', '4/11/2024', '6/4/2024', '6/5/2024', '6/6/2024',\n",
       "       '6/7/2024', '6/10/2024', '6/11/2024', '6/12/2024', '6/13/2024'],\n",
       "      dtype='object', name='date', length=193)"
      ]
     },
     "execution_count": 79,
     "metadata": {},
     "output_type": "execute_result"
    }
   ],
   "source": [
    "buy_signals"
   ]
  },
  {
   "cell_type": "code",
   "execution_count": null,
   "metadata": {},
   "outputs": [],
   "source": []
  }
 ],
 "metadata": {
  "kernelspec": {
   "display_name": "Python 3",
   "language": "python",
   "name": "python3"
  },
  "language_info": {
   "codemirror_mode": {
    "name": "ipython",
    "version": 3
   },
   "file_extension": ".py",
   "mimetype": "text/x-python",
   "name": "python",
   "nbconvert_exporter": "python",
   "pygments_lexer": "ipython3",
   "version": "3.10.14"
  }
 },
 "nbformat": 4,
 "nbformat_minor": 2
}
